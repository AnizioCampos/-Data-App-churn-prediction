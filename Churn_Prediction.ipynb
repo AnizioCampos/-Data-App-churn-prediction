{
 "cells": [
  {
   "cell_type": "code",
   "execution_count": 22,
   "metadata": {},
   "outputs": [],
   "source": [
    "#importando bibliotecas\n",
    "import numpy as np\n",
    "import pandas as pd\n",
    "from sklearn.model_selection import train_test_split, cross_val_score\n",
    "import matplotlib.pyplot as plt\n",
    "import seaborn as sns\n",
    "\n",
    "from sklearn.pipeline import make_pipeline\n",
    "from sklearn.preprocessing import MinMaxScaler, StandardScaler\n",
    "\n",
    "from sklearn.ensemble import RandomForestClassifier, GradientBoostingClassifier, AdaBoostClassifier\n",
    "from sklearn.tree import DecisionTreeClassifier, ExtraTreeClassifier\n",
    "from pycaret.classification import *\n",
    "from lightgbm import LGBMClassifier\n",
    "from sklearn.svm import SVC\n",
    "from sklearn.neighbors import KNeighborsClassifier\n",
    "from sklearn.linear_model import LogisticRegression\n",
    "from xgboost import XGBClassifier\n",
    "\n",
    "import tensorflow as tf\n",
    "from tensorflow import keras\n",
    "\n",
    "import warnings\n",
    "warnings.filterwarnings('ignore')"
   ]
  },
  {
   "cell_type": "code",
   "execution_count": 182,
   "metadata": {},
   "outputs": [],
   "source": [
    "#importando os dados\n",
    "data = pd.read_csv('WA_Fn-UseC_-Telco-Customer-Churn.csv')"
   ]
  },
  {
   "cell_type": "code",
   "execution_count": 24,
   "metadata": {},
   "outputs": [
    {
     "name": "stdout",
     "output_type": "stream",
     "text": [
      "Quantidade de linhas: 7043\n",
      "Quantidade de colunas: 21\n"
     ]
    }
   ],
   "source": [
    "print('Quantidade de linhas:', data.shape[0])\n",
    "print('Quantidade de colunas:', data.shape[1])"
   ]
  },
  {
   "cell_type": "code",
   "execution_count": 25,
   "metadata": {},
   "outputs": [
    {
     "data": {
      "text/html": [
       "<div>\n",
       "<style scoped>\n",
       "    .dataframe tbody tr th:only-of-type {\n",
       "        vertical-align: middle;\n",
       "    }\n",
       "\n",
       "    .dataframe tbody tr th {\n",
       "        vertical-align: top;\n",
       "    }\n",
       "\n",
       "    .dataframe thead th {\n",
       "        text-align: right;\n",
       "    }\n",
       "</style>\n",
       "<table border=\"1\" class=\"dataframe\">\n",
       "  <thead>\n",
       "    <tr style=\"text-align: right;\">\n",
       "      <th></th>\n",
       "      <th>0</th>\n",
       "      <th>1</th>\n",
       "      <th>2</th>\n",
       "      <th>3</th>\n",
       "      <th>4</th>\n",
       "    </tr>\n",
       "  </thead>\n",
       "  <tbody>\n",
       "    <tr>\n",
       "      <th>customerID</th>\n",
       "      <td>7590-VHVEG</td>\n",
       "      <td>5575-GNVDE</td>\n",
       "      <td>3668-QPYBK</td>\n",
       "      <td>7795-CFOCW</td>\n",
       "      <td>9237-HQITU</td>\n",
       "    </tr>\n",
       "    <tr>\n",
       "      <th>gender</th>\n",
       "      <td>Female</td>\n",
       "      <td>Male</td>\n",
       "      <td>Male</td>\n",
       "      <td>Male</td>\n",
       "      <td>Female</td>\n",
       "    </tr>\n",
       "    <tr>\n",
       "      <th>SeniorCitizen</th>\n",
       "      <td>0</td>\n",
       "      <td>0</td>\n",
       "      <td>0</td>\n",
       "      <td>0</td>\n",
       "      <td>0</td>\n",
       "    </tr>\n",
       "    <tr>\n",
       "      <th>Partner</th>\n",
       "      <td>Yes</td>\n",
       "      <td>No</td>\n",
       "      <td>No</td>\n",
       "      <td>No</td>\n",
       "      <td>No</td>\n",
       "    </tr>\n",
       "    <tr>\n",
       "      <th>Dependents</th>\n",
       "      <td>No</td>\n",
       "      <td>No</td>\n",
       "      <td>No</td>\n",
       "      <td>No</td>\n",
       "      <td>No</td>\n",
       "    </tr>\n",
       "    <tr>\n",
       "      <th>tenure</th>\n",
       "      <td>1</td>\n",
       "      <td>34</td>\n",
       "      <td>2</td>\n",
       "      <td>45</td>\n",
       "      <td>2</td>\n",
       "    </tr>\n",
       "    <tr>\n",
       "      <th>PhoneService</th>\n",
       "      <td>No</td>\n",
       "      <td>Yes</td>\n",
       "      <td>Yes</td>\n",
       "      <td>No</td>\n",
       "      <td>Yes</td>\n",
       "    </tr>\n",
       "    <tr>\n",
       "      <th>MultipleLines</th>\n",
       "      <td>No phone service</td>\n",
       "      <td>No</td>\n",
       "      <td>No</td>\n",
       "      <td>No phone service</td>\n",
       "      <td>No</td>\n",
       "    </tr>\n",
       "    <tr>\n",
       "      <th>InternetService</th>\n",
       "      <td>DSL</td>\n",
       "      <td>DSL</td>\n",
       "      <td>DSL</td>\n",
       "      <td>DSL</td>\n",
       "      <td>Fiber optic</td>\n",
       "    </tr>\n",
       "    <tr>\n",
       "      <th>OnlineSecurity</th>\n",
       "      <td>No</td>\n",
       "      <td>Yes</td>\n",
       "      <td>Yes</td>\n",
       "      <td>Yes</td>\n",
       "      <td>No</td>\n",
       "    </tr>\n",
       "    <tr>\n",
       "      <th>OnlineBackup</th>\n",
       "      <td>Yes</td>\n",
       "      <td>No</td>\n",
       "      <td>Yes</td>\n",
       "      <td>No</td>\n",
       "      <td>No</td>\n",
       "    </tr>\n",
       "    <tr>\n",
       "      <th>DeviceProtection</th>\n",
       "      <td>No</td>\n",
       "      <td>Yes</td>\n",
       "      <td>No</td>\n",
       "      <td>Yes</td>\n",
       "      <td>No</td>\n",
       "    </tr>\n",
       "    <tr>\n",
       "      <th>TechSupport</th>\n",
       "      <td>No</td>\n",
       "      <td>No</td>\n",
       "      <td>No</td>\n",
       "      <td>Yes</td>\n",
       "      <td>No</td>\n",
       "    </tr>\n",
       "    <tr>\n",
       "      <th>StreamingTV</th>\n",
       "      <td>No</td>\n",
       "      <td>No</td>\n",
       "      <td>No</td>\n",
       "      <td>No</td>\n",
       "      <td>No</td>\n",
       "    </tr>\n",
       "    <tr>\n",
       "      <th>StreamingMovies</th>\n",
       "      <td>No</td>\n",
       "      <td>No</td>\n",
       "      <td>No</td>\n",
       "      <td>No</td>\n",
       "      <td>No</td>\n",
       "    </tr>\n",
       "    <tr>\n",
       "      <th>Contract</th>\n",
       "      <td>Month-to-month</td>\n",
       "      <td>One year</td>\n",
       "      <td>Month-to-month</td>\n",
       "      <td>One year</td>\n",
       "      <td>Month-to-month</td>\n",
       "    </tr>\n",
       "    <tr>\n",
       "      <th>PaperlessBilling</th>\n",
       "      <td>Yes</td>\n",
       "      <td>No</td>\n",
       "      <td>Yes</td>\n",
       "      <td>No</td>\n",
       "      <td>Yes</td>\n",
       "    </tr>\n",
       "    <tr>\n",
       "      <th>PaymentMethod</th>\n",
       "      <td>Electronic check</td>\n",
       "      <td>Mailed check</td>\n",
       "      <td>Mailed check</td>\n",
       "      <td>Bank transfer (automatic)</td>\n",
       "      <td>Electronic check</td>\n",
       "    </tr>\n",
       "    <tr>\n",
       "      <th>MonthlyCharges</th>\n",
       "      <td>29.85</td>\n",
       "      <td>56.95</td>\n",
       "      <td>53.85</td>\n",
       "      <td>42.3</td>\n",
       "      <td>70.7</td>\n",
       "    </tr>\n",
       "    <tr>\n",
       "      <th>TotalCharges</th>\n",
       "      <td>29.85</td>\n",
       "      <td>1889.5</td>\n",
       "      <td>108.15</td>\n",
       "      <td>1840.75</td>\n",
       "      <td>151.65</td>\n",
       "    </tr>\n",
       "    <tr>\n",
       "      <th>Churn</th>\n",
       "      <td>No</td>\n",
       "      <td>No</td>\n",
       "      <td>Yes</td>\n",
       "      <td>No</td>\n",
       "      <td>Yes</td>\n",
       "    </tr>\n",
       "  </tbody>\n",
       "</table>\n",
       "</div>"
      ],
      "text/plain": [
       "                                 0             1               2  \\\n",
       "customerID              7590-VHVEG    5575-GNVDE      3668-QPYBK   \n",
       "gender                      Female          Male            Male   \n",
       "SeniorCitizen                    0             0               0   \n",
       "Partner                        Yes            No              No   \n",
       "Dependents                      No            No              No   \n",
       "tenure                           1            34               2   \n",
       "PhoneService                    No           Yes             Yes   \n",
       "MultipleLines     No phone service            No              No   \n",
       "InternetService                DSL           DSL             DSL   \n",
       "OnlineSecurity                  No           Yes             Yes   \n",
       "OnlineBackup                   Yes            No             Yes   \n",
       "DeviceProtection                No           Yes              No   \n",
       "TechSupport                     No            No              No   \n",
       "StreamingTV                     No            No              No   \n",
       "StreamingMovies                 No            No              No   \n",
       "Contract            Month-to-month      One year  Month-to-month   \n",
       "PaperlessBilling               Yes            No             Yes   \n",
       "PaymentMethod     Electronic check  Mailed check    Mailed check   \n",
       "MonthlyCharges               29.85         56.95           53.85   \n",
       "TotalCharges                 29.85        1889.5          108.15   \n",
       "Churn                           No            No             Yes   \n",
       "\n",
       "                                          3                 4  \n",
       "customerID                       7795-CFOCW        9237-HQITU  \n",
       "gender                                 Male            Female  \n",
       "SeniorCitizen                             0                 0  \n",
       "Partner                                  No                No  \n",
       "Dependents                               No                No  \n",
       "tenure                                   45                 2  \n",
       "PhoneService                             No               Yes  \n",
       "MultipleLines              No phone service                No  \n",
       "InternetService                         DSL       Fiber optic  \n",
       "OnlineSecurity                          Yes                No  \n",
       "OnlineBackup                             No                No  \n",
       "DeviceProtection                        Yes                No  \n",
       "TechSupport                             Yes                No  \n",
       "StreamingTV                              No                No  \n",
       "StreamingMovies                          No                No  \n",
       "Contract                           One year    Month-to-month  \n",
       "PaperlessBilling                         No               Yes  \n",
       "PaymentMethod     Bank transfer (automatic)  Electronic check  \n",
       "MonthlyCharges                         42.3              70.7  \n",
       "TotalCharges                        1840.75            151.65  \n",
       "Churn                                    No               Yes  "
      ]
     },
     "execution_count": 25,
     "metadata": {},
     "output_type": "execute_result"
    }
   ],
   "source": [
    "data.head().T"
   ]
  },
  {
   "cell_type": "markdown",
   "metadata": {},
   "source": [
    "- tenure = Number of months the customer has stayed with the company\n",
    "- PhoneService = Whether the customer has a phone service or not (Yes, No)\n",
    "- MultipleLines = Whether the customer has multiple lines or not (Yes, No, No phone service)\n",
    "- InternetService = Customer’s internet service provider (DSL, Fiber optic, No)\n",
    "- OnlineSecurity = Whether the customer has online security or not (Yes, No, No internet service)"
   ]
  },
  {
   "cell_type": "code",
   "execution_count": 26,
   "metadata": {},
   "outputs": [
    {
     "name": "stdout",
     "output_type": "stream",
     "text": [
      "<class 'pandas.core.frame.DataFrame'>\n",
      "RangeIndex: 7043 entries, 0 to 7042\n",
      "Data columns (total 21 columns):\n",
      " #   Column            Non-Null Count  Dtype  \n",
      "---  ------            --------------  -----  \n",
      " 0   customerID        7043 non-null   object \n",
      " 1   gender            7043 non-null   object \n",
      " 2   SeniorCitizen     7043 non-null   int64  \n",
      " 3   Partner           7043 non-null   object \n",
      " 4   Dependents        7043 non-null   object \n",
      " 5   tenure            7043 non-null   int64  \n",
      " 6   PhoneService      7043 non-null   object \n",
      " 7   MultipleLines     7043 non-null   object \n",
      " 8   InternetService   7043 non-null   object \n",
      " 9   OnlineSecurity    7043 non-null   object \n",
      " 10  OnlineBackup      7043 non-null   object \n",
      " 11  DeviceProtection  7043 non-null   object \n",
      " 12  TechSupport       7043 non-null   object \n",
      " 13  StreamingTV       7043 non-null   object \n",
      " 14  StreamingMovies   7043 non-null   object \n",
      " 15  Contract          7043 non-null   object \n",
      " 16  PaperlessBilling  7043 non-null   object \n",
      " 17  PaymentMethod     7043 non-null   object \n",
      " 18  MonthlyCharges    7043 non-null   float64\n",
      " 19  TotalCharges      7043 non-null   object \n",
      " 20  Churn             7043 non-null   object \n",
      "dtypes: float64(1), int64(2), object(18)\n",
      "memory usage: 1.1+ MB\n"
     ]
    }
   ],
   "source": [
    "#informações sobre as variáveis\n",
    "data.info()"
   ]
  },
  {
   "cell_type": "code",
   "execution_count": 183,
   "metadata": {},
   "outputs": [],
   "source": [
    "#por algum motivo desconhecido a variável TotalCharges veio como tipo object\n",
    "#nos passos abaixo vamos transformar ela em float\n",
    "\n",
    "#retirando ' ' antes e depois dos valores\n",
    "data['TotalCharges'] = data['TotalCharges'].map(lambda i: i.strip())\n",
    "#substituindo valores faltantes por zero\n",
    "data['TotalCharges'] = data['TotalCharges'].map(lambda i: 0 if i=='' else i)\n",
    "#transformando os valores em números float\n",
    "data['TotalCharges'] = data['TotalCharges'].map(lambda i:float(i))"
   ]
  },
  {
   "cell_type": "code",
   "execution_count": 28,
   "metadata": {},
   "outputs": [
    {
     "data": {
      "text/plain": [
       "customerID          0\n",
       "gender              0\n",
       "SeniorCitizen       0\n",
       "Partner             0\n",
       "Dependents          0\n",
       "tenure              0\n",
       "PhoneService        0\n",
       "MultipleLines       0\n",
       "InternetService     0\n",
       "OnlineSecurity      0\n",
       "OnlineBackup        0\n",
       "DeviceProtection    0\n",
       "TechSupport         0\n",
       "StreamingTV         0\n",
       "StreamingMovies     0\n",
       "Contract            0\n",
       "PaperlessBilling    0\n",
       "PaymentMethod       0\n",
       "MonthlyCharges      0\n",
       "TotalCharges        0\n",
       "Churn               0\n",
       "dtype: int64"
      ]
     },
     "execution_count": 28,
     "metadata": {},
     "output_type": "execute_result"
    }
   ],
   "source": [
    "data.isnull().sum()"
   ]
  },
  {
   "cell_type": "code",
   "execution_count": 29,
   "metadata": {},
   "outputs": [
    {
     "data": {
      "text/html": [
       "<div>\n",
       "<style scoped>\n",
       "    .dataframe tbody tr th:only-of-type {\n",
       "        vertical-align: middle;\n",
       "    }\n",
       "\n",
       "    .dataframe tbody tr th {\n",
       "        vertical-align: top;\n",
       "    }\n",
       "\n",
       "    .dataframe thead th {\n",
       "        text-align: right;\n",
       "    }\n",
       "</style>\n",
       "<table border=\"1\" class=\"dataframe\">\n",
       "  <thead>\n",
       "    <tr style=\"text-align: right;\">\n",
       "      <th></th>\n",
       "      <th>tenure</th>\n",
       "      <th>MonthlyCharges</th>\n",
       "      <th>TotalCharges</th>\n",
       "    </tr>\n",
       "  </thead>\n",
       "  <tbody>\n",
       "    <tr>\n",
       "      <th>count</th>\n",
       "      <td>7043.000000</td>\n",
       "      <td>7043.000000</td>\n",
       "      <td>7043.000000</td>\n",
       "    </tr>\n",
       "    <tr>\n",
       "      <th>mean</th>\n",
       "      <td>32.371149</td>\n",
       "      <td>64.761692</td>\n",
       "      <td>2279.734304</td>\n",
       "    </tr>\n",
       "    <tr>\n",
       "      <th>std</th>\n",
       "      <td>24.559481</td>\n",
       "      <td>30.090047</td>\n",
       "      <td>2266.794470</td>\n",
       "    </tr>\n",
       "    <tr>\n",
       "      <th>min</th>\n",
       "      <td>0.000000</td>\n",
       "      <td>18.250000</td>\n",
       "      <td>0.000000</td>\n",
       "    </tr>\n",
       "    <tr>\n",
       "      <th>25%</th>\n",
       "      <td>9.000000</td>\n",
       "      <td>35.500000</td>\n",
       "      <td>398.550000</td>\n",
       "    </tr>\n",
       "    <tr>\n",
       "      <th>50%</th>\n",
       "      <td>29.000000</td>\n",
       "      <td>70.350000</td>\n",
       "      <td>1394.550000</td>\n",
       "    </tr>\n",
       "    <tr>\n",
       "      <th>75%</th>\n",
       "      <td>55.000000</td>\n",
       "      <td>89.850000</td>\n",
       "      <td>3786.600000</td>\n",
       "    </tr>\n",
       "    <tr>\n",
       "      <th>max</th>\n",
       "      <td>72.000000</td>\n",
       "      <td>118.750000</td>\n",
       "      <td>8684.800000</td>\n",
       "    </tr>\n",
       "  </tbody>\n",
       "</table>\n",
       "</div>"
      ],
      "text/plain": [
       "            tenure  MonthlyCharges  TotalCharges\n",
       "count  7043.000000     7043.000000   7043.000000\n",
       "mean     32.371149       64.761692   2279.734304\n",
       "std      24.559481       30.090047   2266.794470\n",
       "min       0.000000       18.250000      0.000000\n",
       "25%       9.000000       35.500000    398.550000\n",
       "50%      29.000000       70.350000   1394.550000\n",
       "75%      55.000000       89.850000   3786.600000\n",
       "max      72.000000      118.750000   8684.800000"
      ]
     },
     "execution_count": 29,
     "metadata": {},
     "output_type": "execute_result"
    }
   ],
   "source": [
    "data[['tenure', 'MonthlyCharges', 'TotalCharges']].describe()"
   ]
  },
  {
   "cell_type": "markdown",
   "metadata": {},
   "source": [
    "Insights:\n",
    "- Sem valores faltantes\n",
    "- a maioria das variáveis estão no formato object\n",
    "- o desvio padrão da variável TotalCharges está quase igual a média, isso pode ser um indicativo de outliers"
   ]
  },
  {
   "cell_type": "code",
   "execution_count": 11,
   "metadata": {},
   "outputs": [],
   "source": [
    "#separando variável alvo\n",
    "y = data['Churn']\n",
    "\n",
    "#dataframe com as variáveis independentes\n",
    "X = data.drop(columns='Churn', axis=1)"
   ]
  },
  {
   "cell_type": "markdown",
   "metadata": {},
   "source": [
    "# Funções auxiliares"
   ]
  },
  {
   "cell_type": "code",
   "execution_count": 178,
   "metadata": {},
   "outputs": [],
   "source": [
    "#criei essa função para avaliar a normalidade de algumas colunas\n",
    "def teste_normal(coluna):\n",
    "    from scipy.stats import normaltest\n",
    "    print('A hipótese H0 assume que a amostra É proveniente de uma distribuição normal.')\n",
    "    print('A hipósete H1 assume que a a mostra NÃO é proveniente de uma distribuição normal.')\n",
    "    print('')\n",
    "    print('significância = 0.05')\n",
    "    print('')\n",
    "    print('Se P_VALOR < SINIFICÂNCIA, H0 é refutada, não é normal.')\n",
    "    print('Se P_VALOR > SINIFICÂNCIA, H1 é refutada, é normal.')\n",
    "    print('')\n",
    "    print('')\n",
    "    stat_test, p_valor = normaltest(coluna)\n",
    "    if p_valor < 0.05:\n",
    "        print('p_valor = {}, H0 refutada, NÃO É NORMAL'.format(p_valor))\n",
    "    else:\n",
    "        print('p_valor = {}, H1 refutada, É NORMAL'.format(p_valor))\n",
    "        \n",
    "#------------------------------------------------------------------------------------------------------------------------------------------------------------------------\n",
    "# Teste de hipóteses para variáveis categóricas \n",
    "# Nesse teste verificamos se a diferença do valor observado e do valor esperado é estatísticamente significativa\n",
    "\n",
    "def teste_qui_quadrado(val1, val2):\n",
    "    significancia = 0.1\n",
    "    import pandas as pd\n",
    "    from scipy.stats import chi2_contingency\n",
    "    print('Hipótese H0: a diferença entre o valor observado e o valor esperado NÃO É estatísticamente diferente de zero (p_valor < significância)')\n",
    "    print('Hipótese H1: a diferença entre o valor observado e o valor esperado É estatísticamente diferente de zero (p_valor > significância)')\n",
    "    print('significância = {}'.format(significancia))\n",
    "    print('')\n",
    "    tabela = pd.crosstab(val1, val2)\n",
    "    val =  chi2_contingency(tabela)\n",
    "    p_valor = val[1]\n",
    "    \n",
    "    if p_valor > significancia:\n",
    "        print('p_valor é {:.4f}, NÃO tem relação'.format(p_valor))\n",
    "    else:\n",
    "        print('p_valor é {:.4f}, TEM relação'.format(p_valor))\n",
    "        \n",
    "#------------------------------------------------------------------------------------------------------------------------------------------------------------------------\n",
    "# Teste de hipóteses para variáveis contínuas\n",
    "# Nesse teste verificamos se as distribuições de duas amostras independentes são iguais ou não.\n",
    "# Esse teste é não paramétrico, então não precisamos que as amostras sejam normais.\n",
    "\n",
    "# Premissa: \n",
    "# 1) As observações em cada amostra são independentes e distribuídas de forma idêntica (iid).\n",
    "\n",
    "def teste_nao_parametrico(amostra1, amostra2):\n",
    "    significancia = 0.1\n",
    "    from scipy.stats import mannwhitneyu\n",
    "    \n",
    "    print('H0: a distribuição das duas amostras são iguais')\n",
    "    print('H1: a distribuição das duas amostras NÃO são iguais')\n",
    "\n",
    "    stat, p_valor = mannwhitneyu(amostra1, amostra2)\n",
    "    if p_valor > significancia:\n",
    "        print('P_valor é {}, provavalmente NÃO tem relação'.format(p_valor))\n",
    "    else:\n",
    "        print('P_valor é {}, provavalmente TEM relação'.format(p_valor))"
   ]
  },
  {
   "cell_type": "markdown",
   "metadata": {},
   "source": [
    "# 1) -gender-\n",
    "Representa o gênero do cliente"
   ]
  },
  {
   "cell_type": "markdown",
   "metadata": {},
   "source": [
    "### Hipótese 1: O gênero tem relação com a taxa de Churn? "
   ]
  },
  {
   "cell_type": "code",
   "execution_count": 32,
   "metadata": {},
   "outputs": [
    {
     "data": {
      "text/plain": [
       "Male      0.504756\n",
       "Female    0.495244\n",
       "Name: gender, dtype: float64"
      ]
     },
     "execution_count": 32,
     "metadata": {},
     "output_type": "execute_result"
    }
   ],
   "source": [
    "#proporção de homens e mulheres \n",
    "data['gender'].value_counts(normalize=True)"
   ]
  },
  {
   "cell_type": "code",
   "execution_count": 46,
   "metadata": {},
   "outputs": [
    {
     "data": {
      "text/html": [
       "<div>\n",
       "<style scoped>\n",
       "    .dataframe tbody tr th:only-of-type {\n",
       "        vertical-align: middle;\n",
       "    }\n",
       "\n",
       "    .dataframe tbody tr th {\n",
       "        vertical-align: top;\n",
       "    }\n",
       "\n",
       "    .dataframe thead th {\n",
       "        text-align: right;\n",
       "    }\n",
       "</style>\n",
       "<table border=\"1\" class=\"dataframe\">\n",
       "  <thead>\n",
       "    <tr style=\"text-align: right;\">\n",
       "      <th>Churn</th>\n",
       "      <th>No</th>\n",
       "      <th>Yes</th>\n",
       "    </tr>\n",
       "    <tr>\n",
       "      <th>gender</th>\n",
       "      <th></th>\n",
       "      <th></th>\n",
       "    </tr>\n",
       "  </thead>\n",
       "  <tbody>\n",
       "    <tr>\n",
       "      <th>Female</th>\n",
       "      <td>0.730791</td>\n",
       "      <td>0.269209</td>\n",
       "    </tr>\n",
       "    <tr>\n",
       "      <th>Male</th>\n",
       "      <td>0.738397</td>\n",
       "      <td>0.261603</td>\n",
       "    </tr>\n",
       "  </tbody>\n",
       "</table>\n",
       "</div>"
      ],
      "text/plain": [
       "Churn         No       Yes\n",
       "gender                    \n",
       "Female  0.730791  0.269209\n",
       "Male    0.738397  0.261603"
      ]
     },
     "execution_count": 46,
     "metadata": {},
     "output_type": "execute_result"
    }
   ],
   "source": [
    "tabela_gender = pd.crosstab(data['gender'], data['Churn'], normalize='index')\n",
    "tabela_gender"
   ]
  },
  {
   "cell_type": "code",
   "execution_count": 50,
   "metadata": {},
   "outputs": [
    {
     "data": {
      "image/png": "[encoded data removed]",
      "text/plain": [
       "<Figure size 1440x432 with 2 Axes>"
      ]
     },
     "metadata": {
      "needs_background": "light"
     },
     "output_type": "display_data"
    }
   ],
   "source": [
    "fig = plt.figure(figsize=(20,6))\n",
    "plt.subplot(1,2,1)\n",
    "data['gender'].value_counts(normalize=True).plot(kind='bar')\n",
    "plt.title('proporção dos gêneros', fontdict={'fontsize':20})\n",
    "plt.subplot(1,2,2)\n",
    "sns.countplot(data=data, x='gender', hue='Churn', palette=['green','red'])\n",
    "plt.title('gênero X Churn', fontdict={'fontsize':20})\n",
    "plt.show()"
   ]
  },
  {
   "cell_type": "code",
   "execution_count": 51,
   "metadata": {},
   "outputs": [
    {
     "name": "stdout",
     "output_type": "stream",
     "text": [
      "Hipótese H0: a diferença entre o valor observado e o valor esperado NÃO É estatísticamente diferente de zero (p_valor < significância)\n",
      "Hipótese H1: a diferença entre o valor observado e o valor esperado É estatísticamente diferente de zero (p_valor > significância)\n",
      "significância = 0.1\n",
      "\n",
      "p_valor é 0.4866, NÃO tem relação\n"
     ]
    }
   ],
   "source": [
    "teste_qui_quadrado(data['gender'], data['Churn'])"
   ]
  },
  {
   "cell_type": "markdown",
   "metadata": {},
   "source": [
    "Insights:\n",
    "- Hipótese 1 refutada, o gênero NÃO TEM relação com a taxa de Churn"
   ]
  },
  {
   "cell_type": "markdown",
   "metadata": {},
   "source": [
    "# 2) -SeniorCitizen-\n",
    "Quer dizer se o cliente é idoso ou não"
   ]
  },
  {
   "cell_type": "markdown",
   "metadata": {},
   "source": [
    "### Hipótese 2: Ser idoso tem relação com a taxa de Churn? "
   ]
  },
  {
   "cell_type": "code",
   "execution_count": 52,
   "metadata": {},
   "outputs": [
    {
     "data": {
      "text/plain": [
       "0    0.837853\n",
       "1    0.162147\n",
       "Name: SeniorCitizen, dtype: float64"
      ]
     },
     "execution_count": 52,
     "metadata": {},
     "output_type": "execute_result"
    }
   ],
   "source": [
    "#proporção de homens e mulheres \n",
    "data['SeniorCitizen'].value_counts(normalize=True)"
   ]
  },
  {
   "cell_type": "code",
   "execution_count": 53,
   "metadata": {},
   "outputs": [
    {
     "data": {
      "text/html": [
       "<div>\n",
       "<style scoped>\n",
       "    .dataframe tbody tr th:only-of-type {\n",
       "        vertical-align: middle;\n",
       "    }\n",
       "\n",
       "    .dataframe tbody tr th {\n",
       "        vertical-align: top;\n",
       "    }\n",
       "\n",
       "    .dataframe thead th {\n",
       "        text-align: right;\n",
       "    }\n",
       "</style>\n",
       "<table border=\"1\" class=\"dataframe\">\n",
       "  <thead>\n",
       "    <tr style=\"text-align: right;\">\n",
       "      <th>Churn</th>\n",
       "      <th>No</th>\n",
       "      <th>Yes</th>\n",
       "    </tr>\n",
       "    <tr>\n",
       "      <th>SeniorCitizen</th>\n",
       "      <th></th>\n",
       "      <th></th>\n",
       "    </tr>\n",
       "  </thead>\n",
       "  <tbody>\n",
       "    <tr>\n",
       "      <th>0</th>\n",
       "      <td>0.763938</td>\n",
       "      <td>0.236062</td>\n",
       "    </tr>\n",
       "    <tr>\n",
       "      <th>1</th>\n",
       "      <td>0.583187</td>\n",
       "      <td>0.416813</td>\n",
       "    </tr>\n",
       "  </tbody>\n",
       "</table>\n",
       "</div>"
      ],
      "text/plain": [
       "Churn                No       Yes\n",
       "SeniorCitizen                    \n",
       "0              0.763938  0.236062\n",
       "1              0.583187  0.416813"
      ]
     },
     "execution_count": 53,
     "metadata": {},
     "output_type": "execute_result"
    }
   ],
   "source": [
    "tabela_SeniorCitizen = pd.crosstab(data['SeniorCitizen'], data['Churn'], normalize='index')\n",
    "tabela_SeniorCitizen"
   ]
  },
  {
   "cell_type": "code",
   "execution_count": 54,
   "metadata": {},
   "outputs": [
    {
     "data": {
      "image/png": "[encoded data removed]",
      "text/plain": [
       "<Figure size 1440x432 with 2 Axes>"
      ]
     },
     "metadata": {
      "needs_background": "light"
     },
     "output_type": "display_data"
    }
   ],
   "source": [
    "fig = plt.figure(figsize=(20,6))\n",
    "plt.subplot(1,2,1)\n",
    "data['SeniorCitizen'].value_counts(normalize=True).plot(kind='bar')\n",
    "plt.title('proporção de idosos', fontdict={'fontsize':20})\n",
    "plt.subplot(1,2,2)\n",
    "sns.countplot(data=data, x='SeniorCitizen', hue='Churn', palette=['green','red'])\n",
    "plt.title('idoso X Churn', fontdict={'fontsize':20})\n",
    "plt.show()"
   ]
  },
  {
   "cell_type": "code",
   "execution_count": 59,
   "metadata": {},
   "outputs": [
    {
     "name": "stdout",
     "output_type": "stream",
     "text": [
      "Hipótese H0: a diferença entre o valor observado e o valor esperado NÃO É estatísticamente diferente de zero (p_valor < significância)\n",
      "Hipótese H1: a diferença entre o valor observado e o valor esperado É estatísticamente diferente de zero (p_valor > significância)\n",
      "significância = 0.1\n",
      "\n",
      "p_valor é 0.0000, TEM relação\n"
     ]
    }
   ],
   "source": [
    "teste_qui_quadrado(data['SeniorCitizen'], data['Churn'])"
   ]
  },
  {
   "cell_type": "markdown",
   "metadata": {},
   "source": [
    "Insight:\n",
    "- Hipótese 2 não refutada, ser idoso TEM relação com a taxa de Churn"
   ]
  },
  {
   "cell_type": "markdown",
   "metadata": {},
   "source": [
    "# 3) -Partner-\n",
    "Representa se o cliente tem ou não um parceiro(a)"
   ]
  },
  {
   "cell_type": "markdown",
   "metadata": {},
   "source": [
    "### Hipótese 3: Ter um parceiro tem relação com a taxa de Churn? "
   ]
  },
  {
   "cell_type": "code",
   "execution_count": 55,
   "metadata": {},
   "outputs": [
    {
     "data": {
      "text/plain": [
       "No     0.516967\n",
       "Yes    0.483033\n",
       "Name: Partner, dtype: float64"
      ]
     },
     "execution_count": 55,
     "metadata": {},
     "output_type": "execute_result"
    }
   ],
   "source": [
    "data['Partner'].value_counts(normalize=True)"
   ]
  },
  {
   "cell_type": "code",
   "execution_count": 63,
   "metadata": {},
   "outputs": [
    {
     "data": {
      "text/html": [
       "<div>\n",
       "<style scoped>\n",
       "    .dataframe tbody tr th:only-of-type {\n",
       "        vertical-align: middle;\n",
       "    }\n",
       "\n",
       "    .dataframe tbody tr th {\n",
       "        vertical-align: top;\n",
       "    }\n",
       "\n",
       "    .dataframe thead th {\n",
       "        text-align: right;\n",
       "    }\n",
       "</style>\n",
       "<table border=\"1\" class=\"dataframe\">\n",
       "  <thead>\n",
       "    <tr style=\"text-align: right;\">\n",
       "      <th>Churn</th>\n",
       "      <th>No</th>\n",
       "      <th>Yes</th>\n",
       "    </tr>\n",
       "    <tr>\n",
       "      <th>Partner</th>\n",
       "      <th></th>\n",
       "      <th></th>\n",
       "    </tr>\n",
       "  </thead>\n",
       "  <tbody>\n",
       "    <tr>\n",
       "      <th>No</th>\n",
       "      <td>0.670420</td>\n",
       "      <td>0.329580</td>\n",
       "    </tr>\n",
       "    <tr>\n",
       "      <th>Yes</th>\n",
       "      <td>0.803351</td>\n",
       "      <td>0.196649</td>\n",
       "    </tr>\n",
       "  </tbody>\n",
       "</table>\n",
       "</div>"
      ],
      "text/plain": [
       "Churn          No       Yes\n",
       "Partner                    \n",
       "No       0.670420  0.329580\n",
       "Yes      0.803351  0.196649"
      ]
     },
     "execution_count": 63,
     "metadata": {},
     "output_type": "execute_result"
    }
   ],
   "source": [
    "tabela_Partner = pd.crosstab(data['Partner'], data['Churn'], normalize='index')\n",
    "tabela_Partner"
   ]
  },
  {
   "cell_type": "code",
   "execution_count": 61,
   "metadata": {},
   "outputs": [
    {
     "data": {
      "image/png": "[encoded data removed]",
      "text/plain": [
       "<Figure size 1440x432 with 2 Axes>"
      ]
     },
     "metadata": {
      "needs_background": "light"
     },
     "output_type": "display_data"
    }
   ],
   "source": [
    "fig = plt.figure(figsize=(20,6))\n",
    "plt.subplot(1,2,1)\n",
    "data['Partner'].value_counts(normalize=True).plot(kind='bar')\n",
    "plt.title('proporção parceiro', fontdict={'fontsize':20})\n",
    "plt.subplot(1,2,2)\n",
    "sns.countplot(data=data, x='Partner', hue='Churn', palette=['green','red'])\n",
    "plt.title('parceiro X Churn', fontdict={'fontsize':20})\n",
    "plt.show()"
   ]
  },
  {
   "cell_type": "code",
   "execution_count": 60,
   "metadata": {},
   "outputs": [
    {
     "name": "stdout",
     "output_type": "stream",
     "text": [
      "Hipótese H0: a diferença entre o valor observado e o valor esperado NÃO É estatísticamente diferente de zero (p_valor < significância)\n",
      "Hipótese H1: a diferença entre o valor observado e o valor esperado É estatísticamente diferente de zero (p_valor > significância)\n",
      "significância = 0.1\n",
      "\n",
      "p_valor é 0.0000, TEM relação\n"
     ]
    }
   ],
   "source": [
    "teste_qui_quadrado(data['Partner'], data['Churn'])"
   ]
  },
  {
   "cell_type": "markdown",
   "metadata": {},
   "source": [
    "Insight:\n",
    "- Na tabelinha acima podemos observar que pessoas que tem um parceiro(a) tem uma tendência menor a realizar Churn\n",
    "- Hipótese 3 não refutada, ter um parceiro(a) TEM relação com a taxa de Churn"
   ]
  },
  {
   "cell_type": "markdown",
   "metadata": {},
   "source": [
    "# 4) -Dependents-\n",
    "Representa se o cliente tem ou não dependentes"
   ]
  },
  {
   "cell_type": "markdown",
   "metadata": {},
   "source": [
    "### Hipótese 4: Temos uma taxa de churn maior em pessoas com dependentes? "
   ]
  },
  {
   "cell_type": "code",
   "execution_count": 62,
   "metadata": {},
   "outputs": [
    {
     "data": {
      "text/plain": [
       "No     0.700412\n",
       "Yes    0.299588\n",
       "Name: Dependents, dtype: float64"
      ]
     },
     "execution_count": 62,
     "metadata": {},
     "output_type": "execute_result"
    }
   ],
   "source": [
    "data['Dependents'].value_counts(normalize=True)"
   ]
  },
  {
   "cell_type": "code",
   "execution_count": 64,
   "metadata": {},
   "outputs": [
    {
     "data": {
      "text/html": [
       "<div>\n",
       "<style scoped>\n",
       "    .dataframe tbody tr th:only-of-type {\n",
       "        vertical-align: middle;\n",
       "    }\n",
       "\n",
       "    .dataframe tbody tr th {\n",
       "        vertical-align: top;\n",
       "    }\n",
       "\n",
       "    .dataframe thead th {\n",
       "        text-align: right;\n",
       "    }\n",
       "</style>\n",
       "<table border=\"1\" class=\"dataframe\">\n",
       "  <thead>\n",
       "    <tr style=\"text-align: right;\">\n",
       "      <th>Churn</th>\n",
       "      <th>No</th>\n",
       "      <th>Yes</th>\n",
       "    </tr>\n",
       "    <tr>\n",
       "      <th>Partner</th>\n",
       "      <th></th>\n",
       "      <th></th>\n",
       "    </tr>\n",
       "  </thead>\n",
       "  <tbody>\n",
       "    <tr>\n",
       "      <th>No</th>\n",
       "      <td>0.670420</td>\n",
       "      <td>0.329580</td>\n",
       "    </tr>\n",
       "    <tr>\n",
       "      <th>Yes</th>\n",
       "      <td>0.803351</td>\n",
       "      <td>0.196649</td>\n",
       "    </tr>\n",
       "  </tbody>\n",
       "</table>\n",
       "</div>"
      ],
      "text/plain": [
       "Churn          No       Yes\n",
       "Partner                    \n",
       "No       0.670420  0.329580\n",
       "Yes      0.803351  0.196649"
      ]
     },
     "execution_count": 64,
     "metadata": {},
     "output_type": "execute_result"
    }
   ],
   "source": [
    "tabela_Dependents = pd.crosstab(data['Partner'], data['Churn'], normalize='index')\n",
    "tabela_Dependents"
   ]
  },
  {
   "cell_type": "code",
   "execution_count": 65,
   "metadata": {},
   "outputs": [
    {
     "data": {
      "image/png": "[encoded data removed]",
      "text/plain": [
       "<Figure size 1440x432 with 2 Axes>"
      ]
     },
     "metadata": {
      "needs_background": "light"
     },
     "output_type": "display_data"
    }
   ],
   "source": [
    "fig = plt.figure(figsize=(20,6))\n",
    "plt.subplot(1,2,1)\n",
    "data['Dependents'].value_counts(normalize=True).plot(kind='bar')\n",
    "plt.title('dependentes proporção', fontdict={'fontsize':20})\n",
    "plt.subplot(1,2,2)\n",
    "sns.countplot(data=data, x='Dependents', hue='Churn', palette=['green','red'])\n",
    "plt.title('dependentes X Churn', fontdict={'fontsize':20})\n",
    "plt.show()"
   ]
  },
  {
   "cell_type": "code",
   "execution_count": 66,
   "metadata": {},
   "outputs": [
    {
     "name": "stdout",
     "output_type": "stream",
     "text": [
      "Hipótese H0: a diferença entre o valor observado e o valor esperado NÃO É estatísticamente diferente de zero (p_valor < significância)\n",
      "Hipótese H1: a diferença entre o valor observado e o valor esperado É estatísticamente diferente de zero (p_valor > significância)\n",
      "significância = 0.1\n",
      "\n",
      "p_valor é 0.0000, TEM relação\n"
     ]
    }
   ],
   "source": [
    "teste_qui_quadrado(data['Dependents'], data['Churn'])"
   ]
  },
  {
   "cell_type": "markdown",
   "metadata": {},
   "source": [
    "Insights:\n",
    "- Hipótese 4 não refutada, ter dependentes TEM relação com a taxa de Churn"
   ]
  },
  {
   "cell_type": "markdown",
   "metadata": {},
   "source": [
    "# 5) -tenure-\n",
    "Representa a quantidade de meses que o cliente permaneceu na empresa"
   ]
  },
  {
   "cell_type": "markdown",
   "metadata": {},
   "source": [
    "### Hipótese 5: Temos uma diferença significativa estatísticamente para a distribuição de meses de permanência (tenure) dos clientes que realizaram churn ou não? "
   ]
  },
  {
   "cell_type": "code",
   "execution_count": 70,
   "metadata": {},
   "outputs": [
    {
     "data": {
      "text/plain": [
       "count    7043.000000\n",
       "mean       32.371149\n",
       "std        24.559481\n",
       "min         0.000000\n",
       "25%         9.000000\n",
       "50%        29.000000\n",
       "75%        55.000000\n",
       "max        72.000000\n",
       "Name: tenure, dtype: float64"
      ]
     },
     "execution_count": 70,
     "metadata": {},
     "output_type": "execute_result"
    }
   ],
   "source": [
    "data['tenure'].describe()"
   ]
  },
  {
   "cell_type": "code",
   "execution_count": 189,
   "metadata": {},
   "outputs": [
    {
     "name": "stdout",
     "output_type": "stream",
     "text": [
      "\n",
      "Média dos meses que o cliente permaneceu na empresa:\n",
      "\n",
      "Yes churn => (Média = 17.98 meses) - (Desvio Padrão = 19.53 meses)\n",
      "No churn => (Média = 37.57 meses) - (Desvio Padrão = 24.11 meses)\n"
     ]
    }
   ],
   "source": [
    "print('')\n",
    "print('Média dos meses que o cliente permaneceu na empresa:')\n",
    "print('')\n",
    "tenure_yes_churn_mean = data.query('Churn == \"Yes\" ')['tenure'].mean()\n",
    "tenure_yes_churn_std = data.query('Churn == \"Yes\" ')['tenure'].std()\n",
    "print('Yes churn => (Média = {:.2f} meses) - (Desvio Padrão = {:.2f} meses)'.format(tenure_yes_churn_mean, tenure_yes_churn_std))\n",
    "\n",
    "tenure_no_churn_mean = data.query('Churn == \"No\" ')['tenure'].mean()\n",
    "tenure_no_churn_std = data.query('Churn == \"No\" ')['tenure'].std()\n",
    "\n",
    "print('No churn => (Média = {:.2f} meses) - (Desvio Padrão = {:.2f} meses)'.format(tenure_no_churn_mean, tenure_no_churn_std))"
   ]
  },
  {
   "cell_type": "code",
   "execution_count": 119,
   "metadata": {},
   "outputs": [
    {
     "name": "stdout",
     "output_type": "stream",
     "text": [
      "assimetria no_churn -0.03171986704146695\n",
      "assimetria yes_churn 1.1492802882380029\n"
     ]
    },
    {
     "data": {
      "image/png": "[encoded data removed]",
      "text/plain": [
       "<Figure size 1800x576 with 2 Axes>"
      ]
     },
     "metadata": {
      "needs_background": "light"
     },
     "output_type": "display_data"
    }
   ],
   "source": [
    "plt.figure(figsize=(25,8))\n",
    "plt.subplot(1,2,1)\n",
    "no_churn = data.query('Churn==\"No\" ')\n",
    "sns.distplot(a=no_churn['tenure'], color='blue', label= 'No Churn')\n",
    "print('assimetria no_churn', no_churn['tenure'].skew())\n",
    "\n",
    "yes_churn = data.query('Churn==\"Yes\" ')\n",
    "sns.distplot(a=yes_churn['tenure'], color='red', label= 'Yes Churn')\n",
    "print('assimetria yes_churn', yes_churn['tenure'].skew())\n",
    "\n",
    "plt.title('tenure x Churn',fontdict={'fontsize':20})\n",
    "plt.legend()\n",
    "\n",
    "plt.subplot(1,2,2)\n",
    "sns.boxplot(x='Churn', y='tenure', data=data, palette=['#7AB4AD', 'Pink'])\n",
    "plt.title('tenure x Churn',fontdict={'fontsize':20})\n",
    "\n",
    "plt.show()"
   ]
  },
  {
   "cell_type": "code",
   "execution_count": 179,
   "metadata": {},
   "outputs": [
    {
     "name": "stdout",
     "output_type": "stream",
     "text": [
      "A hipótese H0 assume que a amostra É proveniente de uma distribuição normal.\n",
      "A hipósete H1 assume que a a mostra NÃO é proveniente de uma distribuição normal.\n",
      "\n",
      "significância = 0.05\n",
      "\n",
      "Se P_VALOR < SINIFICÂNCIA, H0 é refutada, não é normal.\n",
      "Se P_VALOR > SINIFICÂNCIA, H1 é refutada, é normal.\n",
      "\n",
      "\n",
      "p_valor = 0.0, H0 refutada, NÃO É NORMAL\n"
     ]
    }
   ],
   "source": [
    "teste_normal(data['tenure'])"
   ]
  },
  {
   "cell_type": "markdown",
   "metadata": {},
   "source": [
    "- Como nossos dados não tem uma distribuição normal usaremos testes não paramétricos, ou seja, não adimitem normalidade como premissa"
   ]
  },
  {
   "cell_type": "code",
   "execution_count": 180,
   "metadata": {},
   "outputs": [
    {
     "name": "stdout",
     "output_type": "stream",
     "text": [
      "H0: a distribuição das duas amostras são iguais\n",
      "H1: a distribuição das duas amostras NÃO são iguais\n",
      "P_valor é 1.209817758975933e-208, provavalmente TEM relação\n"
     ]
    }
   ],
   "source": [
    "teste_nao_parametrico(yes_churn['tenure'], no_churn['tenure'])"
   ]
  },
  {
   "cell_type": "markdown",
   "metadata": {},
   "source": [
    "Insights:\n",
    "- Hipótese 5 não refutada, há uma diferença estatísticamente significativa entre as amostras de tenure com churn e sem churn\n",
    "- Pessoas que estão há mais tempo como clientes tem uma taxa de churn menor"
   ]
  },
  {
   "cell_type": "markdown",
   "metadata": {},
   "source": [
    "# PhoneService"
   ]
  },
  {
   "cell_type": "markdown",
   "metadata": {},
   "source": [
    "### Hipótese 6: Ter ou não serviço de telefone tem relação com a taxa de churn?"
   ]
  },
  {
   "cell_type": "code",
   "execution_count": 172,
   "metadata": {},
   "outputs": [
    {
     "data": {
      "text/plain": [
       "Yes    6361\n",
       "No      682\n",
       "Name: PhoneService, dtype: int64"
      ]
     },
     "execution_count": 172,
     "metadata": {},
     "output_type": "execute_result"
    }
   ],
   "source": [
    "data['PhoneService'].value_counts()"
   ]
  },
  {
   "cell_type": "code",
   "execution_count": 173,
   "metadata": {},
   "outputs": [
    {
     "data": {
      "text/html": [
       "<div>\n",
       "<style scoped>\n",
       "    .dataframe tbody tr th:only-of-type {\n",
       "        vertical-align: middle;\n",
       "    }\n",
       "\n",
       "    .dataframe tbody tr th {\n",
       "        vertical-align: top;\n",
       "    }\n",
       "\n",
       "    .dataframe thead th {\n",
       "        text-align: right;\n",
       "    }\n",
       "</style>\n",
       "<table border=\"1\" class=\"dataframe\">\n",
       "  <thead>\n",
       "    <tr style=\"text-align: right;\">\n",
       "      <th>Churn</th>\n",
       "      <th>0</th>\n",
       "      <th>1</th>\n",
       "    </tr>\n",
       "    <tr>\n",
       "      <th>PhoneService</th>\n",
       "      <th></th>\n",
       "      <th></th>\n",
       "    </tr>\n",
       "  </thead>\n",
       "  <tbody>\n",
       "    <tr>\n",
       "      <th>No</th>\n",
       "      <td>0.750733</td>\n",
       "      <td>0.249267</td>\n",
       "    </tr>\n",
       "    <tr>\n",
       "      <th>Yes</th>\n",
       "      <td>0.732904</td>\n",
       "      <td>0.267096</td>\n",
       "    </tr>\n",
       "  </tbody>\n",
       "</table>\n",
       "</div>"
      ],
      "text/plain": [
       "Churn                0         1\n",
       "PhoneService                    \n",
       "No            0.750733  0.249267\n",
       "Yes           0.732904  0.267096"
      ]
     },
     "execution_count": 173,
     "metadata": {},
     "output_type": "execute_result"
    }
   ],
   "source": [
    "tabela_Dependents = pd.crosstab(data['PhoneService'], data['Churn'], normalize='index')\n",
    "tabela_Dependents"
   ]
  },
  {
   "cell_type": "code",
   "execution_count": 175,
   "metadata": {},
   "outputs": [
    {
     "data": {
      "image/png": "[encoded data removed]",
      "text/plain": [
       "<Figure size 1440x432 with 2 Axes>"
      ]
     },
     "metadata": {
      "needs_background": "light"
     },
     "output_type": "display_data"
    }
   ],
   "source": [
    "fig = plt.figure(figsize=(20,6))\n",
    "plt.subplot(1,2,1)\n",
    "data['PhoneService'].value_counts(normalize=True).plot(kind='bar')\n",
    "plt.title('proporção PhoneService', fontdict={'fontsize':20})\n",
    "plt.subplot(1,2,2)\n",
    "sns.countplot(data=data, x='PhoneService', hue='Churn', palette=['green','red'])\n",
    "plt.title('PhoneService X Churn', fontdict={'fontsize':20})\n",
    "plt.show()"
   ]
  },
  {
   "cell_type": "code",
   "execution_count": 176,
   "metadata": {},
   "outputs": [
    {
     "name": "stdout",
     "output_type": "stream",
     "text": [
      "Hipótese H0: a diferença entre o valor observado e o valor esperado NÃO É estatísticamente diferente de zero (p_valor < significância)\n",
      "Hipótese H1: a diferença entre o valor observado e o valor esperado É estatísticamente diferente de zero (p_valor > significância)\n",
      "significância = 0.1\n",
      "\n",
      "p_valor é 0.3388, NÃO tem relação\n"
     ]
    }
   ],
   "source": [
    "teste_qui_quadrado(data['PhoneService'], data['Churn'])"
   ]
  },
  {
   "cell_type": "markdown",
   "metadata": {},
   "source": [
    "Insight:\n",
    "- Hipótese 6 refutada, Não há relação entra a taxa de churn e serviço telefônico"
   ]
  },
  {
   "cell_type": "markdown",
   "metadata": {},
   "source": [
    "# TotalCharges"
   ]
  },
  {
   "cell_type": "markdown",
   "metadata": {},
   "source": [
    "### Hipótese 7: Temos uma diferença significativa estatísticamente para a distribuição de cobranças totais dos clientes que realizaram churn ou não? "
   ]
  },
  {
   "cell_type": "code",
   "execution_count": 191,
   "metadata": {},
   "outputs": [
    {
     "data": {
      "text/plain": [
       "count    7043.000000\n",
       "mean     2279.734304\n",
       "std      2266.794470\n",
       "min         0.000000\n",
       "25%       398.550000\n",
       "50%      1394.550000\n",
       "75%      3786.600000\n",
       "max      8684.800000\n",
       "Name: TotalCharges, dtype: float64"
      ]
     },
     "execution_count": 191,
     "metadata": {},
     "output_type": "execute_result"
    }
   ],
   "source": [
    "data['TotalCharges'].describe()"
   ]
  },
  {
   "cell_type": "markdown",
   "metadata": {},
   "source": [
    "Insights:\n",
    "- Desvio padrão muito alto, pode indicar de outliers"
   ]
  },
  {
   "cell_type": "code",
   "execution_count": 194,
   "metadata": {},
   "outputs": [
    {
     "name": "stdout",
     "output_type": "stream",
     "text": [
      "\n",
      "Média das despesas totais do cliente:\n",
      "\n",
      "Yes churn => (Média = 1531.80 reais) - (Desvio Padrão = 1890.82 reais)\n",
      "No churn => (Média = 2549.91 reais) - (Desvio Padrão = 2329.95 reais)\n"
     ]
    }
   ],
   "source": [
    "print('')\n",
    "print('Média das despesas totais do cliente:')\n",
    "print('')\n",
    "totalcharges_yes_churn_mean = data.query('Churn == \"Yes\" ')['TotalCharges'].mean()\n",
    "totalcharges_yes_churn_std = data.query('Churn == \"Yes\" ')['TotalCharges'].std()\n",
    "print('Yes churn => (Média = {:.2f} reais) - (Desvio Padrão = {:.2f} reais)'.format(totalcharges_yes_churn_mean, totalcharges_yes_churn_std))\n",
    "\n",
    "totalcharges_no_churn_mean = data.query('Churn == \"No\" ')['TotalCharges'].mean()\n",
    "totalcharges_no_churn_std = data.query('Churn == \"No\" ')['TotalCharges'].std()\n",
    "\n",
    "print('No churn => (Média = {:.2f} reais) - (Desvio Padrão = {:.2f} reais)'.format(totalcharges_no_churn_mean, totalcharges_no_churn_std))"
   ]
  },
  {
   "cell_type": "code",
   "execution_count": 211,
   "metadata": {},
   "outputs": [
    {
     "name": "stdout",
     "output_type": "stream",
     "text": [
      "\n",
      "Assimetria no_churn 0.808\n",
      "Curtose no_churn -0.550\n",
      "\n",
      "Assimetria yes_churn 1.511\n",
      "Curtose yes_churn 1.462\n",
      "\n"
     ]
    },
    {
     "data": {
      "image/png": "[encoded data removed]",
      "text/plain": [
       "<Figure size 1800x576 with 2 Axes>"
      ]
     },
     "metadata": {
      "needs_background": "light"
     },
     "output_type": "display_data"
    }
   ],
   "source": [
    "plt.figure(figsize=(25,8))\n",
    "plt.subplot(1,2,1)\n",
    "no_churn = data.query('Churn==\"No\" ')\n",
    "sns.distplot(a=no_churn['TotalCharges'], color='blue', label= 'No Churn')\n",
    "\n",
    "print('')\n",
    "print('Assimetria no_churn {:.3f}'.format(no_churn['TotalCharges'].skew()))\n",
    "print('Curtose no_churn {:.3f}'.format(no_churn['TotalCharges'].kurt()))\n",
    "print('')\n",
    "\n",
    "yes_churn = data.query('Churn==\"Yes\" ')\n",
    "sns.distplot(a=yes_churn['TotalCharges'], color='red', label= 'Yes Churn')\n",
    "print('Assimetria yes_churn {:.3f}'.format(yes_churn['TotalCharges'].skew()))\n",
    "print('Curtose yes_churn {:.3f}'.format(yes_churn['TotalCharges'].kurt()))\n",
    "print('')\n",
    "\n",
    "plt.title('TotalCharges x Churn',fontdict={'fontsize':20})\n",
    "plt.legend()\n",
    "\n",
    "plt.subplot(1,2,2)\n",
    "sns.boxplot(x='Churn', y='TotalCharges', data=data, palette=['#7AB4AD', 'Pink'])\n",
    "plt.title('TotalCharges x Churn',fontdict={'fontsize':20})\n",
    "\n",
    "plt.show()"
   ]
  },
  {
   "cell_type": "code",
   "execution_count": 212,
   "metadata": {},
   "outputs": [
    {
     "name": "stdout",
     "output_type": "stream",
     "text": [
      "A hipótese H0 assume que a amostra É proveniente de uma distribuição normal.\n",
      "A hipósete H1 assume que a a mostra NÃO é proveniente de uma distribuição normal.\n",
      "\n",
      "significância = 0.05\n",
      "\n",
      "Se P_VALOR < SINIFICÂNCIA, H0 é refutada, não é normal.\n",
      "Se P_VALOR > SINIFICÂNCIA, H1 é refutada, é normal.\n",
      "\n",
      "\n",
      "p_valor = 2.6049140547884828e-176, H0 refutada, NÃO É NORMAL\n"
     ]
    }
   ],
   "source": [
    "teste_normal(data['TotalCharges'])"
   ]
  },
  {
   "cell_type": "markdown",
   "metadata": {},
   "source": [
    "- Como nossos dados não tem uma distribuição normal usaremos testes não paramétricos, ou seja, não adimitem normalidade como premissa"
   ]
  },
  {
   "cell_type": "code",
   "execution_count": 213,
   "metadata": {},
   "outputs": [
    {
     "name": "stdout",
     "output_type": "stream",
     "text": [
      "H0: a distribuição das duas amostras são iguais\n",
      "H1: a distribuição das duas amostras NÃO são iguais\n",
      "P_valor é 2.842516933103657e-83, provavalmente TEM relação\n"
     ]
    }
   ],
   "source": [
    "teste_nao_parametrico(yes_churn['TotalCharges'], no_churn['TotalCharges'])"
   ]
  },
  {
   "cell_type": "markdown",
   "metadata": {},
   "source": [
    "Insights:\n",
    "- Hipótese 5 não refutada, há uma diferença significativa estatísticamente para a distribuição de cobranças totais dos clientes\n",
    "- As duas amostras possuiem assimetria positiva\n"
   ]
  },
  {
   "cell_type": "markdown",
   "metadata": {},
   "source": [
    "# MonthlyCharges"
   ]
  },
  {
   "cell_type": "code",
   "execution_count": null,
   "metadata": {},
   "outputs": [],
   "source": []
  },
  {
   "cell_type": "markdown",
   "metadata": {},
   "source": [
    "# Correlação"
   ]
  },
  {
   "cell_type": "code",
   "execution_count": 210,
   "metadata": {},
   "outputs": [
    {
     "data": {
      "image/png": "[encoded data removed]",
      "text/plain": [
       "<Figure size 1008x648 with 2 Axes>"
      ]
     },
     "metadata": {
      "needs_background": "light"
     },
     "output_type": "display_data"
    }
   ],
   "source": [
    "plt.figure(figsize =(14,9))\n",
    "cor = data.corr()\n",
    "sns.heatmap(cor, annot = True)\n",
    "plt.show()"
   ]
  },
  {
   "cell_type": "markdown",
   "metadata": {},
   "source": [
    "# Preprocessamento"
   ]
  },
  {
   "cell_type": "code",
   "execution_count": 156,
   "metadata": {},
   "outputs": [],
   "source": [
    "#importando os dados\n",
    "data = pd.read_csv('WA_Fn-UseC_-Telco-Customer-Churn.csv')\n",
    "\n",
    "data['Churn'] = data['Churn'].map({'Yes':1, 'No':0})\n",
    "#separando vetor alvo\n",
    "y = data['Churn']\n",
    "\n",
    "#dataframe sem o alvo\n",
    "X = data.drop(columns='Churn', axis=1)\n",
    "\n",
    "\n",
    "#binarizando a feature 'gender'\n",
    "X['gender'] = X['gender'].map({'Female':1, 'Male':0})\n",
    "\n",
    "#binarizando a feature 'Partner'\n",
    "X['Partner'] = X['Partner'].map({'Yes':1, 'No':0})\n",
    "\n",
    "#binarizando a feature 'Dependents'\n",
    "X['Dependents'] = X['Dependents'].map({'Yes':1, 'No':0})\n",
    "\n",
    "#binarizando a feature 'PaperlessBilling'\n",
    "X['PaperlessBilling'] = X['PaperlessBilling'].map({'Yes':1, 'No':0})\n",
    "\n",
    "#binarizando a feature 'PhoneService'\n",
    "X['PhoneService'] = X['PhoneService'].map({'Yes':1, 'No':0})\n",
    "\n",
    "#criando dummies nas features com mais de duas classes\n",
    "X = pd.get_dummies(X, dtype='int64', columns=['MultipleLines', 'OnlineSecurity',\n",
    "                               'OnlineBackup', 'DeviceProtection', 'TechSupport', \n",
    "                               'StreamingTV', 'StreamingMovies', 'Contract',\n",
    "                              'PaymentMethod', 'InternetService' ])\n",
    "\n",
    "#por algum motivo desconhecido a variável TotalCharges veio como tipo object\n",
    "#nos passos abaixo vamos transformar ela em float\n",
    "\n",
    "#retirando ' ' antes e depois dos valores\n",
    "X['TotalCharges'] = X['TotalCharges'].map(lambda i: i.strip())\n",
    "#substituindo valores faltantes por zero\n",
    "X['TotalCharges'] = X['TotalCharges'].map(lambda i: 0 if i=='' else i)\n",
    "#transformando os valores em números float\n",
    "X['TotalCharges'] = X['TotalCharges'].map(lambda i:float(i))\n",
    "\n",
    "\n",
    "#retirando a feature 'costumerID' pois não será útil em nosso modelo\n",
    "X = X.drop(columns='customerID', axis=1)"
   ]
  },
  {
   "cell_type": "code",
   "execution_count": 157,
   "metadata": {},
   "outputs": [],
   "source": [
    "scaler = StandardScaler()\n",
    "X = scaler.fit_transform(X)"
   ]
  },
  {
   "cell_type": "markdown",
   "metadata": {},
   "source": [
    "# Modelagem"
   ]
  },
  {
   "cell_type": "markdown",
   "metadata": {},
   "source": [
    "- Calculando nossa baseline"
   ]
  },
  {
   "cell_type": "markdown",
   "metadata": {},
   "source": [
    "## -Baseline-"
   ]
  },
  {
   "cell_type": "code",
   "execution_count": 166,
   "metadata": {},
   "outputs": [
    {
     "name": "stdout",
     "output_type": "stream",
     "text": [
      "0.2622017703785555\n"
     ]
    }
   ],
   "source": [
    "#baseline\n",
    "from sklearn.dummy import DummyClassifier\n",
    "mdl = DummyClassifier(strategy='stratified')\n",
    "scores = cross_val_score(mdl, X, y, scoring='precision', cv=5).mean()\n",
    "print(scores)"
   ]
  },
  {
   "cell_type": "markdown",
   "metadata": {},
   "source": [
    "## -DecisionTree-"
   ]
  },
  {
   "cell_type": "code",
   "execution_count": 169,
   "metadata": {},
   "outputs": [
    {
     "name": "stdout",
     "output_type": "stream",
     "text": [
      "19 0.49068831073173974\n"
     ]
    }
   ],
   "source": [
    "mdl = DecisionTreeClassifier()\n",
    "scores = cross_val_score(mdl, X, y, scoring='precision').mean()\n",
    "print(n,scores)\n",
    "#0.7265362886315246 minmax accuracy"
   ]
  },
  {
   "cell_type": "markdown",
   "metadata": {},
   "source": [
    "## -RandomForest-"
   ]
  },
  {
   "cell_type": "code",
   "execution_count": 140,
   "metadata": {},
   "outputs": [
    {
     "name": "stdout",
     "output_type": "stream",
     "text": [
      "0.6390885840619251\n"
     ]
    }
   ],
   "source": [
    "mdl = RandomForestClassifier(random_state=29)\n",
    "scores = cross_val_score(mdl, X, y, scoring='precision').mean()\n",
    "print(scores)\n",
    "#0.7891549454803535 minmax accuracy"
   ]
  },
  {
   "cell_type": "markdown",
   "metadata": {},
   "source": [
    "## -LightGBM-"
   ]
  },
  {
   "cell_type": "code",
   "execution_count": 141,
   "metadata": {},
   "outputs": [
    {
     "name": "stdout",
     "output_type": "stream",
     "text": [
      "0.6357827282451817\n"
     ]
    }
   ],
   "source": [
    "mdl = LGBMClassifier(random_state=29)\n",
    "scores = cross_val_score(mdl, X, y, scoring='precision').mean()\n",
    "print(scores)\n",
    "#0.7941234111878186 minmax accuracy"
   ]
  },
  {
   "cell_type": "markdown",
   "metadata": {},
   "source": [
    "## -KNeighbors-"
   ]
  },
  {
   "cell_type": "code",
   "execution_count": 142,
   "metadata": {},
   "outputs": [
    {
     "name": "stdout",
     "output_type": "stream",
     "text": [
      "0.5569768156275886\n"
     ]
    }
   ],
   "source": [
    "mdl = KNeighborsClassifier()\n",
    "scores = cross_val_score(mdl, X, y, scoring='precision').mean()\n",
    "print(scores)\n",
    "#0.7603300011291052 minmax accuracy"
   ]
  },
  {
   "cell_type": "markdown",
   "metadata": {},
   "source": [
    "## -SVM-"
   ]
  },
  {
   "cell_type": "code",
   "execution_count": 143,
   "metadata": {},
   "outputs": [
    {
     "name": "stdout",
     "output_type": "stream",
     "text": [
      "0.6603272145886738\n"
     ]
    }
   ],
   "source": [
    "mdl = SVC()\n",
    "scores = cross_val_score(mdl, X, y, scoring='precision').mean()\n",
    "print(scores)\n",
    "#0.7971034421575586 minmax"
   ]
  },
  {
   "cell_type": "markdown",
   "metadata": {},
   "source": []
  },
  {
   "cell_type": "code",
   "execution_count": 144,
   "metadata": {},
   "outputs": [
    {
     "name": "stdout",
     "output_type": "stream",
     "text": [
      "0.6538589540491253\n"
     ]
    }
   ],
   "source": [
    "mdl = LogisticRegression()\n",
    "scores = cross_val_score(mdl, X, y, scoring='precision').mean()\n",
    "print(scores)\n",
    "#0.8027834457061745 minmax"
   ]
  },
  {
   "cell_type": "markdown",
   "metadata": {},
   "source": []
  },
  {
   "cell_type": "code",
   "execution_count": 145,
   "metadata": {},
   "outputs": [
    {
     "name": "stdout",
     "output_type": "stream",
     "text": [
      "0.6072979328510673\n"
     ]
    }
   ],
   "source": [
    "mdl = XGBClassifier(random_state=29, verbosity=0)\n",
    "scores = cross_val_score(mdl, X, y, scoring='precision').mean()\n",
    "print(scores)"
   ]
  },
  {
   "cell_type": "markdown",
   "metadata": {},
   "source": [
    "# Pycaret"
   ]
  },
  {
   "cell_type": "code",
   "execution_count": 149,
   "metadata": {},
   "outputs": [],
   "source": [
    "\n",
    "#importando os dados\n",
    "data = pd.read_csv('WA_Fn-UseC_-Telco-Customer-Churn.csv')\n",
    "#separando vetor alvo\n",
    "y = data['Churn']\n",
    "#dataframe sem o alvo\n",
    "X = data[['gender', 'SeniorCitizen', 'Partner', 'Dependents', 'tenure', 'PhoneService', 'TotalCharges', 'MonthlyCharges', 'Churn']]\n",
    "\n",
    "#binarizando a feature 'gender'\n",
    "X['gender'] = X['gender'].map({'Female':1, 'Male':0})\n",
    "\n",
    "#binarizando a feature 'Partner'\n",
    "X['Partner'] = X['Partner'].map({'Yes':1, 'No':0})\n",
    "\n",
    "#binarizando a feature 'Dependents'\n",
    "X['Dependents'] = X['Dependents'].map({'Yes':1, 'No':0})\n",
    "\n",
    "#binarizando a feature 'PhoneService'\n",
    "X['PhoneService'] = X['PhoneService'].map({'Yes':1, 'No':0})\n",
    "\n",
    "#retirando ' ' antes e depois dos valores\n",
    "X['TotalCharges'] = X['TotalCharges'].map(lambda i: i.strip())\n",
    "#substituindo valores faltantes por zero\n",
    "X['TotalCharges'] = X['TotalCharges'].map(lambda i: 0 if i=='' else i)\n",
    "#transformando os valores em números float\n",
    "X['TotalCharges'] = X['TotalCharges'].map(lambda i:float(i))\n",
    "\n",
    "#substituindo valores faltantes por zero\n",
    "X['MonthlyCharges'] = X['MonthlyCharges'].map(lambda i: 0 if i=='' else i)\n",
    "#transformando os valores em números float\n",
    "X['MonthlyCharges'] = X['MonthlyCharges'].map(lambda i:float(i))"
   ]
  },
  {
   "cell_type": "code",
   "execution_count": 152,
   "metadata": {},
   "outputs": [
    {
     "data": {
      "text/html": [
       "<style  type=\"text/css\" >\n",
       "    #T_4a519e3c_d7bb_11eb_9d27_8cd49ce816f2row40_col1 {\n",
       "            background-color:  lightgreen;\n",
       "        }    #T_4a519e3c_d7bb_11eb_9d27_8cd49ce816f2row42_col1 {\n",
       "            background-color:  lightgreen;\n",
       "        }</style><table id=\"T_4a519e3c_d7bb_11eb_9d27_8cd49ce816f2\" ><thead>    <tr>        <th class=\"blank level0\" ></th>        <th class=\"col_heading level0 col0\" >Description</th>        <th class=\"col_heading level0 col1\" >Value</th>    </tr></thead><tbody>\n",
       "                <tr>\n",
       "                        <th id=\"T_4a519e3c_d7bb_11eb_9d27_8cd49ce816f2level0_row0\" class=\"row_heading level0 row0\" >0</th>\n",
       "                        <td id=\"T_4a519e3c_d7bb_11eb_9d27_8cd49ce816f2row0_col0\" class=\"data row0 col0\" >session_id</td>\n",
       "                        <td id=\"T_4a519e3c_d7bb_11eb_9d27_8cd49ce816f2row0_col1\" class=\"data row0 col1\" >3500</td>\n",
       "            </tr>\n",
       "            <tr>\n",
       "                        <th id=\"T_4a519e3c_d7bb_11eb_9d27_8cd49ce816f2level0_row1\" class=\"row_heading level0 row1\" >1</th>\n",
       "                        <td id=\"T_4a519e3c_d7bb_11eb_9d27_8cd49ce816f2row1_col0\" class=\"data row1 col0\" >Target</td>\n",
       "                        <td id=\"T_4a519e3c_d7bb_11eb_9d27_8cd49ce816f2row1_col1\" class=\"data row1 col1\" >Churn</td>\n",
       "            </tr>\n",
       "            <tr>\n",
       "                        <th id=\"T_4a519e3c_d7bb_11eb_9d27_8cd49ce816f2level0_row2\" class=\"row_heading level0 row2\" >2</th>\n",
       "                        <td id=\"T_4a519e3c_d7bb_11eb_9d27_8cd49ce816f2row2_col0\" class=\"data row2 col0\" >Target Type</td>\n",
       "                        <td id=\"T_4a519e3c_d7bb_11eb_9d27_8cd49ce816f2row2_col1\" class=\"data row2 col1\" >Binary</td>\n",
       "            </tr>\n",
       "            <tr>\n",
       "                        <th id=\"T_4a519e3c_d7bb_11eb_9d27_8cd49ce816f2level0_row3\" class=\"row_heading level0 row3\" >3</th>\n",
       "                        <td id=\"T_4a519e3c_d7bb_11eb_9d27_8cd49ce816f2row3_col0\" class=\"data row3 col0\" >Label Encoded</td>\n",
       "                        <td id=\"T_4a519e3c_d7bb_11eb_9d27_8cd49ce816f2row3_col1\" class=\"data row3 col1\" >No: 0, Yes: 1</td>\n",
       "            </tr>\n",
       "            <tr>\n",
       "                        <th id=\"T_4a519e3c_d7bb_11eb_9d27_8cd49ce816f2level0_row4\" class=\"row_heading level0 row4\" >4</th>\n",
       "                        <td id=\"T_4a519e3c_d7bb_11eb_9d27_8cd49ce816f2row4_col0\" class=\"data row4 col0\" >Original Data</td>\n",
       "                        <td id=\"T_4a519e3c_d7bb_11eb_9d27_8cd49ce816f2row4_col1\" class=\"data row4 col1\" >(7043, 9)</td>\n",
       "            </tr>\n",
       "            <tr>\n",
       "                        <th id=\"T_4a519e3c_d7bb_11eb_9d27_8cd49ce816f2level0_row5\" class=\"row_heading level0 row5\" >5</th>\n",
       "                        <td id=\"T_4a519e3c_d7bb_11eb_9d27_8cd49ce816f2row5_col0\" class=\"data row5 col0\" >Missing Values</td>\n",
       "                        <td id=\"T_4a519e3c_d7bb_11eb_9d27_8cd49ce816f2row5_col1\" class=\"data row5 col1\" >False</td>\n",
       "            </tr>\n",
       "            <tr>\n",
       "                        <th id=\"T_4a519e3c_d7bb_11eb_9d27_8cd49ce816f2level0_row6\" class=\"row_heading level0 row6\" >6</th>\n",
       "                        <td id=\"T_4a519e3c_d7bb_11eb_9d27_8cd49ce816f2row6_col0\" class=\"data row6 col0\" >Numeric Features</td>\n",
       "                        <td id=\"T_4a519e3c_d7bb_11eb_9d27_8cd49ce816f2row6_col1\" class=\"data row6 col1\" >3</td>\n",
       "            </tr>\n",
       "            <tr>\n",
       "                        <th id=\"T_4a519e3c_d7bb_11eb_9d27_8cd49ce816f2level0_row7\" class=\"row_heading level0 row7\" >7</th>\n",
       "                        <td id=\"T_4a519e3c_d7bb_11eb_9d27_8cd49ce816f2row7_col0\" class=\"data row7 col0\" >Categorical Features</td>\n",
       "                        <td id=\"T_4a519e3c_d7bb_11eb_9d27_8cd49ce816f2row7_col1\" class=\"data row7 col1\" >5</td>\n",
       "            </tr>\n",
       "            <tr>\n",
       "                        <th id=\"T_4a519e3c_d7bb_11eb_9d27_8cd49ce816f2level0_row8\" class=\"row_heading level0 row8\" >8</th>\n",
       "                        <td id=\"T_4a519e3c_d7bb_11eb_9d27_8cd49ce816f2row8_col0\" class=\"data row8 col0\" >Ordinal Features</td>\n",
       "                        <td id=\"T_4a519e3c_d7bb_11eb_9d27_8cd49ce816f2row8_col1\" class=\"data row8 col1\" >False</td>\n",
       "            </tr>\n",
       "            <tr>\n",
       "                        <th id=\"T_4a519e3c_d7bb_11eb_9d27_8cd49ce816f2level0_row9\" class=\"row_heading level0 row9\" >9</th>\n",
       "                        <td id=\"T_4a519e3c_d7bb_11eb_9d27_8cd49ce816f2row9_col0\" class=\"data row9 col0\" >High Cardinality Features</td>\n",
       "                        <td id=\"T_4a519e3c_d7bb_11eb_9d27_8cd49ce816f2row9_col1\" class=\"data row9 col1\" >False</td>\n",
       "            </tr>\n",
       "            <tr>\n",
       "                        <th id=\"T_4a519e3c_d7bb_11eb_9d27_8cd49ce816f2level0_row10\" class=\"row_heading level0 row10\" >10</th>\n",
       "                        <td id=\"T_4a519e3c_d7bb_11eb_9d27_8cd49ce816f2row10_col0\" class=\"data row10 col0\" >High Cardinality Method</td>\n",
       "                        <td id=\"T_4a519e3c_d7bb_11eb_9d27_8cd49ce816f2row10_col1\" class=\"data row10 col1\" >None</td>\n",
       "            </tr>\n",
       "            <tr>\n",
       "                        <th id=\"T_4a519e3c_d7bb_11eb_9d27_8cd49ce816f2level0_row11\" class=\"row_heading level0 row11\" >11</th>\n",
       "                        <td id=\"T_4a519e3c_d7bb_11eb_9d27_8cd49ce816f2row11_col0\" class=\"data row11 col0\" >Transformed Train Set</td>\n",
       "                        <td id=\"T_4a519e3c_d7bb_11eb_9d27_8cd49ce816f2row11_col1\" class=\"data row11 col1\" >(4683, 8)</td>\n",
       "            </tr>\n",
       "            <tr>\n",
       "                        <th id=\"T_4a519e3c_d7bb_11eb_9d27_8cd49ce816f2level0_row12\" class=\"row_heading level0 row12\" >12</th>\n",
       "                        <td id=\"T_4a519e3c_d7bb_11eb_9d27_8cd49ce816f2row12_col0\" class=\"data row12 col0\" >Transformed Test Set</td>\n",
       "                        <td id=\"T_4a519e3c_d7bb_11eb_9d27_8cd49ce816f2row12_col1\" class=\"data row12 col1\" >(2113, 8)</td>\n",
       "            </tr>\n",
       "            <tr>\n",
       "                        <th id=\"T_4a519e3c_d7bb_11eb_9d27_8cd49ce816f2level0_row13\" class=\"row_heading level0 row13\" >13</th>\n",
       "                        <td id=\"T_4a519e3c_d7bb_11eb_9d27_8cd49ce816f2row13_col0\" class=\"data row13 col0\" >Shuffle Train-Test</td>\n",
       "                        <td id=\"T_4a519e3c_d7bb_11eb_9d27_8cd49ce816f2row13_col1\" class=\"data row13 col1\" >True</td>\n",
       "            </tr>\n",
       "            <tr>\n",
       "                        <th id=\"T_4a519e3c_d7bb_11eb_9d27_8cd49ce816f2level0_row14\" class=\"row_heading level0 row14\" >14</th>\n",
       "                        <td id=\"T_4a519e3c_d7bb_11eb_9d27_8cd49ce816f2row14_col0\" class=\"data row14 col0\" >Stratify Train-Test</td>\n",
       "                        <td id=\"T_4a519e3c_d7bb_11eb_9d27_8cd49ce816f2row14_col1\" class=\"data row14 col1\" >False</td>\n",
       "            </tr>\n",
       "            <tr>\n",
       "                        <th id=\"T_4a519e3c_d7bb_11eb_9d27_8cd49ce816f2level0_row15\" class=\"row_heading level0 row15\" >15</th>\n",
       "                        <td id=\"T_4a519e3c_d7bb_11eb_9d27_8cd49ce816f2row15_col0\" class=\"data row15 col0\" >Fold Generator</td>\n",
       "                        <td id=\"T_4a519e3c_d7bb_11eb_9d27_8cd49ce816f2row15_col1\" class=\"data row15 col1\" >StratifiedKFold</td>\n",
       "            </tr>\n",
       "            <tr>\n",
       "                        <th id=\"T_4a519e3c_d7bb_11eb_9d27_8cd49ce816f2level0_row16\" class=\"row_heading level0 row16\" >16</th>\n",
       "                        <td id=\"T_4a519e3c_d7bb_11eb_9d27_8cd49ce816f2row16_col0\" class=\"data row16 col0\" >Fold Number</td>\n",
       "                        <td id=\"T_4a519e3c_d7bb_11eb_9d27_8cd49ce816f2row16_col1\" class=\"data row16 col1\" >10</td>\n",
       "            </tr>\n",
       "            <tr>\n",
       "                        <th id=\"T_4a519e3c_d7bb_11eb_9d27_8cd49ce816f2level0_row17\" class=\"row_heading level0 row17\" >17</th>\n",
       "                        <td id=\"T_4a519e3c_d7bb_11eb_9d27_8cd49ce816f2row17_col0\" class=\"data row17 col0\" >CPU Jobs</td>\n",
       "                        <td id=\"T_4a519e3c_d7bb_11eb_9d27_8cd49ce816f2row17_col1\" class=\"data row17 col1\" >-1</td>\n",
       "            </tr>\n",
       "            <tr>\n",
       "                        <th id=\"T_4a519e3c_d7bb_11eb_9d27_8cd49ce816f2level0_row18\" class=\"row_heading level0 row18\" >18</th>\n",
       "                        <td id=\"T_4a519e3c_d7bb_11eb_9d27_8cd49ce816f2row18_col0\" class=\"data row18 col0\" >Use GPU</td>\n",
       "                        <td id=\"T_4a519e3c_d7bb_11eb_9d27_8cd49ce816f2row18_col1\" class=\"data row18 col1\" >False</td>\n",
       "            </tr>\n",
       "            <tr>\n",
       "                        <th id=\"T_4a519e3c_d7bb_11eb_9d27_8cd49ce816f2level0_row19\" class=\"row_heading level0 row19\" >19</th>\n",
       "                        <td id=\"T_4a519e3c_d7bb_11eb_9d27_8cd49ce816f2row19_col0\" class=\"data row19 col0\" >Log Experiment</td>\n",
       "                        <td id=\"T_4a519e3c_d7bb_11eb_9d27_8cd49ce816f2row19_col1\" class=\"data row19 col1\" >False</td>\n",
       "            </tr>\n",
       "            <tr>\n",
       "                        <th id=\"T_4a519e3c_d7bb_11eb_9d27_8cd49ce816f2level0_row20\" class=\"row_heading level0 row20\" >20</th>\n",
       "                        <td id=\"T_4a519e3c_d7bb_11eb_9d27_8cd49ce816f2row20_col0\" class=\"data row20 col0\" >Experiment Name</td>\n",
       "                        <td id=\"T_4a519e3c_d7bb_11eb_9d27_8cd49ce816f2row20_col1\" class=\"data row20 col1\" >clf-default-name</td>\n",
       "            </tr>\n",
       "            <tr>\n",
       "                        <th id=\"T_4a519e3c_d7bb_11eb_9d27_8cd49ce816f2level0_row21\" class=\"row_heading level0 row21\" >21</th>\n",
       "                        <td id=\"T_4a519e3c_d7bb_11eb_9d27_8cd49ce816f2row21_col0\" class=\"data row21 col0\" >USI</td>\n",
       "                        <td id=\"T_4a519e3c_d7bb_11eb_9d27_8cd49ce816f2row21_col1\" class=\"data row21 col1\" >9097</td>\n",
       "            </tr>\n",
       "            <tr>\n",
       "                        <th id=\"T_4a519e3c_d7bb_11eb_9d27_8cd49ce816f2level0_row22\" class=\"row_heading level0 row22\" >22</th>\n",
       "                        <td id=\"T_4a519e3c_d7bb_11eb_9d27_8cd49ce816f2row22_col0\" class=\"data row22 col0\" >Imputation Type</td>\n",
       "                        <td id=\"T_4a519e3c_d7bb_11eb_9d27_8cd49ce816f2row22_col1\" class=\"data row22 col1\" >simple</td>\n",
       "            </tr>\n",
       "            <tr>\n",
       "                        <th id=\"T_4a519e3c_d7bb_11eb_9d27_8cd49ce816f2level0_row23\" class=\"row_heading level0 row23\" >23</th>\n",
       "                        <td id=\"T_4a519e3c_d7bb_11eb_9d27_8cd49ce816f2row23_col0\" class=\"data row23 col0\" >Iterative Imputation Iteration</td>\n",
       "                        <td id=\"T_4a519e3c_d7bb_11eb_9d27_8cd49ce816f2row23_col1\" class=\"data row23 col1\" >None</td>\n",
       "            </tr>\n",
       "            <tr>\n",
       "                        <th id=\"T_4a519e3c_d7bb_11eb_9d27_8cd49ce816f2level0_row24\" class=\"row_heading level0 row24\" >24</th>\n",
       "                        <td id=\"T_4a519e3c_d7bb_11eb_9d27_8cd49ce816f2row24_col0\" class=\"data row24 col0\" >Numeric Imputer</td>\n",
       "                        <td id=\"T_4a519e3c_d7bb_11eb_9d27_8cd49ce816f2row24_col1\" class=\"data row24 col1\" >mean</td>\n",
       "            </tr>\n",
       "            <tr>\n",
       "                        <th id=\"T_4a519e3c_d7bb_11eb_9d27_8cd49ce816f2level0_row25\" class=\"row_heading level0 row25\" >25</th>\n",
       "                        <td id=\"T_4a519e3c_d7bb_11eb_9d27_8cd49ce816f2row25_col0\" class=\"data row25 col0\" >Iterative Imputation Numeric Model</td>\n",
       "                        <td id=\"T_4a519e3c_d7bb_11eb_9d27_8cd49ce816f2row25_col1\" class=\"data row25 col1\" >None</td>\n",
       "            </tr>\n",
       "            <tr>\n",
       "                        <th id=\"T_4a519e3c_d7bb_11eb_9d27_8cd49ce816f2level0_row26\" class=\"row_heading level0 row26\" >26</th>\n",
       "                        <td id=\"T_4a519e3c_d7bb_11eb_9d27_8cd49ce816f2row26_col0\" class=\"data row26 col0\" >Categorical Imputer</td>\n",
       "                        <td id=\"T_4a519e3c_d7bb_11eb_9d27_8cd49ce816f2row26_col1\" class=\"data row26 col1\" >constant</td>\n",
       "            </tr>\n",
       "            <tr>\n",
       "                        <th id=\"T_4a519e3c_d7bb_11eb_9d27_8cd49ce816f2level0_row27\" class=\"row_heading level0 row27\" >27</th>\n",
       "                        <td id=\"T_4a519e3c_d7bb_11eb_9d27_8cd49ce816f2row27_col0\" class=\"data row27 col0\" >Iterative Imputation Categorical Model</td>\n",
       "                        <td id=\"T_4a519e3c_d7bb_11eb_9d27_8cd49ce816f2row27_col1\" class=\"data row27 col1\" >None</td>\n",
       "            </tr>\n",
       "            <tr>\n",
       "                        <th id=\"T_4a519e3c_d7bb_11eb_9d27_8cd49ce816f2level0_row28\" class=\"row_heading level0 row28\" >28</th>\n",
       "                        <td id=\"T_4a519e3c_d7bb_11eb_9d27_8cd49ce816f2row28_col0\" class=\"data row28 col0\" >Unknown Categoricals Handling</td>\n",
       "                        <td id=\"T_4a519e3c_d7bb_11eb_9d27_8cd49ce816f2row28_col1\" class=\"data row28 col1\" >least_frequent</td>\n",
       "            </tr>\n",
       "            <tr>\n",
       "                        <th id=\"T_4a519e3c_d7bb_11eb_9d27_8cd49ce816f2level0_row29\" class=\"row_heading level0 row29\" >29</th>\n",
       "                        <td id=\"T_4a519e3c_d7bb_11eb_9d27_8cd49ce816f2row29_col0\" class=\"data row29 col0\" >Normalize</td>\n",
       "                        <td id=\"T_4a519e3c_d7bb_11eb_9d27_8cd49ce816f2row29_col1\" class=\"data row29 col1\" >False</td>\n",
       "            </tr>\n",
       "            <tr>\n",
       "                        <th id=\"T_4a519e3c_d7bb_11eb_9d27_8cd49ce816f2level0_row30\" class=\"row_heading level0 row30\" >30</th>\n",
       "                        <td id=\"T_4a519e3c_d7bb_11eb_9d27_8cd49ce816f2row30_col0\" class=\"data row30 col0\" >Normalize Method</td>\n",
       "                        <td id=\"T_4a519e3c_d7bb_11eb_9d27_8cd49ce816f2row30_col1\" class=\"data row30 col1\" >None</td>\n",
       "            </tr>\n",
       "            <tr>\n",
       "                        <th id=\"T_4a519e3c_d7bb_11eb_9d27_8cd49ce816f2level0_row31\" class=\"row_heading level0 row31\" >31</th>\n",
       "                        <td id=\"T_4a519e3c_d7bb_11eb_9d27_8cd49ce816f2row31_col0\" class=\"data row31 col0\" >Transformation</td>\n",
       "                        <td id=\"T_4a519e3c_d7bb_11eb_9d27_8cd49ce816f2row31_col1\" class=\"data row31 col1\" >False</td>\n",
       "            </tr>\n",
       "            <tr>\n",
       "                        <th id=\"T_4a519e3c_d7bb_11eb_9d27_8cd49ce816f2level0_row32\" class=\"row_heading level0 row32\" >32</th>\n",
       "                        <td id=\"T_4a519e3c_d7bb_11eb_9d27_8cd49ce816f2row32_col0\" class=\"data row32 col0\" >Transformation Method</td>\n",
       "                        <td id=\"T_4a519e3c_d7bb_11eb_9d27_8cd49ce816f2row32_col1\" class=\"data row32 col1\" >None</td>\n",
       "            </tr>\n",
       "            <tr>\n",
       "                        <th id=\"T_4a519e3c_d7bb_11eb_9d27_8cd49ce816f2level0_row33\" class=\"row_heading level0 row33\" >33</th>\n",
       "                        <td id=\"T_4a519e3c_d7bb_11eb_9d27_8cd49ce816f2row33_col0\" class=\"data row33 col0\" >PCA</td>\n",
       "                        <td id=\"T_4a519e3c_d7bb_11eb_9d27_8cd49ce816f2row33_col1\" class=\"data row33 col1\" >False</td>\n",
       "            </tr>\n",
       "            <tr>\n",
       "                        <th id=\"T_4a519e3c_d7bb_11eb_9d27_8cd49ce816f2level0_row34\" class=\"row_heading level0 row34\" >34</th>\n",
       "                        <td id=\"T_4a519e3c_d7bb_11eb_9d27_8cd49ce816f2row34_col0\" class=\"data row34 col0\" >PCA Method</td>\n",
       "                        <td id=\"T_4a519e3c_d7bb_11eb_9d27_8cd49ce816f2row34_col1\" class=\"data row34 col1\" >None</td>\n",
       "            </tr>\n",
       "            <tr>\n",
       "                        <th id=\"T_4a519e3c_d7bb_11eb_9d27_8cd49ce816f2level0_row35\" class=\"row_heading level0 row35\" >35</th>\n",
       "                        <td id=\"T_4a519e3c_d7bb_11eb_9d27_8cd49ce816f2row35_col0\" class=\"data row35 col0\" >PCA Components</td>\n",
       "                        <td id=\"T_4a519e3c_d7bb_11eb_9d27_8cd49ce816f2row35_col1\" class=\"data row35 col1\" >None</td>\n",
       "            </tr>\n",
       "            <tr>\n",
       "                        <th id=\"T_4a519e3c_d7bb_11eb_9d27_8cd49ce816f2level0_row36\" class=\"row_heading level0 row36\" >36</th>\n",
       "                        <td id=\"T_4a519e3c_d7bb_11eb_9d27_8cd49ce816f2row36_col0\" class=\"data row36 col0\" >Ignore Low Variance</td>\n",
       "                        <td id=\"T_4a519e3c_d7bb_11eb_9d27_8cd49ce816f2row36_col1\" class=\"data row36 col1\" >False</td>\n",
       "            </tr>\n",
       "            <tr>\n",
       "                        <th id=\"T_4a519e3c_d7bb_11eb_9d27_8cd49ce816f2level0_row37\" class=\"row_heading level0 row37\" >37</th>\n",
       "                        <td id=\"T_4a519e3c_d7bb_11eb_9d27_8cd49ce816f2row37_col0\" class=\"data row37 col0\" >Combine Rare Levels</td>\n",
       "                        <td id=\"T_4a519e3c_d7bb_11eb_9d27_8cd49ce816f2row37_col1\" class=\"data row37 col1\" >False</td>\n",
       "            </tr>\n",
       "            <tr>\n",
       "                        <th id=\"T_4a519e3c_d7bb_11eb_9d27_8cd49ce816f2level0_row38\" class=\"row_heading level0 row38\" >38</th>\n",
       "                        <td id=\"T_4a519e3c_d7bb_11eb_9d27_8cd49ce816f2row38_col0\" class=\"data row38 col0\" >Rare Level Threshold</td>\n",
       "                        <td id=\"T_4a519e3c_d7bb_11eb_9d27_8cd49ce816f2row38_col1\" class=\"data row38 col1\" >None</td>\n",
       "            </tr>\n",
       "            <tr>\n",
       "                        <th id=\"T_4a519e3c_d7bb_11eb_9d27_8cd49ce816f2level0_row39\" class=\"row_heading level0 row39\" >39</th>\n",
       "                        <td id=\"T_4a519e3c_d7bb_11eb_9d27_8cd49ce816f2row39_col0\" class=\"data row39 col0\" >Numeric Binning</td>\n",
       "                        <td id=\"T_4a519e3c_d7bb_11eb_9d27_8cd49ce816f2row39_col1\" class=\"data row39 col1\" >False</td>\n",
       "            </tr>\n",
       "            <tr>\n",
       "                        <th id=\"T_4a519e3c_d7bb_11eb_9d27_8cd49ce816f2level0_row40\" class=\"row_heading level0 row40\" >40</th>\n",
       "                        <td id=\"T_4a519e3c_d7bb_11eb_9d27_8cd49ce816f2row40_col0\" class=\"data row40 col0\" >Remove Outliers</td>\n",
       "                        <td id=\"T_4a519e3c_d7bb_11eb_9d27_8cd49ce816f2row40_col1\" class=\"data row40 col1\" >True</td>\n",
       "            </tr>\n",
       "            <tr>\n",
       "                        <th id=\"T_4a519e3c_d7bb_11eb_9d27_8cd49ce816f2level0_row41\" class=\"row_heading level0 row41\" >41</th>\n",
       "                        <td id=\"T_4a519e3c_d7bb_11eb_9d27_8cd49ce816f2row41_col0\" class=\"data row41 col0\" >Outliers Threshold</td>\n",
       "                        <td id=\"T_4a519e3c_d7bb_11eb_9d27_8cd49ce816f2row41_col1\" class=\"data row41 col1\" >0.050000</td>\n",
       "            </tr>\n",
       "            <tr>\n",
       "                        <th id=\"T_4a519e3c_d7bb_11eb_9d27_8cd49ce816f2level0_row42\" class=\"row_heading level0 row42\" >42</th>\n",
       "                        <td id=\"T_4a519e3c_d7bb_11eb_9d27_8cd49ce816f2row42_col0\" class=\"data row42 col0\" >Remove Multicollinearity</td>\n",
       "                        <td id=\"T_4a519e3c_d7bb_11eb_9d27_8cd49ce816f2row42_col1\" class=\"data row42 col1\" >True</td>\n",
       "            </tr>\n",
       "            <tr>\n",
       "                        <th id=\"T_4a519e3c_d7bb_11eb_9d27_8cd49ce816f2level0_row43\" class=\"row_heading level0 row43\" >43</th>\n",
       "                        <td id=\"T_4a519e3c_d7bb_11eb_9d27_8cd49ce816f2row43_col0\" class=\"data row43 col0\" >Multicollinearity Threshold</td>\n",
       "                        <td id=\"T_4a519e3c_d7bb_11eb_9d27_8cd49ce816f2row43_col1\" class=\"data row43 col1\" >0.900000</td>\n",
       "            </tr>\n",
       "            <tr>\n",
       "                        <th id=\"T_4a519e3c_d7bb_11eb_9d27_8cd49ce816f2level0_row44\" class=\"row_heading level0 row44\" >44</th>\n",
       "                        <td id=\"T_4a519e3c_d7bb_11eb_9d27_8cd49ce816f2row44_col0\" class=\"data row44 col0\" >Clustering</td>\n",
       "                        <td id=\"T_4a519e3c_d7bb_11eb_9d27_8cd49ce816f2row44_col1\" class=\"data row44 col1\" >False</td>\n",
       "            </tr>\n",
       "            <tr>\n",
       "                        <th id=\"T_4a519e3c_d7bb_11eb_9d27_8cd49ce816f2level0_row45\" class=\"row_heading level0 row45\" >45</th>\n",
       "                        <td id=\"T_4a519e3c_d7bb_11eb_9d27_8cd49ce816f2row45_col0\" class=\"data row45 col0\" >Clustering Iteration</td>\n",
       "                        <td id=\"T_4a519e3c_d7bb_11eb_9d27_8cd49ce816f2row45_col1\" class=\"data row45 col1\" >None</td>\n",
       "            </tr>\n",
       "            <tr>\n",
       "                        <th id=\"T_4a519e3c_d7bb_11eb_9d27_8cd49ce816f2level0_row46\" class=\"row_heading level0 row46\" >46</th>\n",
       "                        <td id=\"T_4a519e3c_d7bb_11eb_9d27_8cd49ce816f2row46_col0\" class=\"data row46 col0\" >Polynomial Features</td>\n",
       "                        <td id=\"T_4a519e3c_d7bb_11eb_9d27_8cd49ce816f2row46_col1\" class=\"data row46 col1\" >False</td>\n",
       "            </tr>\n",
       "            <tr>\n",
       "                        <th id=\"T_4a519e3c_d7bb_11eb_9d27_8cd49ce816f2level0_row47\" class=\"row_heading level0 row47\" >47</th>\n",
       "                        <td id=\"T_4a519e3c_d7bb_11eb_9d27_8cd49ce816f2row47_col0\" class=\"data row47 col0\" >Polynomial Degree</td>\n",
       "                        <td id=\"T_4a519e3c_d7bb_11eb_9d27_8cd49ce816f2row47_col1\" class=\"data row47 col1\" >None</td>\n",
       "            </tr>\n",
       "            <tr>\n",
       "                        <th id=\"T_4a519e3c_d7bb_11eb_9d27_8cd49ce816f2level0_row48\" class=\"row_heading level0 row48\" >48</th>\n",
       "                        <td id=\"T_4a519e3c_d7bb_11eb_9d27_8cd49ce816f2row48_col0\" class=\"data row48 col0\" >Trignometry Features</td>\n",
       "                        <td id=\"T_4a519e3c_d7bb_11eb_9d27_8cd49ce816f2row48_col1\" class=\"data row48 col1\" >False</td>\n",
       "            </tr>\n",
       "            <tr>\n",
       "                        <th id=\"T_4a519e3c_d7bb_11eb_9d27_8cd49ce816f2level0_row49\" class=\"row_heading level0 row49\" >49</th>\n",
       "                        <td id=\"T_4a519e3c_d7bb_11eb_9d27_8cd49ce816f2row49_col0\" class=\"data row49 col0\" >Polynomial Threshold</td>\n",
       "                        <td id=\"T_4a519e3c_d7bb_11eb_9d27_8cd49ce816f2row49_col1\" class=\"data row49 col1\" >None</td>\n",
       "            </tr>\n",
       "            <tr>\n",
       "                        <th id=\"T_4a519e3c_d7bb_11eb_9d27_8cd49ce816f2level0_row50\" class=\"row_heading level0 row50\" >50</th>\n",
       "                        <td id=\"T_4a519e3c_d7bb_11eb_9d27_8cd49ce816f2row50_col0\" class=\"data row50 col0\" >Group Features</td>\n",
       "                        <td id=\"T_4a519e3c_d7bb_11eb_9d27_8cd49ce816f2row50_col1\" class=\"data row50 col1\" >False</td>\n",
       "            </tr>\n",
       "            <tr>\n",
       "                        <th id=\"T_4a519e3c_d7bb_11eb_9d27_8cd49ce816f2level0_row51\" class=\"row_heading level0 row51\" >51</th>\n",
       "                        <td id=\"T_4a519e3c_d7bb_11eb_9d27_8cd49ce816f2row51_col0\" class=\"data row51 col0\" >Feature Selection</td>\n",
       "                        <td id=\"T_4a519e3c_d7bb_11eb_9d27_8cd49ce816f2row51_col1\" class=\"data row51 col1\" >False</td>\n",
       "            </tr>\n",
       "            <tr>\n",
       "                        <th id=\"T_4a519e3c_d7bb_11eb_9d27_8cd49ce816f2level0_row52\" class=\"row_heading level0 row52\" >52</th>\n",
       "                        <td id=\"T_4a519e3c_d7bb_11eb_9d27_8cd49ce816f2row52_col0\" class=\"data row52 col0\" >Features Selection Threshold</td>\n",
       "                        <td id=\"T_4a519e3c_d7bb_11eb_9d27_8cd49ce816f2row52_col1\" class=\"data row52 col1\" >None</td>\n",
       "            </tr>\n",
       "            <tr>\n",
       "                        <th id=\"T_4a519e3c_d7bb_11eb_9d27_8cd49ce816f2level0_row53\" class=\"row_heading level0 row53\" >53</th>\n",
       "                        <td id=\"T_4a519e3c_d7bb_11eb_9d27_8cd49ce816f2row53_col0\" class=\"data row53 col0\" >Feature Interaction</td>\n",
       "                        <td id=\"T_4a519e3c_d7bb_11eb_9d27_8cd49ce816f2row53_col1\" class=\"data row53 col1\" >False</td>\n",
       "            </tr>\n",
       "            <tr>\n",
       "                        <th id=\"T_4a519e3c_d7bb_11eb_9d27_8cd49ce816f2level0_row54\" class=\"row_heading level0 row54\" >54</th>\n",
       "                        <td id=\"T_4a519e3c_d7bb_11eb_9d27_8cd49ce816f2row54_col0\" class=\"data row54 col0\" >Feature Ratio</td>\n",
       "                        <td id=\"T_4a519e3c_d7bb_11eb_9d27_8cd49ce816f2row54_col1\" class=\"data row54 col1\" >False</td>\n",
       "            </tr>\n",
       "            <tr>\n",
       "                        <th id=\"T_4a519e3c_d7bb_11eb_9d27_8cd49ce816f2level0_row55\" class=\"row_heading level0 row55\" >55</th>\n",
       "                        <td id=\"T_4a519e3c_d7bb_11eb_9d27_8cd49ce816f2row55_col0\" class=\"data row55 col0\" >Interaction Threshold</td>\n",
       "                        <td id=\"T_4a519e3c_d7bb_11eb_9d27_8cd49ce816f2row55_col1\" class=\"data row55 col1\" >None</td>\n",
       "            </tr>\n",
       "            <tr>\n",
       "                        <th id=\"T_4a519e3c_d7bb_11eb_9d27_8cd49ce816f2level0_row56\" class=\"row_heading level0 row56\" >56</th>\n",
       "                        <td id=\"T_4a519e3c_d7bb_11eb_9d27_8cd49ce816f2row56_col0\" class=\"data row56 col0\" >Fix Imbalance</td>\n",
       "                        <td id=\"T_4a519e3c_d7bb_11eb_9d27_8cd49ce816f2row56_col1\" class=\"data row56 col1\" >False</td>\n",
       "            </tr>\n",
       "            <tr>\n",
       "                        <th id=\"T_4a519e3c_d7bb_11eb_9d27_8cd49ce816f2level0_row57\" class=\"row_heading level0 row57\" >57</th>\n",
       "                        <td id=\"T_4a519e3c_d7bb_11eb_9d27_8cd49ce816f2row57_col0\" class=\"data row57 col0\" >Fix Imbalance Method</td>\n",
       "                        <td id=\"T_4a519e3c_d7bb_11eb_9d27_8cd49ce816f2row57_col1\" class=\"data row57 col1\" >SMOTE</td>\n",
       "            </tr>\n",
       "    </tbody></table>"
      ],
      "text/plain": [
       "<pandas.io.formats.style.Styler at 0x266d0baebe0>"
      ]
     },
     "metadata": {},
     "output_type": "display_data"
    }
   ],
   "source": [
    "s = setup(X, target = 'Churn', numeric_features = ['MonthlyCharges', 'TotalCharges', 'tenure'],\n",
    "          remove_outliers=True, fold_strategy = 'stratifiedkfold', fold_shuffle=True, remove_multicollinearity=True)"
   ]
  },
  {
   "cell_type": "markdown",
   "metadata": {},
   "source": [
    "# Vamos comparar os modelos"
   ]
  },
  {
   "cell_type": "code",
   "execution_count": 153,
   "metadata": {},
   "outputs": [
    {
     "data": {
      "text/html": [
       "<style  type=\"text/css\" >\n",
       "    #T_97aebf1a_d7bb_11eb_b636_8cd49ce816f2 th {\n",
       "          text-align: left;\n",
       "    }    #T_97aebf1a_d7bb_11eb_b636_8cd49ce816f2row0_col0 {\n",
       "            text-align:  left;\n",
       "            text-align:  left;\n",
       "        }    #T_97aebf1a_d7bb_11eb_b636_8cd49ce816f2row0_col1 {\n",
       "            text-align:  left;\n",
       "            text-align:  left;\n",
       "            background-color:  yellow;\n",
       "        }    #T_97aebf1a_d7bb_11eb_b636_8cd49ce816f2row0_col2 {\n",
       "            text-align:  left;\n",
       "            text-align:  left;\n",
       "            background-color:  yellow;\n",
       "        }    #T_97aebf1a_d7bb_11eb_b636_8cd49ce816f2row0_col3 {\n",
       "            text-align:  left;\n",
       "            text-align:  left;\n",
       "            : ;\n",
       "        }    #T_97aebf1a_d7bb_11eb_b636_8cd49ce816f2row0_col4 {\n",
       "            text-align:  left;\n",
       "            text-align:  left;\n",
       "            background-color:  yellow;\n",
       "        }    #T_97aebf1a_d7bb_11eb_b636_8cd49ce816f2row0_col5 {\n",
       "            text-align:  left;\n",
       "            text-align:  left;\n",
       "            background-color:  yellow;\n",
       "        }    #T_97aebf1a_d7bb_11eb_b636_8cd49ce816f2row0_col6 {\n",
       "            text-align:  left;\n",
       "            text-align:  left;\n",
       "            background-color:  yellow;\n",
       "        }    #T_97aebf1a_d7bb_11eb_b636_8cd49ce816f2row0_col7 {\n",
       "            text-align:  left;\n",
       "            text-align:  left;\n",
       "            background-color:  yellow;\n",
       "        }    #T_97aebf1a_d7bb_11eb_b636_8cd49ce816f2row0_col8 {\n",
       "            text-align:  left;\n",
       "            text-align:  left;\n",
       "            : ;\n",
       "            background-color:  lightgrey;\n",
       "        }    #T_97aebf1a_d7bb_11eb_b636_8cd49ce816f2row1_col0 {\n",
       "            text-align:  left;\n",
       "            text-align:  left;\n",
       "        }    #T_97aebf1a_d7bb_11eb_b636_8cd49ce816f2row1_col1 {\n",
       "            text-align:  left;\n",
       "            text-align:  left;\n",
       "            : ;\n",
       "        }    #T_97aebf1a_d7bb_11eb_b636_8cd49ce816f2row1_col2 {\n",
       "            text-align:  left;\n",
       "            text-align:  left;\n",
       "            : ;\n",
       "        }    #T_97aebf1a_d7bb_11eb_b636_8cd49ce816f2row1_col3 {\n",
       "            text-align:  left;\n",
       "            text-align:  left;\n",
       "            : ;\n",
       "        }    #T_97aebf1a_d7bb_11eb_b636_8cd49ce816f2row1_col4 {\n",
       "            text-align:  left;\n",
       "            text-align:  left;\n",
       "            : ;\n",
       "        }    #T_97aebf1a_d7bb_11eb_b636_8cd49ce816f2row1_col5 {\n",
       "            text-align:  left;\n",
       "            text-align:  left;\n",
       "            : ;\n",
       "        }    #T_97aebf1a_d7bb_11eb_b636_8cd49ce816f2row1_col6 {\n",
       "            text-align:  left;\n",
       "            text-align:  left;\n",
       "            : ;\n",
       "        }    #T_97aebf1a_d7bb_11eb_b636_8cd49ce816f2row1_col7 {\n",
       "            text-align:  left;\n",
       "            text-align:  left;\n",
       "            : ;\n",
       "        }    #T_97aebf1a_d7bb_11eb_b636_8cd49ce816f2row1_col8 {\n",
       "            text-align:  left;\n",
       "            text-align:  left;\n",
       "            : ;\n",
       "            background-color:  lightgrey;\n",
       "        }    #T_97aebf1a_d7bb_11eb_b636_8cd49ce816f2row2_col0 {\n",
       "            text-align:  left;\n",
       "            text-align:  left;\n",
       "        }    #T_97aebf1a_d7bb_11eb_b636_8cd49ce816f2row2_col1 {\n",
       "            text-align:  left;\n",
       "            text-align:  left;\n",
       "            : ;\n",
       "        }    #T_97aebf1a_d7bb_11eb_b636_8cd49ce816f2row2_col2 {\n",
       "            text-align:  left;\n",
       "            text-align:  left;\n",
       "            : ;\n",
       "        }    #T_97aebf1a_d7bb_11eb_b636_8cd49ce816f2row2_col3 {\n",
       "            text-align:  left;\n",
       "            text-align:  left;\n",
       "            : ;\n",
       "        }    #T_97aebf1a_d7bb_11eb_b636_8cd49ce816f2row2_col4 {\n",
       "            text-align:  left;\n",
       "            text-align:  left;\n",
       "            : ;\n",
       "        }    #T_97aebf1a_d7bb_11eb_b636_8cd49ce816f2row2_col5 {\n",
       "            text-align:  left;\n",
       "            text-align:  left;\n",
       "            : ;\n",
       "        }    #T_97aebf1a_d7bb_11eb_b636_8cd49ce816f2row2_col6 {\n",
       "            text-align:  left;\n",
       "            text-align:  left;\n",
       "            : ;\n",
       "        }    #T_97aebf1a_d7bb_11eb_b636_8cd49ce816f2row2_col7 {\n",
       "            text-align:  left;\n",
       "            text-align:  left;\n",
       "            : ;\n",
       "        }    #T_97aebf1a_d7bb_11eb_b636_8cd49ce816f2row2_col8 {\n",
       "            text-align:  left;\n",
       "            text-align:  left;\n",
       "            : ;\n",
       "            background-color:  lightgrey;\n",
       "        }    #T_97aebf1a_d7bb_11eb_b636_8cd49ce816f2row3_col0 {\n",
       "            text-align:  left;\n",
       "            text-align:  left;\n",
       "        }    #T_97aebf1a_d7bb_11eb_b636_8cd49ce816f2row3_col1 {\n",
       "            text-align:  left;\n",
       "            text-align:  left;\n",
       "            : ;\n",
       "        }    #T_97aebf1a_d7bb_11eb_b636_8cd49ce816f2row3_col2 {\n",
       "            text-align:  left;\n",
       "            text-align:  left;\n",
       "            : ;\n",
       "        }    #T_97aebf1a_d7bb_11eb_b636_8cd49ce816f2row3_col3 {\n",
       "            text-align:  left;\n",
       "            text-align:  left;\n",
       "            : ;\n",
       "        }    #T_97aebf1a_d7bb_11eb_b636_8cd49ce816f2row3_col4 {\n",
       "            text-align:  left;\n",
       "            text-align:  left;\n",
       "            : ;\n",
       "        }    #T_97aebf1a_d7bb_11eb_b636_8cd49ce816f2row3_col5 {\n",
       "            text-align:  left;\n",
       "            text-align:  left;\n",
       "            : ;\n",
       "        }    #T_97aebf1a_d7bb_11eb_b636_8cd49ce816f2row3_col6 {\n",
       "            text-align:  left;\n",
       "            text-align:  left;\n",
       "            : ;\n",
       "        }    #T_97aebf1a_d7bb_11eb_b636_8cd49ce816f2row3_col7 {\n",
       "            text-align:  left;\n",
       "            text-align:  left;\n",
       "            : ;\n",
       "        }    #T_97aebf1a_d7bb_11eb_b636_8cd49ce816f2row3_col8 {\n",
       "            text-align:  left;\n",
       "            text-align:  left;\n",
       "            : ;\n",
       "            background-color:  lightgrey;\n",
       "        }    #T_97aebf1a_d7bb_11eb_b636_8cd49ce816f2row4_col0 {\n",
       "            text-align:  left;\n",
       "            text-align:  left;\n",
       "        }    #T_97aebf1a_d7bb_11eb_b636_8cd49ce816f2row4_col1 {\n",
       "            text-align:  left;\n",
       "            text-align:  left;\n",
       "            : ;\n",
       "        }    #T_97aebf1a_d7bb_11eb_b636_8cd49ce816f2row4_col2 {\n",
       "            text-align:  left;\n",
       "            text-align:  left;\n",
       "            : ;\n",
       "        }    #T_97aebf1a_d7bb_11eb_b636_8cd49ce816f2row4_col3 {\n",
       "            text-align:  left;\n",
       "            text-align:  left;\n",
       "            : ;\n",
       "        }    #T_97aebf1a_d7bb_11eb_b636_8cd49ce816f2row4_col4 {\n",
       "            text-align:  left;\n",
       "            text-align:  left;\n",
       "            : ;\n",
       "        }    #T_97aebf1a_d7bb_11eb_b636_8cd49ce816f2row4_col5 {\n",
       "            text-align:  left;\n",
       "            text-align:  left;\n",
       "            : ;\n",
       "        }    #T_97aebf1a_d7bb_11eb_b636_8cd49ce816f2row4_col6 {\n",
       "            text-align:  left;\n",
       "            text-align:  left;\n",
       "            : ;\n",
       "        }    #T_97aebf1a_d7bb_11eb_b636_8cd49ce816f2row4_col7 {\n",
       "            text-align:  left;\n",
       "            text-align:  left;\n",
       "            : ;\n",
       "        }    #T_97aebf1a_d7bb_11eb_b636_8cd49ce816f2row4_col8 {\n",
       "            text-align:  left;\n",
       "            text-align:  left;\n",
       "            : ;\n",
       "            background-color:  lightgrey;\n",
       "        }    #T_97aebf1a_d7bb_11eb_b636_8cd49ce816f2row5_col0 {\n",
       "            text-align:  left;\n",
       "            text-align:  left;\n",
       "        }    #T_97aebf1a_d7bb_11eb_b636_8cd49ce816f2row5_col1 {\n",
       "            text-align:  left;\n",
       "            text-align:  left;\n",
       "            : ;\n",
       "        }    #T_97aebf1a_d7bb_11eb_b636_8cd49ce816f2row5_col2 {\n",
       "            text-align:  left;\n",
       "            text-align:  left;\n",
       "            : ;\n",
       "        }    #T_97aebf1a_d7bb_11eb_b636_8cd49ce816f2row5_col3 {\n",
       "            text-align:  left;\n",
       "            text-align:  left;\n",
       "            : ;\n",
       "        }    #T_97aebf1a_d7bb_11eb_b636_8cd49ce816f2row5_col4 {\n",
       "            text-align:  left;\n",
       "            text-align:  left;\n",
       "            : ;\n",
       "        }    #T_97aebf1a_d7bb_11eb_b636_8cd49ce816f2row5_col5 {\n",
       "            text-align:  left;\n",
       "            text-align:  left;\n",
       "            : ;\n",
       "        }    #T_97aebf1a_d7bb_11eb_b636_8cd49ce816f2row5_col6 {\n",
       "            text-align:  left;\n",
       "            text-align:  left;\n",
       "            : ;\n",
       "        }    #T_97aebf1a_d7bb_11eb_b636_8cd49ce816f2row5_col7 {\n",
       "            text-align:  left;\n",
       "            text-align:  left;\n",
       "            : ;\n",
       "        }    #T_97aebf1a_d7bb_11eb_b636_8cd49ce816f2row5_col8 {\n",
       "            text-align:  left;\n",
       "            text-align:  left;\n",
       "            : ;\n",
       "            background-color:  lightgrey;\n",
       "        }    #T_97aebf1a_d7bb_11eb_b636_8cd49ce816f2row6_col0 {\n",
       "            text-align:  left;\n",
       "            text-align:  left;\n",
       "        }    #T_97aebf1a_d7bb_11eb_b636_8cd49ce816f2row6_col1 {\n",
       "            text-align:  left;\n",
       "            text-align:  left;\n",
       "            : ;\n",
       "        }    #T_97aebf1a_d7bb_11eb_b636_8cd49ce816f2row6_col2 {\n",
       "            text-align:  left;\n",
       "            text-align:  left;\n",
       "            : ;\n",
       "        }    #T_97aebf1a_d7bb_11eb_b636_8cd49ce816f2row6_col3 {\n",
       "            text-align:  left;\n",
       "            text-align:  left;\n",
       "            : ;\n",
       "        }    #T_97aebf1a_d7bb_11eb_b636_8cd49ce816f2row6_col4 {\n",
       "            text-align:  left;\n",
       "            text-align:  left;\n",
       "            : ;\n",
       "        }    #T_97aebf1a_d7bb_11eb_b636_8cd49ce816f2row6_col5 {\n",
       "            text-align:  left;\n",
       "            text-align:  left;\n",
       "            : ;\n",
       "        }    #T_97aebf1a_d7bb_11eb_b636_8cd49ce816f2row6_col6 {\n",
       "            text-align:  left;\n",
       "            text-align:  left;\n",
       "            : ;\n",
       "        }    #T_97aebf1a_d7bb_11eb_b636_8cd49ce816f2row6_col7 {\n",
       "            text-align:  left;\n",
       "            text-align:  left;\n",
       "            : ;\n",
       "        }    #T_97aebf1a_d7bb_11eb_b636_8cd49ce816f2row6_col8 {\n",
       "            text-align:  left;\n",
       "            text-align:  left;\n",
       "            : ;\n",
       "            background-color:  lightgrey;\n",
       "        }    #T_97aebf1a_d7bb_11eb_b636_8cd49ce816f2row7_col0 {\n",
       "            text-align:  left;\n",
       "            text-align:  left;\n",
       "        }    #T_97aebf1a_d7bb_11eb_b636_8cd49ce816f2row7_col1 {\n",
       "            text-align:  left;\n",
       "            text-align:  left;\n",
       "            : ;\n",
       "        }    #T_97aebf1a_d7bb_11eb_b636_8cd49ce816f2row7_col2 {\n",
       "            text-align:  left;\n",
       "            text-align:  left;\n",
       "            : ;\n",
       "        }    #T_97aebf1a_d7bb_11eb_b636_8cd49ce816f2row7_col3 {\n",
       "            text-align:  left;\n",
       "            text-align:  left;\n",
       "            : ;\n",
       "        }    #T_97aebf1a_d7bb_11eb_b636_8cd49ce816f2row7_col4 {\n",
       "            text-align:  left;\n",
       "            text-align:  left;\n",
       "            : ;\n",
       "        }    #T_97aebf1a_d7bb_11eb_b636_8cd49ce816f2row7_col5 {\n",
       "            text-align:  left;\n",
       "            text-align:  left;\n",
       "            : ;\n",
       "        }    #T_97aebf1a_d7bb_11eb_b636_8cd49ce816f2row7_col6 {\n",
       "            text-align:  left;\n",
       "            text-align:  left;\n",
       "            : ;\n",
       "        }    #T_97aebf1a_d7bb_11eb_b636_8cd49ce816f2row7_col7 {\n",
       "            text-align:  left;\n",
       "            text-align:  left;\n",
       "            : ;\n",
       "        }    #T_97aebf1a_d7bb_11eb_b636_8cd49ce816f2row7_col8 {\n",
       "            text-align:  left;\n",
       "            text-align:  left;\n",
       "            : ;\n",
       "            background-color:  lightgrey;\n",
       "        }    #T_97aebf1a_d7bb_11eb_b636_8cd49ce816f2row8_col0 {\n",
       "            text-align:  left;\n",
       "            text-align:  left;\n",
       "        }    #T_97aebf1a_d7bb_11eb_b636_8cd49ce816f2row8_col1 {\n",
       "            text-align:  left;\n",
       "            text-align:  left;\n",
       "            : ;\n",
       "        }    #T_97aebf1a_d7bb_11eb_b636_8cd49ce816f2row8_col2 {\n",
       "            text-align:  left;\n",
       "            text-align:  left;\n",
       "            : ;\n",
       "        }    #T_97aebf1a_d7bb_11eb_b636_8cd49ce816f2row8_col3 {\n",
       "            text-align:  left;\n",
       "            text-align:  left;\n",
       "            : ;\n",
       "        }    #T_97aebf1a_d7bb_11eb_b636_8cd49ce816f2row8_col4 {\n",
       "            text-align:  left;\n",
       "            text-align:  left;\n",
       "            : ;\n",
       "        }    #T_97aebf1a_d7bb_11eb_b636_8cd49ce816f2row8_col5 {\n",
       "            text-align:  left;\n",
       "            text-align:  left;\n",
       "            : ;\n",
       "        }    #T_97aebf1a_d7bb_11eb_b636_8cd49ce816f2row8_col6 {\n",
       "            text-align:  left;\n",
       "            text-align:  left;\n",
       "            : ;\n",
       "        }    #T_97aebf1a_d7bb_11eb_b636_8cd49ce816f2row8_col7 {\n",
       "            text-align:  left;\n",
       "            text-align:  left;\n",
       "            : ;\n",
       "        }    #T_97aebf1a_d7bb_11eb_b636_8cd49ce816f2row8_col8 {\n",
       "            text-align:  left;\n",
       "            text-align:  left;\n",
       "            : ;\n",
       "            background-color:  lightgrey;\n",
       "        }    #T_97aebf1a_d7bb_11eb_b636_8cd49ce816f2row9_col0 {\n",
       "            text-align:  left;\n",
       "            text-align:  left;\n",
       "        }    #T_97aebf1a_d7bb_11eb_b636_8cd49ce816f2row9_col1 {\n",
       "            text-align:  left;\n",
       "            text-align:  left;\n",
       "            : ;\n",
       "        }    #T_97aebf1a_d7bb_11eb_b636_8cd49ce816f2row9_col2 {\n",
       "            text-align:  left;\n",
       "            text-align:  left;\n",
       "            : ;\n",
       "        }    #T_97aebf1a_d7bb_11eb_b636_8cd49ce816f2row9_col3 {\n",
       "            text-align:  left;\n",
       "            text-align:  left;\n",
       "            : ;\n",
       "        }    #T_97aebf1a_d7bb_11eb_b636_8cd49ce816f2row9_col4 {\n",
       "            text-align:  left;\n",
       "            text-align:  left;\n",
       "            : ;\n",
       "        }    #T_97aebf1a_d7bb_11eb_b636_8cd49ce816f2row9_col5 {\n",
       "            text-align:  left;\n",
       "            text-align:  left;\n",
       "            : ;\n",
       "        }    #T_97aebf1a_d7bb_11eb_b636_8cd49ce816f2row9_col6 {\n",
       "            text-align:  left;\n",
       "            text-align:  left;\n",
       "            : ;\n",
       "        }    #T_97aebf1a_d7bb_11eb_b636_8cd49ce816f2row9_col7 {\n",
       "            text-align:  left;\n",
       "            text-align:  left;\n",
       "            : ;\n",
       "        }    #T_97aebf1a_d7bb_11eb_b636_8cd49ce816f2row9_col8 {\n",
       "            text-align:  left;\n",
       "            text-align:  left;\n",
       "            : ;\n",
       "            background-color:  lightgrey;\n",
       "        }    #T_97aebf1a_d7bb_11eb_b636_8cd49ce816f2row10_col0 {\n",
       "            text-align:  left;\n",
       "            text-align:  left;\n",
       "        }    #T_97aebf1a_d7bb_11eb_b636_8cd49ce816f2row10_col1 {\n",
       "            text-align:  left;\n",
       "            text-align:  left;\n",
       "            : ;\n",
       "        }    #T_97aebf1a_d7bb_11eb_b636_8cd49ce816f2row10_col2 {\n",
       "            text-align:  left;\n",
       "            text-align:  left;\n",
       "            : ;\n",
       "        }    #T_97aebf1a_d7bb_11eb_b636_8cd49ce816f2row10_col3 {\n",
       "            text-align:  left;\n",
       "            text-align:  left;\n",
       "            : ;\n",
       "        }    #T_97aebf1a_d7bb_11eb_b636_8cd49ce816f2row10_col4 {\n",
       "            text-align:  left;\n",
       "            text-align:  left;\n",
       "            : ;\n",
       "        }    #T_97aebf1a_d7bb_11eb_b636_8cd49ce816f2row10_col5 {\n",
       "            text-align:  left;\n",
       "            text-align:  left;\n",
       "            : ;\n",
       "        }    #T_97aebf1a_d7bb_11eb_b636_8cd49ce816f2row10_col6 {\n",
       "            text-align:  left;\n",
       "            text-align:  left;\n",
       "            : ;\n",
       "        }    #T_97aebf1a_d7bb_11eb_b636_8cd49ce816f2row10_col7 {\n",
       "            text-align:  left;\n",
       "            text-align:  left;\n",
       "            : ;\n",
       "        }    #T_97aebf1a_d7bb_11eb_b636_8cd49ce816f2row10_col8 {\n",
       "            text-align:  left;\n",
       "            text-align:  left;\n",
       "            background-color:  yellow;\n",
       "            background-color:  lightgrey;\n",
       "        }    #T_97aebf1a_d7bb_11eb_b636_8cd49ce816f2row11_col0 {\n",
       "            text-align:  left;\n",
       "            text-align:  left;\n",
       "        }    #T_97aebf1a_d7bb_11eb_b636_8cd49ce816f2row11_col1 {\n",
       "            text-align:  left;\n",
       "            text-align:  left;\n",
       "            : ;\n",
       "        }    #T_97aebf1a_d7bb_11eb_b636_8cd49ce816f2row11_col2 {\n",
       "            text-align:  left;\n",
       "            text-align:  left;\n",
       "            : ;\n",
       "        }    #T_97aebf1a_d7bb_11eb_b636_8cd49ce816f2row11_col3 {\n",
       "            text-align:  left;\n",
       "            text-align:  left;\n",
       "            : ;\n",
       "        }    #T_97aebf1a_d7bb_11eb_b636_8cd49ce816f2row11_col4 {\n",
       "            text-align:  left;\n",
       "            text-align:  left;\n",
       "            : ;\n",
       "        }    #T_97aebf1a_d7bb_11eb_b636_8cd49ce816f2row11_col5 {\n",
       "            text-align:  left;\n",
       "            text-align:  left;\n",
       "            : ;\n",
       "        }    #T_97aebf1a_d7bb_11eb_b636_8cd49ce816f2row11_col6 {\n",
       "            text-align:  left;\n",
       "            text-align:  left;\n",
       "            : ;\n",
       "        }    #T_97aebf1a_d7bb_11eb_b636_8cd49ce816f2row11_col7 {\n",
       "            text-align:  left;\n",
       "            text-align:  left;\n",
       "            : ;\n",
       "        }    #T_97aebf1a_d7bb_11eb_b636_8cd49ce816f2row11_col8 {\n",
       "            text-align:  left;\n",
       "            text-align:  left;\n",
       "            : ;\n",
       "            background-color:  lightgrey;\n",
       "        }    #T_97aebf1a_d7bb_11eb_b636_8cd49ce816f2row12_col0 {\n",
       "            text-align:  left;\n",
       "            text-align:  left;\n",
       "        }    #T_97aebf1a_d7bb_11eb_b636_8cd49ce816f2row12_col1 {\n",
       "            text-align:  left;\n",
       "            text-align:  left;\n",
       "            : ;\n",
       "        }    #T_97aebf1a_d7bb_11eb_b636_8cd49ce816f2row12_col2 {\n",
       "            text-align:  left;\n",
       "            text-align:  left;\n",
       "            : ;\n",
       "        }    #T_97aebf1a_d7bb_11eb_b636_8cd49ce816f2row12_col3 {\n",
       "            text-align:  left;\n",
       "            text-align:  left;\n",
       "            background-color:  yellow;\n",
       "        }    #T_97aebf1a_d7bb_11eb_b636_8cd49ce816f2row12_col4 {\n",
       "            text-align:  left;\n",
       "            text-align:  left;\n",
       "            : ;\n",
       "        }    #T_97aebf1a_d7bb_11eb_b636_8cd49ce816f2row12_col5 {\n",
       "            text-align:  left;\n",
       "            text-align:  left;\n",
       "            : ;\n",
       "        }    #T_97aebf1a_d7bb_11eb_b636_8cd49ce816f2row12_col6 {\n",
       "            text-align:  left;\n",
       "            text-align:  left;\n",
       "            : ;\n",
       "        }    #T_97aebf1a_d7bb_11eb_b636_8cd49ce816f2row12_col7 {\n",
       "            text-align:  left;\n",
       "            text-align:  left;\n",
       "            : ;\n",
       "        }    #T_97aebf1a_d7bb_11eb_b636_8cd49ce816f2row12_col8 {\n",
       "            text-align:  left;\n",
       "            text-align:  left;\n",
       "            : ;\n",
       "            background-color:  lightgrey;\n",
       "        }    #T_97aebf1a_d7bb_11eb_b636_8cd49ce816f2row13_col0 {\n",
       "            text-align:  left;\n",
       "            text-align:  left;\n",
       "        }    #T_97aebf1a_d7bb_11eb_b636_8cd49ce816f2row13_col1 {\n",
       "            text-align:  left;\n",
       "            text-align:  left;\n",
       "            : ;\n",
       "        }    #T_97aebf1a_d7bb_11eb_b636_8cd49ce816f2row13_col2 {\n",
       "            text-align:  left;\n",
       "            text-align:  left;\n",
       "            : ;\n",
       "        }    #T_97aebf1a_d7bb_11eb_b636_8cd49ce816f2row13_col3 {\n",
       "            text-align:  left;\n",
       "            text-align:  left;\n",
       "            : ;\n",
       "        }    #T_97aebf1a_d7bb_11eb_b636_8cd49ce816f2row13_col4 {\n",
       "            text-align:  left;\n",
       "            text-align:  left;\n",
       "            : ;\n",
       "        }    #T_97aebf1a_d7bb_11eb_b636_8cd49ce816f2row13_col5 {\n",
       "            text-align:  left;\n",
       "            text-align:  left;\n",
       "            : ;\n",
       "        }    #T_97aebf1a_d7bb_11eb_b636_8cd49ce816f2row13_col6 {\n",
       "            text-align:  left;\n",
       "            text-align:  left;\n",
       "            : ;\n",
       "        }    #T_97aebf1a_d7bb_11eb_b636_8cd49ce816f2row13_col7 {\n",
       "            text-align:  left;\n",
       "            text-align:  left;\n",
       "            : ;\n",
       "        }    #T_97aebf1a_d7bb_11eb_b636_8cd49ce816f2row13_col8 {\n",
       "            text-align:  left;\n",
       "            text-align:  left;\n",
       "            : ;\n",
       "            background-color:  lightgrey;\n",
       "        }    #T_97aebf1a_d7bb_11eb_b636_8cd49ce816f2row14_col0 {\n",
       "            text-align:  left;\n",
       "            text-align:  left;\n",
       "        }    #T_97aebf1a_d7bb_11eb_b636_8cd49ce816f2row14_col1 {\n",
       "            text-align:  left;\n",
       "            text-align:  left;\n",
       "            : ;\n",
       "        }    #T_97aebf1a_d7bb_11eb_b636_8cd49ce816f2row14_col2 {\n",
       "            text-align:  left;\n",
       "            text-align:  left;\n",
       "            : ;\n",
       "        }    #T_97aebf1a_d7bb_11eb_b636_8cd49ce816f2row14_col3 {\n",
       "            text-align:  left;\n",
       "            text-align:  left;\n",
       "            : ;\n",
       "        }    #T_97aebf1a_d7bb_11eb_b636_8cd49ce816f2row14_col4 {\n",
       "            text-align:  left;\n",
       "            text-align:  left;\n",
       "            : ;\n",
       "        }    #T_97aebf1a_d7bb_11eb_b636_8cd49ce816f2row14_col5 {\n",
       "            text-align:  left;\n",
       "            text-align:  left;\n",
       "            : ;\n",
       "        }    #T_97aebf1a_d7bb_11eb_b636_8cd49ce816f2row14_col6 {\n",
       "            text-align:  left;\n",
       "            text-align:  left;\n",
       "            : ;\n",
       "        }    #T_97aebf1a_d7bb_11eb_b636_8cd49ce816f2row14_col7 {\n",
       "            text-align:  left;\n",
       "            text-align:  left;\n",
       "            : ;\n",
       "        }    #T_97aebf1a_d7bb_11eb_b636_8cd49ce816f2row14_col8 {\n",
       "            text-align:  left;\n",
       "            text-align:  left;\n",
       "            : ;\n",
       "            background-color:  lightgrey;\n",
       "        }</style><table id=\"T_97aebf1a_d7bb_11eb_b636_8cd49ce816f2\" ><thead>    <tr>        <th class=\"blank level0\" ></th>        <th class=\"col_heading level0 col0\" >Model</th>        <th class=\"col_heading level0 col1\" >Accuracy</th>        <th class=\"col_heading level0 col2\" >AUC</th>        <th class=\"col_heading level0 col3\" >Recall</th>        <th class=\"col_heading level0 col4\" >Prec.</th>        <th class=\"col_heading level0 col5\" >F1</th>        <th class=\"col_heading level0 col6\" >Kappa</th>        <th class=\"col_heading level0 col7\" >MCC</th>        <th class=\"col_heading level0 col8\" >TT (Sec)</th>    </tr></thead><tbody>\n",
       "                <tr>\n",
       "                        <th id=\"T_97aebf1a_d7bb_11eb_b636_8cd49ce816f2level0_row0\" class=\"row_heading level0 row0\" >gbc</th>\n",
       "                        <td id=\"T_97aebf1a_d7bb_11eb_b636_8cd49ce816f2row0_col0\" class=\"data row0 col0\" >Gradient Boosting Classifier</td>\n",
       "                        <td id=\"T_97aebf1a_d7bb_11eb_b636_8cd49ce816f2row0_col1\" class=\"data row0 col1\" >0.7941</td>\n",
       "                        <td id=\"T_97aebf1a_d7bb_11eb_b636_8cd49ce816f2row0_col2\" class=\"data row0 col2\" >0.8216</td>\n",
       "                        <td id=\"T_97aebf1a_d7bb_11eb_b636_8cd49ce816f2row0_col3\" class=\"data row0 col3\" >0.6951</td>\n",
       "                        <td id=\"T_97aebf1a_d7bb_11eb_b636_8cd49ce816f2row0_col4\" class=\"data row0 col4\" >0.7826</td>\n",
       "                        <td id=\"T_97aebf1a_d7bb_11eb_b636_8cd49ce816f2row0_col5\" class=\"data row0 col5\" >0.7834</td>\n",
       "                        <td id=\"T_97aebf1a_d7bb_11eb_b636_8cd49ce816f2row0_col6\" class=\"data row0 col6\" >0.4250</td>\n",
       "                        <td id=\"T_97aebf1a_d7bb_11eb_b636_8cd49ce816f2row0_col7\" class=\"data row0 col7\" >0.4337</td>\n",
       "                        <td id=\"T_97aebf1a_d7bb_11eb_b636_8cd49ce816f2row0_col8\" class=\"data row0 col8\" >0.1730</td>\n",
       "            </tr>\n",
       "            <tr>\n",
       "                        <th id=\"T_97aebf1a_d7bb_11eb_b636_8cd49ce816f2level0_row1\" class=\"row_heading level0 row1\" >ada</th>\n",
       "                        <td id=\"T_97aebf1a_d7bb_11eb_b636_8cd49ce816f2row1_col0\" class=\"data row1 col0\" >Ada Boost Classifier</td>\n",
       "                        <td id=\"T_97aebf1a_d7bb_11eb_b636_8cd49ce816f2row1_col1\" class=\"data row1 col1\" >0.7922</td>\n",
       "                        <td id=\"T_97aebf1a_d7bb_11eb_b636_8cd49ce816f2row1_col2\" class=\"data row1 col2\" >0.8207</td>\n",
       "                        <td id=\"T_97aebf1a_d7bb_11eb_b636_8cd49ce816f2row1_col3\" class=\"data row1 col3\" >0.6882</td>\n",
       "                        <td id=\"T_97aebf1a_d7bb_11eb_b636_8cd49ce816f2row1_col4\" class=\"data row1 col4\" >0.7800</td>\n",
       "                        <td id=\"T_97aebf1a_d7bb_11eb_b636_8cd49ce816f2row1_col5\" class=\"data row1 col5\" >0.7799</td>\n",
       "                        <td id=\"T_97aebf1a_d7bb_11eb_b636_8cd49ce816f2row1_col6\" class=\"data row1 col6\" >0.4140</td>\n",
       "                        <td id=\"T_97aebf1a_d7bb_11eb_b636_8cd49ce816f2row1_col7\" class=\"data row1 col7\" >0.4248</td>\n",
       "                        <td id=\"T_97aebf1a_d7bb_11eb_b636_8cd49ce816f2row1_col8\" class=\"data row1 col8\" >0.0500</td>\n",
       "            </tr>\n",
       "            <tr>\n",
       "                        <th id=\"T_97aebf1a_d7bb_11eb_b636_8cd49ce816f2level0_row2\" class=\"row_heading level0 row2\" >lr</th>\n",
       "                        <td id=\"T_97aebf1a_d7bb_11eb_b636_8cd49ce816f2row2_col0\" class=\"data row2 col0\" >Logistic Regression</td>\n",
       "                        <td id=\"T_97aebf1a_d7bb_11eb_b636_8cd49ce816f2row2_col1\" class=\"data row2 col1\" >0.7920</td>\n",
       "                        <td id=\"T_97aebf1a_d7bb_11eb_b636_8cd49ce816f2row2_col2\" class=\"data row2 col2\" >0.8119</td>\n",
       "                        <td id=\"T_97aebf1a_d7bb_11eb_b636_8cd49ce816f2row2_col3\" class=\"data row2 col3\" >0.6901</td>\n",
       "                        <td id=\"T_97aebf1a_d7bb_11eb_b636_8cd49ce816f2row2_col4\" class=\"data row2 col4\" >0.7796</td>\n",
       "                        <td id=\"T_97aebf1a_d7bb_11eb_b636_8cd49ce816f2row2_col5\" class=\"data row2 col5\" >0.7805</td>\n",
       "                        <td id=\"T_97aebf1a_d7bb_11eb_b636_8cd49ce816f2row2_col6\" class=\"data row2 col6\" >0.4163</td>\n",
       "                        <td id=\"T_97aebf1a_d7bb_11eb_b636_8cd49ce816f2row2_col7\" class=\"data row2 col7\" >0.4256</td>\n",
       "                        <td id=\"T_97aebf1a_d7bb_11eb_b636_8cd49ce816f2row2_col8\" class=\"data row2 col8\" >7.6870</td>\n",
       "            </tr>\n",
       "            <tr>\n",
       "                        <th id=\"T_97aebf1a_d7bb_11eb_b636_8cd49ce816f2level0_row3\" class=\"row_heading level0 row3\" >ridge</th>\n",
       "                        <td id=\"T_97aebf1a_d7bb_11eb_b636_8cd49ce816f2row3_col0\" class=\"data row3 col0\" >Ridge Classifier</td>\n",
       "                        <td id=\"T_97aebf1a_d7bb_11eb_b636_8cd49ce816f2row3_col1\" class=\"data row3 col1\" >0.7894</td>\n",
       "                        <td id=\"T_97aebf1a_d7bb_11eb_b636_8cd49ce816f2row3_col2\" class=\"data row3 col2\" >0.0000</td>\n",
       "                        <td id=\"T_97aebf1a_d7bb_11eb_b636_8cd49ce816f2row3_col3\" class=\"data row3 col3\" >0.6788</td>\n",
       "                        <td id=\"T_97aebf1a_d7bb_11eb_b636_8cd49ce816f2row3_col4\" class=\"data row3 col4\" >0.7754</td>\n",
       "                        <td id=\"T_97aebf1a_d7bb_11eb_b636_8cd49ce816f2row3_col5\" class=\"data row3 col5\" >0.7749</td>\n",
       "                        <td id=\"T_97aebf1a_d7bb_11eb_b636_8cd49ce816f2row3_col6\" class=\"data row3 col6\" >0.3983</td>\n",
       "                        <td id=\"T_97aebf1a_d7bb_11eb_b636_8cd49ce816f2row3_col7\" class=\"data row3 col7\" >0.4111</td>\n",
       "                        <td id=\"T_97aebf1a_d7bb_11eb_b636_8cd49ce816f2row3_col8\" class=\"data row3 col8\" >0.0310</td>\n",
       "            </tr>\n",
       "            <tr>\n",
       "                        <th id=\"T_97aebf1a_d7bb_11eb_b636_8cd49ce816f2level0_row4\" class=\"row_heading level0 row4\" >catboost</th>\n",
       "                        <td id=\"T_97aebf1a_d7bb_11eb_b636_8cd49ce816f2row4_col0\" class=\"data row4 col0\" >CatBoost Classifier</td>\n",
       "                        <td id=\"T_97aebf1a_d7bb_11eb_b636_8cd49ce816f2row4_col1\" class=\"data row4 col1\" >0.7894</td>\n",
       "                        <td id=\"T_97aebf1a_d7bb_11eb_b636_8cd49ce816f2row4_col2\" class=\"data row4 col2\" >0.8177</td>\n",
       "                        <td id=\"T_97aebf1a_d7bb_11eb_b636_8cd49ce816f2row4_col3\" class=\"data row4 col3\" >0.6814</td>\n",
       "                        <td id=\"T_97aebf1a_d7bb_11eb_b636_8cd49ce816f2row4_col4\" class=\"data row4 col4\" >0.7759</td>\n",
       "                        <td id=\"T_97aebf1a_d7bb_11eb_b636_8cd49ce816f2row4_col5\" class=\"data row4 col5\" >0.7759</td>\n",
       "                        <td id=\"T_97aebf1a_d7bb_11eb_b636_8cd49ce816f2row4_col6\" class=\"data row4 col6\" >0.4020</td>\n",
       "                        <td id=\"T_97aebf1a_d7bb_11eb_b636_8cd49ce816f2row4_col7\" class=\"data row4 col7\" >0.4135</td>\n",
       "                        <td id=\"T_97aebf1a_d7bb_11eb_b636_8cd49ce816f2row4_col8\" class=\"data row4 col8\" >1.8550</td>\n",
       "            </tr>\n",
       "            <tr>\n",
       "                        <th id=\"T_97aebf1a_d7bb_11eb_b636_8cd49ce816f2level0_row5\" class=\"row_heading level0 row5\" >lda</th>\n",
       "                        <td id=\"T_97aebf1a_d7bb_11eb_b636_8cd49ce816f2row5_col0\" class=\"data row5 col0\" >Linear Discriminant Analysis</td>\n",
       "                        <td id=\"T_97aebf1a_d7bb_11eb_b636_8cd49ce816f2row5_col1\" class=\"data row5 col1\" >0.7852</td>\n",
       "                        <td id=\"T_97aebf1a_d7bb_11eb_b636_8cd49ce816f2row5_col2\" class=\"data row5 col2\" >0.8082</td>\n",
       "                        <td id=\"T_97aebf1a_d7bb_11eb_b636_8cd49ce816f2row5_col3\" class=\"data row5 col3\" >0.6900</td>\n",
       "                        <td id=\"T_97aebf1a_d7bb_11eb_b636_8cd49ce816f2row5_col4\" class=\"data row5 col4\" >0.7736</td>\n",
       "                        <td id=\"T_97aebf1a_d7bb_11eb_b636_8cd49ce816f2row5_col5\" class=\"data row5 col5\" >0.7761</td>\n",
       "                        <td id=\"T_97aebf1a_d7bb_11eb_b636_8cd49ce816f2row5_col6\" class=\"data row5 col6\" >0.4084</td>\n",
       "                        <td id=\"T_97aebf1a_d7bb_11eb_b636_8cd49ce816f2row5_col7\" class=\"data row5 col7\" >0.4140</td>\n",
       "                        <td id=\"T_97aebf1a_d7bb_11eb_b636_8cd49ce816f2row5_col8\" class=\"data row5 col8\" >0.0210</td>\n",
       "            </tr>\n",
       "            <tr>\n",
       "                        <th id=\"T_97aebf1a_d7bb_11eb_b636_8cd49ce816f2level0_row6\" class=\"row_heading level0 row6\" >lightgbm</th>\n",
       "                        <td id=\"T_97aebf1a_d7bb_11eb_b636_8cd49ce816f2row6_col0\" class=\"data row6 col0\" >Light Gradient Boosting Machine</td>\n",
       "                        <td id=\"T_97aebf1a_d7bb_11eb_b636_8cd49ce816f2row6_col1\" class=\"data row6 col1\" >0.7850</td>\n",
       "                        <td id=\"T_97aebf1a_d7bb_11eb_b636_8cd49ce816f2row6_col2\" class=\"data row6 col2\" >0.8096</td>\n",
       "                        <td id=\"T_97aebf1a_d7bb_11eb_b636_8cd49ce816f2row6_col3\" class=\"data row6 col3\" >0.6853</td>\n",
       "                        <td id=\"T_97aebf1a_d7bb_11eb_b636_8cd49ce816f2row6_col4\" class=\"data row6 col4\" >0.7723</td>\n",
       "                        <td id=\"T_97aebf1a_d7bb_11eb_b636_8cd49ce816f2row6_col5\" class=\"data row6 col5\" >0.7744</td>\n",
       "                        <td id=\"T_97aebf1a_d7bb_11eb_b636_8cd49ce816f2row6_col6\" class=\"data row6 col6\" >0.4019</td>\n",
       "                        <td id=\"T_97aebf1a_d7bb_11eb_b636_8cd49ce816f2row6_col7\" class=\"data row6 col7\" >0.4090</td>\n",
       "                        <td id=\"T_97aebf1a_d7bb_11eb_b636_8cd49ce816f2row6_col8\" class=\"data row6 col8\" >0.3120</td>\n",
       "            </tr>\n",
       "            <tr>\n",
       "                        <th id=\"T_97aebf1a_d7bb_11eb_b636_8cd49ce816f2level0_row7\" class=\"row_heading level0 row7\" >xgboost</th>\n",
       "                        <td id=\"T_97aebf1a_d7bb_11eb_b636_8cd49ce816f2row7_col0\" class=\"data row7 col0\" >Extreme Gradient Boosting</td>\n",
       "                        <td id=\"T_97aebf1a_d7bb_11eb_b636_8cd49ce816f2row7_col1\" class=\"data row7 col1\" >0.7753</td>\n",
       "                        <td id=\"T_97aebf1a_d7bb_11eb_b636_8cd49ce816f2row7_col2\" class=\"data row7 col2\" >0.7962</td>\n",
       "                        <td id=\"T_97aebf1a_d7bb_11eb_b636_8cd49ce816f2row7_col3\" class=\"data row7 col3\" >0.6782</td>\n",
       "                        <td id=\"T_97aebf1a_d7bb_11eb_b636_8cd49ce816f2row7_col4\" class=\"data row7 col4\" >0.7634</td>\n",
       "                        <td id=\"T_97aebf1a_d7bb_11eb_b636_8cd49ce816f2row7_col5\" class=\"data row7 col5\" >0.7662</td>\n",
       "                        <td id=\"T_97aebf1a_d7bb_11eb_b636_8cd49ce816f2row7_col6\" class=\"data row7 col6\" >0.3828</td>\n",
       "                        <td id=\"T_97aebf1a_d7bb_11eb_b636_8cd49ce816f2row7_col7\" class=\"data row7 col7\" >0.3881</td>\n",
       "                        <td id=\"T_97aebf1a_d7bb_11eb_b636_8cd49ce816f2row7_col8\" class=\"data row7 col8\" >0.5510</td>\n",
       "            </tr>\n",
       "            <tr>\n",
       "                        <th id=\"T_97aebf1a_d7bb_11eb_b636_8cd49ce816f2level0_row8\" class=\"row_heading level0 row8\" >rf</th>\n",
       "                        <td id=\"T_97aebf1a_d7bb_11eb_b636_8cd49ce816f2row8_col0\" class=\"data row8 col0\" >Random Forest Classifier</td>\n",
       "                        <td id=\"T_97aebf1a_d7bb_11eb_b636_8cd49ce816f2row8_col1\" class=\"data row8 col1\" >0.7642</td>\n",
       "                        <td id=\"T_97aebf1a_d7bb_11eb_b636_8cd49ce816f2row8_col2\" class=\"data row8 col2\" >0.7799</td>\n",
       "                        <td id=\"T_97aebf1a_d7bb_11eb_b636_8cd49ce816f2row8_col3\" class=\"data row8 col3\" >0.6619</td>\n",
       "                        <td id=\"T_97aebf1a_d7bb_11eb_b636_8cd49ce816f2row8_col4\" class=\"data row8 col4\" >0.7501</td>\n",
       "                        <td id=\"T_97aebf1a_d7bb_11eb_b636_8cd49ce816f2row8_col5\" class=\"data row8 col5\" >0.7537</td>\n",
       "                        <td id=\"T_97aebf1a_d7bb_11eb_b636_8cd49ce816f2row8_col6\" class=\"data row8 col6\" >0.3486</td>\n",
       "                        <td id=\"T_97aebf1a_d7bb_11eb_b636_8cd49ce816f2row8_col7\" class=\"data row8 col7\" >0.3540</td>\n",
       "                        <td id=\"T_97aebf1a_d7bb_11eb_b636_8cd49ce816f2row8_col8\" class=\"data row8 col8\" >0.1160</td>\n",
       "            </tr>\n",
       "            <tr>\n",
       "                        <th id=\"T_97aebf1a_d7bb_11eb_b636_8cd49ce816f2level0_row9\" class=\"row_heading level0 row9\" >knn</th>\n",
       "                        <td id=\"T_97aebf1a_d7bb_11eb_b636_8cd49ce816f2row9_col0\" class=\"data row9 col0\" >K Neighbors Classifier</td>\n",
       "                        <td id=\"T_97aebf1a_d7bb_11eb_b636_8cd49ce816f2row9_col1\" class=\"data row9 col1\" >0.7628</td>\n",
       "                        <td id=\"T_97aebf1a_d7bb_11eb_b636_8cd49ce816f2row9_col2\" class=\"data row9 col2\" >0.7449</td>\n",
       "                        <td id=\"T_97aebf1a_d7bb_11eb_b636_8cd49ce816f2row9_col3\" class=\"data row9 col3\" >0.6612</td>\n",
       "                        <td id=\"T_97aebf1a_d7bb_11eb_b636_8cd49ce816f2row9_col4\" class=\"data row9 col4\" >0.7491</td>\n",
       "                        <td id=\"T_97aebf1a_d7bb_11eb_b636_8cd49ce816f2row9_col5\" class=\"data row9 col5\" >0.7526</td>\n",
       "                        <td id=\"T_97aebf1a_d7bb_11eb_b636_8cd49ce816f2row9_col6\" class=\"data row9 col6\" >0.3463</td>\n",
       "                        <td id=\"T_97aebf1a_d7bb_11eb_b636_8cd49ce816f2row9_col7\" class=\"data row9 col7\" >0.3515</td>\n",
       "                        <td id=\"T_97aebf1a_d7bb_11eb_b636_8cd49ce816f2row9_col8\" class=\"data row9 col8\" >0.0320</td>\n",
       "            </tr>\n",
       "            <tr>\n",
       "                        <th id=\"T_97aebf1a_d7bb_11eb_b636_8cd49ce816f2level0_row10\" class=\"row_heading level0 row10\" >nb</th>\n",
       "                        <td id=\"T_97aebf1a_d7bb_11eb_b636_8cd49ce816f2row10_col0\" class=\"data row10 col0\" >Naive Bayes</td>\n",
       "                        <td id=\"T_97aebf1a_d7bb_11eb_b636_8cd49ce816f2row10_col1\" class=\"data row10 col1\" >0.7495</td>\n",
       "                        <td id=\"T_97aebf1a_d7bb_11eb_b636_8cd49ce816f2row10_col2\" class=\"data row10 col2\" >0.7678</td>\n",
       "                        <td id=\"T_97aebf1a_d7bb_11eb_b636_8cd49ce816f2row10_col3\" class=\"data row10 col3\" >0.6934</td>\n",
       "                        <td id=\"T_97aebf1a_d7bb_11eb_b636_8cd49ce816f2row10_col4\" class=\"data row10 col4\" >0.7574</td>\n",
       "                        <td id=\"T_97aebf1a_d7bb_11eb_b636_8cd49ce816f2row10_col5\" class=\"data row10 col5\" >0.7527</td>\n",
       "                        <td id=\"T_97aebf1a_d7bb_11eb_b636_8cd49ce816f2row10_col6\" class=\"data row10 col6\" >0.3760</td>\n",
       "                        <td id=\"T_97aebf1a_d7bb_11eb_b636_8cd49ce816f2row10_col7\" class=\"data row10 col7\" >0.3771</td>\n",
       "                        <td id=\"T_97aebf1a_d7bb_11eb_b636_8cd49ce816f2row10_col8\" class=\"data row10 col8\" >0.0060</td>\n",
       "            </tr>\n",
       "            <tr>\n",
       "                        <th id=\"T_97aebf1a_d7bb_11eb_b636_8cd49ce816f2level0_row11\" class=\"row_heading level0 row11\" >et</th>\n",
       "                        <td id=\"T_97aebf1a_d7bb_11eb_b636_8cd49ce816f2row11_col0\" class=\"data row11 col0\" >Extra Trees Classifier</td>\n",
       "                        <td id=\"T_97aebf1a_d7bb_11eb_b636_8cd49ce816f2row11_col1\" class=\"data row11 col1\" >0.7489</td>\n",
       "                        <td id=\"T_97aebf1a_d7bb_11eb_b636_8cd49ce816f2row11_col2\" class=\"data row11 col2\" >0.7505</td>\n",
       "                        <td id=\"T_97aebf1a_d7bb_11eb_b636_8cd49ce816f2row11_col3\" class=\"data row11 col3\" >0.6556</td>\n",
       "                        <td id=\"T_97aebf1a_d7bb_11eb_b636_8cd49ce816f2row11_col4\" class=\"data row11 col4\" >0.7385</td>\n",
       "                        <td id=\"T_97aebf1a_d7bb_11eb_b636_8cd49ce816f2row11_col5\" class=\"data row11 col5\" >0.7423</td>\n",
       "                        <td id=\"T_97aebf1a_d7bb_11eb_b636_8cd49ce816f2row11_col6\" class=\"data row11 col6\" >0.3256</td>\n",
       "                        <td id=\"T_97aebf1a_d7bb_11eb_b636_8cd49ce816f2row11_col7\" class=\"data row11 col7\" >0.3276</td>\n",
       "                        <td id=\"T_97aebf1a_d7bb_11eb_b636_8cd49ce816f2row11_col8\" class=\"data row11 col8\" >0.1870</td>\n",
       "            </tr>\n",
       "            <tr>\n",
       "                        <th id=\"T_97aebf1a_d7bb_11eb_b636_8cd49ce816f2level0_row12\" class=\"row_heading level0 row12\" >qda</th>\n",
       "                        <td id=\"T_97aebf1a_d7bb_11eb_b636_8cd49ce816f2row12_col0\" class=\"data row12 col0\" >Quadratic Discriminant Analysis</td>\n",
       "                        <td id=\"T_97aebf1a_d7bb_11eb_b636_8cd49ce816f2row12_col1\" class=\"data row12 col1\" >0.7384</td>\n",
       "                        <td id=\"T_97aebf1a_d7bb_11eb_b636_8cd49ce816f2row12_col2\" class=\"data row12 col2\" >0.7957</td>\n",
       "                        <td id=\"T_97aebf1a_d7bb_11eb_b636_8cd49ce816f2row12_col3\" class=\"data row12 col3\" >0.7139</td>\n",
       "                        <td id=\"T_97aebf1a_d7bb_11eb_b636_8cd49ce816f2row12_col4\" class=\"data row12 col4\" >0.7678</td>\n",
       "                        <td id=\"T_97aebf1a_d7bb_11eb_b636_8cd49ce816f2row12_col5\" class=\"data row12 col5\" >0.7481</td>\n",
       "                        <td id=\"T_97aebf1a_d7bb_11eb_b636_8cd49ce816f2row12_col6\" class=\"data row12 col6\" >0.3896</td>\n",
       "                        <td id=\"T_97aebf1a_d7bb_11eb_b636_8cd49ce816f2row12_col7\" class=\"data row12 col7\" >0.3971</td>\n",
       "                        <td id=\"T_97aebf1a_d7bb_11eb_b636_8cd49ce816f2row12_col8\" class=\"data row12 col8\" >0.0620</td>\n",
       "            </tr>\n",
       "            <tr>\n",
       "                        <th id=\"T_97aebf1a_d7bb_11eb_b636_8cd49ce816f2level0_row13\" class=\"row_heading level0 row13\" >svm</th>\n",
       "                        <td id=\"T_97aebf1a_d7bb_11eb_b636_8cd49ce816f2row13_col0\" class=\"data row13 col0\" >SVM - Linear Kernel</td>\n",
       "                        <td id=\"T_97aebf1a_d7bb_11eb_b636_8cd49ce816f2row13_col1\" class=\"data row13 col1\" >0.7316</td>\n",
       "                        <td id=\"T_97aebf1a_d7bb_11eb_b636_8cd49ce816f2row13_col2\" class=\"data row13 col2\" >0.0000</td>\n",
       "                        <td id=\"T_97aebf1a_d7bb_11eb_b636_8cd49ce816f2row13_col3\" class=\"data row13 col3\" >0.6340</td>\n",
       "                        <td id=\"T_97aebf1a_d7bb_11eb_b636_8cd49ce816f2row13_col4\" class=\"data row13 col4\" >0.7520</td>\n",
       "                        <td id=\"T_97aebf1a_d7bb_11eb_b636_8cd49ce816f2row13_col5\" class=\"data row13 col5\" >0.7094</td>\n",
       "                        <td id=\"T_97aebf1a_d7bb_11eb_b636_8cd49ce816f2row13_col6\" class=\"data row13 col6\" >0.2849</td>\n",
       "                        <td id=\"T_97aebf1a_d7bb_11eb_b636_8cd49ce816f2row13_col7\" class=\"data row13 col7\" >0.3200</td>\n",
       "                        <td id=\"T_97aebf1a_d7bb_11eb_b636_8cd49ce816f2row13_col8\" class=\"data row13 col8\" >0.0250</td>\n",
       "            </tr>\n",
       "            <tr>\n",
       "                        <th id=\"T_97aebf1a_d7bb_11eb_b636_8cd49ce816f2level0_row14\" class=\"row_heading level0 row14\" >dt</th>\n",
       "                        <td id=\"T_97aebf1a_d7bb_11eb_b636_8cd49ce816f2row14_col0\" class=\"data row14 col0\" >Decision Tree Classifier</td>\n",
       "                        <td id=\"T_97aebf1a_d7bb_11eb_b636_8cd49ce816f2row14_col1\" class=\"data row14 col1\" >0.7171</td>\n",
       "                        <td id=\"T_97aebf1a_d7bb_11eb_b636_8cd49ce816f2row14_col2\" class=\"data row14 col2\" >0.6410</td>\n",
       "                        <td id=\"T_97aebf1a_d7bb_11eb_b636_8cd49ce816f2row14_col3\" class=\"data row14 col3\" >0.6391</td>\n",
       "                        <td id=\"T_97aebf1a_d7bb_11eb_b636_8cd49ce816f2row14_col4\" class=\"data row14 col4\" >0.7181</td>\n",
       "                        <td id=\"T_97aebf1a_d7bb_11eb_b636_8cd49ce816f2row14_col5\" class=\"data row14 col5\" >0.7174</td>\n",
       "                        <td id=\"T_97aebf1a_d7bb_11eb_b636_8cd49ce816f2row14_col6\" class=\"data row14 col6\" >0.2769</td>\n",
       "                        <td id=\"T_97aebf1a_d7bb_11eb_b636_8cd49ce816f2row14_col7\" class=\"data row14 col7\" >0.2771</td>\n",
       "                        <td id=\"T_97aebf1a_d7bb_11eb_b636_8cd49ce816f2row14_col8\" class=\"data row14 col8\" >0.0080</td>\n",
       "            </tr>\n",
       "    </tbody></table>"
      ],
      "text/plain": [
       "<pandas.io.formats.style.Styler at 0x266d56d4670>"
      ]
     },
     "metadata": {},
     "output_type": "display_data"
    }
   ],
   "source": [
    "best = compare_models(fold = 10)"
   ]
  },
  {
   "cell_type": "code",
   "execution_count": 304,
   "metadata": {},
   "outputs": [
    {
     "data": {
      "text/html": [
       "<div>\n",
       "<style scoped>\n",
       "    .dataframe tbody tr th:only-of-type {\n",
       "        vertical-align: middle;\n",
       "    }\n",
       "\n",
       "    .dataframe tbody tr th {\n",
       "        vertical-align: top;\n",
       "    }\n",
       "\n",
       "    .dataframe thead th {\n",
       "        text-align: right;\n",
       "    }\n",
       "</style>\n",
       "<table border=\"1\" class=\"dataframe\">\n",
       "  <thead>\n",
       "    <tr style=\"text-align: right;\">\n",
       "      <th></th>\n",
       "      <th>Name</th>\n",
       "      <th>Reference</th>\n",
       "      <th>Turbo</th>\n",
       "    </tr>\n",
       "    <tr>\n",
       "      <th>ID</th>\n",
       "      <th></th>\n",
       "      <th></th>\n",
       "      <th></th>\n",
       "    </tr>\n",
       "  </thead>\n",
       "  <tbody>\n",
       "    <tr>\n",
       "      <th>lr</th>\n",
       "      <td>Logistic Regression</td>\n",
       "      <td>sklearn.linear_model._logistic.LogisticRegression</td>\n",
       "      <td>True</td>\n",
       "    </tr>\n",
       "    <tr>\n",
       "      <th>knn</th>\n",
       "      <td>K Neighbors Classifier</td>\n",
       "      <td>sklearn.neighbors._classification.KNeighborsCl...</td>\n",
       "      <td>True</td>\n",
       "    </tr>\n",
       "    <tr>\n",
       "      <th>nb</th>\n",
       "      <td>Naive Bayes</td>\n",
       "      <td>sklearn.naive_bayes.GaussianNB</td>\n",
       "      <td>True</td>\n",
       "    </tr>\n",
       "    <tr>\n",
       "      <th>dt</th>\n",
       "      <td>Decision Tree Classifier</td>\n",
       "      <td>sklearn.tree._classes.DecisionTreeClassifier</td>\n",
       "      <td>True</td>\n",
       "    </tr>\n",
       "    <tr>\n",
       "      <th>svm</th>\n",
       "      <td>SVM - Linear Kernel</td>\n",
       "      <td>sklearn.linear_model._stochastic_gradient.SGDC...</td>\n",
       "      <td>True</td>\n",
       "    </tr>\n",
       "    <tr>\n",
       "      <th>rbfsvm</th>\n",
       "      <td>SVM - Radial Kernel</td>\n",
       "      <td>sklearn.svm._classes.SVC</td>\n",
       "      <td>False</td>\n",
       "    </tr>\n",
       "    <tr>\n",
       "      <th>gpc</th>\n",
       "      <td>Gaussian Process Classifier</td>\n",
       "      <td>sklearn.gaussian_process._gpc.GaussianProcessC...</td>\n",
       "      <td>False</td>\n",
       "    </tr>\n",
       "    <tr>\n",
       "      <th>mlp</th>\n",
       "      <td>MLP Classifier</td>\n",
       "      <td>pycaret.internal.tunable.TunableMLPClassifier</td>\n",
       "      <td>False</td>\n",
       "    </tr>\n",
       "    <tr>\n",
       "      <th>ridge</th>\n",
       "      <td>Ridge Classifier</td>\n",
       "      <td>sklearn.linear_model._ridge.RidgeClassifier</td>\n",
       "      <td>True</td>\n",
       "    </tr>\n",
       "    <tr>\n",
       "      <th>rf</th>\n",
       "      <td>Random Forest Classifier</td>\n",
       "      <td>sklearn.ensemble._forest.RandomForestClassifier</td>\n",
       "      <td>True</td>\n",
       "    </tr>\n",
       "    <tr>\n",
       "      <th>qda</th>\n",
       "      <td>Quadratic Discriminant Analysis</td>\n",
       "      <td>sklearn.discriminant_analysis.QuadraticDiscrim...</td>\n",
       "      <td>True</td>\n",
       "    </tr>\n",
       "    <tr>\n",
       "      <th>ada</th>\n",
       "      <td>Ada Boost Classifier</td>\n",
       "      <td>sklearn.ensemble._weight_boosting.AdaBoostClas...</td>\n",
       "      <td>True</td>\n",
       "    </tr>\n",
       "    <tr>\n",
       "      <th>gbc</th>\n",
       "      <td>Gradient Boosting Classifier</td>\n",
       "      <td>sklearn.ensemble._gb.GradientBoostingClassifier</td>\n",
       "      <td>True</td>\n",
       "    </tr>\n",
       "    <tr>\n",
       "      <th>lda</th>\n",
       "      <td>Linear Discriminant Analysis</td>\n",
       "      <td>sklearn.discriminant_analysis.LinearDiscrimina...</td>\n",
       "      <td>True</td>\n",
       "    </tr>\n",
       "    <tr>\n",
       "      <th>et</th>\n",
       "      <td>Extra Trees Classifier</td>\n",
       "      <td>sklearn.ensemble._forest.ExtraTreesClassifier</td>\n",
       "      <td>True</td>\n",
       "    </tr>\n",
       "    <tr>\n",
       "      <th>xgboost</th>\n",
       "      <td>Extreme Gradient Boosting</td>\n",
       "      <td>xgboost.sklearn.XGBClassifier</td>\n",
       "      <td>True</td>\n",
       "    </tr>\n",
       "    <tr>\n",
       "      <th>lightgbm</th>\n",
       "      <td>Light Gradient Boosting Machine</td>\n",
       "      <td>lightgbm.sklearn.LGBMClassifier</td>\n",
       "      <td>True</td>\n",
       "    </tr>\n",
       "    <tr>\n",
       "      <th>catboost</th>\n",
       "      <td>CatBoost Classifier</td>\n",
       "      <td>catboost.core.CatBoostClassifier</td>\n",
       "      <td>True</td>\n",
       "    </tr>\n",
       "  </tbody>\n",
       "</table>\n",
       "</div>"
      ],
      "text/plain": [
       "                                     Name  \\\n",
       "ID                                          \n",
       "lr                    Logistic Regression   \n",
       "knn                K Neighbors Classifier   \n",
       "nb                            Naive Bayes   \n",
       "dt               Decision Tree Classifier   \n",
       "svm                   SVM - Linear Kernel   \n",
       "rbfsvm                SVM - Radial Kernel   \n",
       "gpc           Gaussian Process Classifier   \n",
       "mlp                        MLP Classifier   \n",
       "ridge                    Ridge Classifier   \n",
       "rf               Random Forest Classifier   \n",
       "qda       Quadratic Discriminant Analysis   \n",
       "ada                  Ada Boost Classifier   \n",
       "gbc          Gradient Boosting Classifier   \n",
       "lda          Linear Discriminant Analysis   \n",
       "et                 Extra Trees Classifier   \n",
       "xgboost         Extreme Gradient Boosting   \n",
       "lightgbm  Light Gradient Boosting Machine   \n",
       "catboost              CatBoost Classifier   \n",
       "\n",
       "                                                  Reference  Turbo  \n",
       "ID                                                                  \n",
       "lr        sklearn.linear_model._logistic.LogisticRegression   True  \n",
       "knn       sklearn.neighbors._classification.KNeighborsCl...   True  \n",
       "nb                           sklearn.naive_bayes.GaussianNB   True  \n",
       "dt             sklearn.tree._classes.DecisionTreeClassifier   True  \n",
       "svm       sklearn.linear_model._stochastic_gradient.SGDC...   True  \n",
       "rbfsvm                             sklearn.svm._classes.SVC  False  \n",
       "gpc       sklearn.gaussian_process._gpc.GaussianProcessC...  False  \n",
       "mlp           pycaret.internal.tunable.TunableMLPClassifier  False  \n",
       "ridge           sklearn.linear_model._ridge.RidgeClassifier   True  \n",
       "rf          sklearn.ensemble._forest.RandomForestClassifier   True  \n",
       "qda       sklearn.discriminant_analysis.QuadraticDiscrim...   True  \n",
       "ada       sklearn.ensemble._weight_boosting.AdaBoostClas...   True  \n",
       "gbc         sklearn.ensemble._gb.GradientBoostingClassifier   True  \n",
       "lda       sklearn.discriminant_analysis.LinearDiscrimina...   True  \n",
       "et            sklearn.ensemble._forest.ExtraTreesClassifier   True  \n",
       "xgboost                       xgboost.sklearn.XGBClassifier   True  \n",
       "lightgbm                    lightgbm.sklearn.LGBMClassifier   True  \n",
       "catboost                   catboost.core.CatBoostClassifier   True  "
      ]
     },
     "execution_count": 304,
     "metadata": {},
     "output_type": "execute_result"
    }
   ],
   "source": [
    "models()"
   ]
  },
  {
   "cell_type": "markdown",
   "metadata": {},
   "source": [
    "# Selecionando o melhor algoritmo"
   ]
  },
  {
   "cell_type": "code",
   "execution_count": 305,
   "metadata": {},
   "outputs": [
    {
     "data": {
      "text/html": [
       "<style  type=\"text/css\" >\n",
       "    #T_2bf5be01_d70e_11eb_8019_8cd49ce816f2row10_col0 {\n",
       "            background:  yellow;\n",
       "        }    #T_2bf5be01_d70e_11eb_8019_8cd49ce816f2row10_col1 {\n",
       "            background:  yellow;\n",
       "        }    #T_2bf5be01_d70e_11eb_8019_8cd49ce816f2row10_col2 {\n",
       "            background:  yellow;\n",
       "        }    #T_2bf5be01_d70e_11eb_8019_8cd49ce816f2row10_col3 {\n",
       "            background:  yellow;\n",
       "        }    #T_2bf5be01_d70e_11eb_8019_8cd49ce816f2row10_col4 {\n",
       "            background:  yellow;\n",
       "        }    #T_2bf5be01_d70e_11eb_8019_8cd49ce816f2row10_col5 {\n",
       "            background:  yellow;\n",
       "        }    #T_2bf5be01_d70e_11eb_8019_8cd49ce816f2row10_col6 {\n",
       "            background:  yellow;\n",
       "        }</style><table id=\"T_2bf5be01_d70e_11eb_8019_8cd49ce816f2\" ><thead>    <tr>        <th class=\"blank level0\" ></th>        <th class=\"col_heading level0 col0\" >Accuracy</th>        <th class=\"col_heading level0 col1\" >AUC</th>        <th class=\"col_heading level0 col2\" >Recall</th>        <th class=\"col_heading level0 col3\" >Prec.</th>        <th class=\"col_heading level0 col4\" >F1</th>        <th class=\"col_heading level0 col5\" >Kappa</th>        <th class=\"col_heading level0 col6\" >MCC</th>    </tr></thead><tbody>\n",
       "                <tr>\n",
       "                        <th id=\"T_2bf5be01_d70e_11eb_8019_8cd49ce816f2level0_row0\" class=\"row_heading level0 row0\" >0</th>\n",
       "                        <td id=\"T_2bf5be01_d70e_11eb_8019_8cd49ce816f2row0_col0\" class=\"data row0 col0\" >0.8073</td>\n",
       "                        <td id=\"T_2bf5be01_d70e_11eb_8019_8cd49ce816f2row0_col1\" class=\"data row0 col1\" >0.8080</td>\n",
       "                        <td id=\"T_2bf5be01_d70e_11eb_8019_8cd49ce816f2row0_col2\" class=\"data row0 col2\" >0.7044</td>\n",
       "                        <td id=\"T_2bf5be01_d70e_11eb_8019_8cd49ce816f2row0_col3\" class=\"data row0 col3\" >0.7960</td>\n",
       "                        <td id=\"T_2bf5be01_d70e_11eb_8019_8cd49ce816f2row0_col4\" class=\"data row0 col4\" >0.7958</td>\n",
       "                        <td id=\"T_2bf5be01_d70e_11eb_8019_8cd49ce816f2row0_col5\" class=\"data row0 col5\" >0.4504</td>\n",
       "                        <td id=\"T_2bf5be01_d70e_11eb_8019_8cd49ce816f2row0_col6\" class=\"data row0 col6\" >0.4611</td>\n",
       "            </tr>\n",
       "            <tr>\n",
       "                        <th id=\"T_2bf5be01_d70e_11eb_8019_8cd49ce816f2level0_row1\" class=\"row_heading level0 row1\" >1</th>\n",
       "                        <td id=\"T_2bf5be01_d70e_11eb_8019_8cd49ce816f2row1_col0\" class=\"data row1 col0\" >0.8093</td>\n",
       "                        <td id=\"T_2bf5be01_d70e_11eb_8019_8cd49ce816f2row1_col1\" class=\"data row1 col1\" >0.8162</td>\n",
       "                        <td id=\"T_2bf5be01_d70e_11eb_8019_8cd49ce816f2row1_col2\" class=\"data row1 col2\" >0.7107</td>\n",
       "                        <td id=\"T_2bf5be01_d70e_11eb_8019_8cd49ce816f2row1_col3\" class=\"data row1 col3\" >0.7986</td>\n",
       "                        <td id=\"T_2bf5be01_d70e_11eb_8019_8cd49ce816f2row1_col4\" class=\"data row1 col4\" >0.7991</td>\n",
       "                        <td id=\"T_2bf5be01_d70e_11eb_8019_8cd49ce816f2row1_col5\" class=\"data row1 col5\" >0.4607</td>\n",
       "                        <td id=\"T_2bf5be01_d70e_11eb_8019_8cd49ce816f2row1_col6\" class=\"data row1 col6\" >0.4697</td>\n",
       "            </tr>\n",
       "            <tr>\n",
       "                        <th id=\"T_2bf5be01_d70e_11eb_8019_8cd49ce816f2level0_row2\" class=\"row_heading level0 row2\" >2</th>\n",
       "                        <td id=\"T_2bf5be01_d70e_11eb_8019_8cd49ce816f2row2_col0\" class=\"data row2 col0\" >0.7992</td>\n",
       "                        <td id=\"T_2bf5be01_d70e_11eb_8019_8cd49ce816f2row2_col1\" class=\"data row2 col1\" >0.8320</td>\n",
       "                        <td id=\"T_2bf5be01_d70e_11eb_8019_8cd49ce816f2row2_col2\" class=\"data row2 col2\" >0.6933</td>\n",
       "                        <td id=\"T_2bf5be01_d70e_11eb_8019_8cd49ce816f2row2_col3\" class=\"data row2 col3\" >0.7867</td>\n",
       "                        <td id=\"T_2bf5be01_d70e_11eb_8019_8cd49ce816f2row2_col4\" class=\"data row2 col4\" >0.7866</td>\n",
       "                        <td id=\"T_2bf5be01_d70e_11eb_8019_8cd49ce816f2row2_col5\" class=\"data row2 col5\" >0.4278</td>\n",
       "                        <td id=\"T_2bf5be01_d70e_11eb_8019_8cd49ce816f2row2_col6\" class=\"data row2 col6\" >0.4391</td>\n",
       "            </tr>\n",
       "            <tr>\n",
       "                        <th id=\"T_2bf5be01_d70e_11eb_8019_8cd49ce816f2level0_row3\" class=\"row_heading level0 row3\" >3</th>\n",
       "                        <td id=\"T_2bf5be01_d70e_11eb_8019_8cd49ce816f2row3_col0\" class=\"data row3 col0\" >0.7627</td>\n",
       "                        <td id=\"T_2bf5be01_d70e_11eb_8019_8cd49ce816f2row3_col1\" class=\"data row3 col1\" >0.7879</td>\n",
       "                        <td id=\"T_2bf5be01_d70e_11eb_8019_8cd49ce816f2row3_col2\" class=\"data row3 col2\" >0.6685</td>\n",
       "                        <td id=\"T_2bf5be01_d70e_11eb_8019_8cd49ce816f2row3_col3\" class=\"data row3 col3\" >0.7516</td>\n",
       "                        <td id=\"T_2bf5be01_d70e_11eb_8019_8cd49ce816f2row3_col4\" class=\"data row3 col4\" >0.7556</td>\n",
       "                        <td id=\"T_2bf5be01_d70e_11eb_8019_8cd49ce816f2row3_col5\" class=\"data row3 col5\" >0.3554</td>\n",
       "                        <td id=\"T_2bf5be01_d70e_11eb_8019_8cd49ce816f2row3_col6\" class=\"data row3 col6\" >0.3578</td>\n",
       "            </tr>\n",
       "            <tr>\n",
       "                        <th id=\"T_2bf5be01_d70e_11eb_8019_8cd49ce816f2level0_row4\" class=\"row_heading level0 row4\" >4</th>\n",
       "                        <td id=\"T_2bf5be01_d70e_11eb_8019_8cd49ce816f2row4_col0\" class=\"data row4 col0\" >0.7931</td>\n",
       "                        <td id=\"T_2bf5be01_d70e_11eb_8019_8cd49ce816f2row4_col1\" class=\"data row4 col1\" >0.8362</td>\n",
       "                        <td id=\"T_2bf5be01_d70e_11eb_8019_8cd49ce816f2row4_col2\" class=\"data row4 col2\" >0.7015</td>\n",
       "                        <td id=\"T_2bf5be01_d70e_11eb_8019_8cd49ce816f2row4_col3\" class=\"data row4 col3\" >0.7825</td>\n",
       "                        <td id=\"T_2bf5be01_d70e_11eb_8019_8cd49ce816f2row4_col4\" class=\"data row4 col4\" >0.7852</td>\n",
       "                        <td id=\"T_2bf5be01_d70e_11eb_8019_8cd49ce816f2row4_col5\" class=\"data row4 col5\" >0.4307</td>\n",
       "                        <td id=\"T_2bf5be01_d70e_11eb_8019_8cd49ce816f2row4_col6\" class=\"data row4 col6\" >0.4353</td>\n",
       "            </tr>\n",
       "            <tr>\n",
       "                        <th id=\"T_2bf5be01_d70e_11eb_8019_8cd49ce816f2level0_row5\" class=\"row_heading level0 row5\" >5</th>\n",
       "                        <td id=\"T_2bf5be01_d70e_11eb_8019_8cd49ce816f2row5_col0\" class=\"data row5 col0\" >0.7708</td>\n",
       "                        <td id=\"T_2bf5be01_d70e_11eb_8019_8cd49ce816f2row5_col1\" class=\"data row5 col1\" >0.7980</td>\n",
       "                        <td id=\"T_2bf5be01_d70e_11eb_8019_8cd49ce816f2row5_col2\" class=\"data row5 col2\" >0.6617</td>\n",
       "                        <td id=\"T_2bf5be01_d70e_11eb_8019_8cd49ce816f2row5_col3\" class=\"data row5 col3\" >0.7548</td>\n",
       "                        <td id=\"T_2bf5be01_d70e_11eb_8019_8cd49ce816f2row5_col4\" class=\"data row5 col4\" >0.7582</td>\n",
       "                        <td id=\"T_2bf5be01_d70e_11eb_8019_8cd49ce816f2row5_col5\" class=\"data row5 col5\" >0.3539</td>\n",
       "                        <td id=\"T_2bf5be01_d70e_11eb_8019_8cd49ce816f2row5_col6\" class=\"data row5 col6\" >0.3612</td>\n",
       "            </tr>\n",
       "            <tr>\n",
       "                        <th id=\"T_2bf5be01_d70e_11eb_8019_8cd49ce816f2level0_row6\" class=\"row_heading level0 row6\" >6</th>\n",
       "                        <td id=\"T_2bf5be01_d70e_11eb_8019_8cd49ce816f2row6_col0\" class=\"data row6 col0\" >0.7890</td>\n",
       "                        <td id=\"T_2bf5be01_d70e_11eb_8019_8cd49ce816f2row6_col1\" class=\"data row6 col1\" >0.7868</td>\n",
       "                        <td id=\"T_2bf5be01_d70e_11eb_8019_8cd49ce816f2row6_col2\" class=\"data row6 col2\" >0.6642</td>\n",
       "                        <td id=\"T_2bf5be01_d70e_11eb_8019_8cd49ce816f2row6_col3\" class=\"data row6 col3\" >0.7737</td>\n",
       "                        <td id=\"T_2bf5be01_d70e_11eb_8019_8cd49ce816f2row6_col4\" class=\"data row6 col4\" >0.7697</td>\n",
       "                        <td id=\"T_2bf5be01_d70e_11eb_8019_8cd49ce816f2row6_col5\" class=\"data row6 col5\" >0.3767</td>\n",
       "                        <td id=\"T_2bf5be01_d70e_11eb_8019_8cd49ce816f2row6_col6\" class=\"data row6 col6\" >0.3965</td>\n",
       "            </tr>\n",
       "            <tr>\n",
       "                        <th id=\"T_2bf5be01_d70e_11eb_8019_8cd49ce816f2level0_row7\" class=\"row_heading level0 row7\" >7</th>\n",
       "                        <td id=\"T_2bf5be01_d70e_11eb_8019_8cd49ce816f2row7_col0\" class=\"data row7 col0\" >0.7992</td>\n",
       "                        <td id=\"T_2bf5be01_d70e_11eb_8019_8cd49ce816f2row7_col1\" class=\"data row7 col1\" >0.8277</td>\n",
       "                        <td id=\"T_2bf5be01_d70e_11eb_8019_8cd49ce816f2row7_col2\" class=\"data row7 col2\" >0.6859</td>\n",
       "                        <td id=\"T_2bf5be01_d70e_11eb_8019_8cd49ce816f2row7_col3\" class=\"data row7 col3\" >0.7863</td>\n",
       "                        <td id=\"T_2bf5be01_d70e_11eb_8019_8cd49ce816f2row7_col4\" class=\"data row7 col4\" >0.7840</td>\n",
       "                        <td id=\"T_2bf5be01_d70e_11eb_8019_8cd49ce816f2row7_col5\" class=\"data row7 col5\" >0.4182</td>\n",
       "                        <td id=\"T_2bf5be01_d70e_11eb_8019_8cd49ce816f2row7_col6\" class=\"data row7 col6\" >0.4337</td>\n",
       "            </tr>\n",
       "            <tr>\n",
       "                        <th id=\"T_2bf5be01_d70e_11eb_8019_8cd49ce816f2level0_row8\" class=\"row_heading level0 row8\" >8</th>\n",
       "                        <td id=\"T_2bf5be01_d70e_11eb_8019_8cd49ce816f2row8_col0\" class=\"data row8 col0\" >0.7992</td>\n",
       "                        <td id=\"T_2bf5be01_d70e_11eb_8019_8cd49ce816f2row8_col1\" class=\"data row8 col1\" >0.8181</td>\n",
       "                        <td id=\"T_2bf5be01_d70e_11eb_8019_8cd49ce816f2row8_col2\" class=\"data row8 col2\" >0.6908</td>\n",
       "                        <td id=\"T_2bf5be01_d70e_11eb_8019_8cd49ce816f2row8_col3\" class=\"data row8 col3\" >0.7865</td>\n",
       "                        <td id=\"T_2bf5be01_d70e_11eb_8019_8cd49ce816f2row8_col4\" class=\"data row8 col4\" >0.7858</td>\n",
       "                        <td id=\"T_2bf5be01_d70e_11eb_8019_8cd49ce816f2row8_col5\" class=\"data row8 col5\" >0.4246</td>\n",
       "                        <td id=\"T_2bf5be01_d70e_11eb_8019_8cd49ce816f2row8_col6\" class=\"data row8 col6\" >0.4372</td>\n",
       "            </tr>\n",
       "            <tr>\n",
       "                        <th id=\"T_2bf5be01_d70e_11eb_8019_8cd49ce816f2level0_row9\" class=\"row_heading level0 row9\" >9</th>\n",
       "                        <td id=\"T_2bf5be01_d70e_11eb_8019_8cd49ce816f2row9_col0\" class=\"data row9 col0\" >0.7972</td>\n",
       "                        <td id=\"T_2bf5be01_d70e_11eb_8019_8cd49ce816f2row9_col1\" class=\"data row9 col1\" >0.8210</td>\n",
       "                        <td id=\"T_2bf5be01_d70e_11eb_8019_8cd49ce816f2row9_col2\" class=\"data row9 col2\" >0.6969</td>\n",
       "                        <td id=\"T_2bf5be01_d70e_11eb_8019_8cd49ce816f2row9_col3\" class=\"data row9 col3\" >0.7851</td>\n",
       "                        <td id=\"T_2bf5be01_d70e_11eb_8019_8cd49ce816f2row9_col4\" class=\"data row9 col4\" >0.7864</td>\n",
       "                        <td id=\"T_2bf5be01_d70e_11eb_8019_8cd49ce816f2row9_col5\" class=\"data row9 col5\" >0.4298</td>\n",
       "                        <td id=\"T_2bf5be01_d70e_11eb_8019_8cd49ce816f2row9_col6\" class=\"data row9 col6\" >0.4381</td>\n",
       "            </tr>\n",
       "            <tr>\n",
       "                        <th id=\"T_2bf5be01_d70e_11eb_8019_8cd49ce816f2level0_row10\" class=\"row_heading level0 row10\" >Mean</th>\n",
       "                        <td id=\"T_2bf5be01_d70e_11eb_8019_8cd49ce816f2row10_col0\" class=\"data row10 col0\" >0.7927</td>\n",
       "                        <td id=\"T_2bf5be01_d70e_11eb_8019_8cd49ce816f2row10_col1\" class=\"data row10 col1\" >0.8132</td>\n",
       "                        <td id=\"T_2bf5be01_d70e_11eb_8019_8cd49ce816f2row10_col2\" class=\"data row10 col2\" >0.6878</td>\n",
       "                        <td id=\"T_2bf5be01_d70e_11eb_8019_8cd49ce816f2row10_col3\" class=\"data row10 col3\" >0.7802</td>\n",
       "                        <td id=\"T_2bf5be01_d70e_11eb_8019_8cd49ce816f2row10_col4\" class=\"data row10 col4\" >0.7807</td>\n",
       "                        <td id=\"T_2bf5be01_d70e_11eb_8019_8cd49ce816f2row10_col5\" class=\"data row10 col5\" >0.4128</td>\n",
       "                        <td id=\"T_2bf5be01_d70e_11eb_8019_8cd49ce816f2row10_col6\" class=\"data row10 col6\" >0.4230</td>\n",
       "            </tr>\n",
       "            <tr>\n",
       "                        <th id=\"T_2bf5be01_d70e_11eb_8019_8cd49ce816f2level0_row11\" class=\"row_heading level0 row11\" >SD</th>\n",
       "                        <td id=\"T_2bf5be01_d70e_11eb_8019_8cd49ce816f2row11_col0\" class=\"data row11 col0\" >0.0143</td>\n",
       "                        <td id=\"T_2bf5be01_d70e_11eb_8019_8cd49ce816f2row11_col1\" class=\"data row11 col1\" >0.0167</td>\n",
       "                        <td id=\"T_2bf5be01_d70e_11eb_8019_8cd49ce816f2row11_col2\" class=\"data row11 col2\" >0.0165</td>\n",
       "                        <td id=\"T_2bf5be01_d70e_11eb_8019_8cd49ce816f2row11_col3\" class=\"data row11 col3\" >0.0150</td>\n",
       "                        <td id=\"T_2bf5be01_d70e_11eb_8019_8cd49ce816f2row11_col4\" class=\"data row11 col4\" >0.0140</td>\n",
       "                        <td id=\"T_2bf5be01_d70e_11eb_8019_8cd49ce816f2row11_col5\" class=\"data row11 col5\" >0.0357</td>\n",
       "                        <td id=\"T_2bf5be01_d70e_11eb_8019_8cd49ce816f2row11_col6\" class=\"data row11 col6\" >0.0365</td>\n",
       "            </tr>\n",
       "    </tbody></table>"
      ],
      "text/plain": [
       "<pandas.io.formats.style.Styler at 0x1c249e3c1f0>"
      ]
     },
     "metadata": {},
     "output_type": "display_data"
    }
   ],
   "source": [
    "catboost = create_model('catboost', fold = 10)"
   ]
  },
  {
   "cell_type": "code",
   "execution_count": 307,
   "metadata": {},
   "outputs": [
    {
     "data": {
      "text/html": [
       "<div>\n",
       "<style scoped>\n",
       "    .dataframe tbody tr th:only-of-type {\n",
       "        vertical-align: middle;\n",
       "    }\n",
       "\n",
       "    .dataframe tbody tr th {\n",
       "        vertical-align: top;\n",
       "    }\n",
       "\n",
       "    .dataframe thead th {\n",
       "        text-align: right;\n",
       "    }\n",
       "</style>\n",
       "<table border=\"1\" class=\"dataframe\">\n",
       "  <thead>\n",
       "    <tr style=\"text-align: right;\">\n",
       "      <th></th>\n",
       "      <th>Parameters</th>\n",
       "    </tr>\n",
       "  </thead>\n",
       "  <tbody>\n",
       "    <tr>\n",
       "      <th>nan_mode</th>\n",
       "      <td>Min</td>\n",
       "    </tr>\n",
       "    <tr>\n",
       "      <th>eval_metric</th>\n",
       "      <td>Logloss</td>\n",
       "    </tr>\n",
       "    <tr>\n",
       "      <th>iterations</th>\n",
       "      <td>1000</td>\n",
       "    </tr>\n",
       "    <tr>\n",
       "      <th>sampling_frequency</th>\n",
       "      <td>PerTree</td>\n",
       "    </tr>\n",
       "    <tr>\n",
       "      <th>leaf_estimation_method</th>\n",
       "      <td>Newton</td>\n",
       "    </tr>\n",
       "    <tr>\n",
       "      <th>grow_policy</th>\n",
       "      <td>SymmetricTree</td>\n",
       "    </tr>\n",
       "    <tr>\n",
       "      <th>penalties_coefficient</th>\n",
       "      <td>1</td>\n",
       "    </tr>\n",
       "    <tr>\n",
       "      <th>boosting_type</th>\n",
       "      <td>Plain</td>\n",
       "    </tr>\n",
       "    <tr>\n",
       "      <th>model_shrink_mode</th>\n",
       "      <td>Constant</td>\n",
       "    </tr>\n",
       "    <tr>\n",
       "      <th>feature_border_type</th>\n",
       "      <td>GreedyLogSum</td>\n",
       "    </tr>\n",
       "    <tr>\n",
       "      <th>bayesian_matrix_reg</th>\n",
       "      <td>0.10000000149011612</td>\n",
       "    </tr>\n",
       "    <tr>\n",
       "      <th>l2_leaf_reg</th>\n",
       "      <td>3</td>\n",
       "    </tr>\n",
       "    <tr>\n",
       "      <th>random_strength</th>\n",
       "      <td>1</td>\n",
       "    </tr>\n",
       "    <tr>\n",
       "      <th>rsm</th>\n",
       "      <td>1</td>\n",
       "    </tr>\n",
       "    <tr>\n",
       "      <th>boost_from_average</th>\n",
       "      <td>False</td>\n",
       "    </tr>\n",
       "    <tr>\n",
       "      <th>model_size_reg</th>\n",
       "      <td>0.5</td>\n",
       "    </tr>\n",
       "    <tr>\n",
       "      <th>pool_metainfo_options</th>\n",
       "      <td>{'tags': {}}</td>\n",
       "    </tr>\n",
       "    <tr>\n",
       "      <th>subsample</th>\n",
       "      <td>0.800000011920929</td>\n",
       "    </tr>\n",
       "    <tr>\n",
       "      <th>use_best_model</th>\n",
       "      <td>False</td>\n",
       "    </tr>\n",
       "    <tr>\n",
       "      <th>class_names</th>\n",
       "      <td>[0, 1]</td>\n",
       "    </tr>\n",
       "    <tr>\n",
       "      <th>random_seed</th>\n",
       "      <td>5187</td>\n",
       "    </tr>\n",
       "    <tr>\n",
       "      <th>depth</th>\n",
       "      <td>6</td>\n",
       "    </tr>\n",
       "    <tr>\n",
       "      <th>posterior_sampling</th>\n",
       "      <td>False</td>\n",
       "    </tr>\n",
       "    <tr>\n",
       "      <th>border_count</th>\n",
       "      <td>254</td>\n",
       "    </tr>\n",
       "    <tr>\n",
       "      <th>classes_count</th>\n",
       "      <td>0</td>\n",
       "    </tr>\n",
       "    <tr>\n",
       "      <th>auto_class_weights</th>\n",
       "      <td>None</td>\n",
       "    </tr>\n",
       "    <tr>\n",
       "      <th>sparse_features_conflict_fraction</th>\n",
       "      <td>0</td>\n",
       "    </tr>\n",
       "    <tr>\n",
       "      <th>leaf_estimation_backtracking</th>\n",
       "      <td>AnyImprovement</td>\n",
       "    </tr>\n",
       "    <tr>\n",
       "      <th>best_model_min_trees</th>\n",
       "      <td>1</td>\n",
       "    </tr>\n",
       "    <tr>\n",
       "      <th>model_shrink_rate</th>\n",
       "      <td>0</td>\n",
       "    </tr>\n",
       "    <tr>\n",
       "      <th>min_data_in_leaf</th>\n",
       "      <td>1</td>\n",
       "    </tr>\n",
       "    <tr>\n",
       "      <th>loss_function</th>\n",
       "      <td>Logloss</td>\n",
       "    </tr>\n",
       "    <tr>\n",
       "      <th>learning_rate</th>\n",
       "      <td>0.020360000431537628</td>\n",
       "    </tr>\n",
       "    <tr>\n",
       "      <th>score_function</th>\n",
       "      <td>Cosine</td>\n",
       "    </tr>\n",
       "    <tr>\n",
       "      <th>task_type</th>\n",
       "      <td>CPU</td>\n",
       "    </tr>\n",
       "    <tr>\n",
       "      <th>leaf_estimation_iterations</th>\n",
       "      <td>10</td>\n",
       "    </tr>\n",
       "    <tr>\n",
       "      <th>bootstrap_type</th>\n",
       "      <td>MVS</td>\n",
       "    </tr>\n",
       "    <tr>\n",
       "      <th>max_leaves</th>\n",
       "      <td>64</td>\n",
       "    </tr>\n",
       "  </tbody>\n",
       "</table>\n",
       "</div>"
      ],
      "text/plain": [
       "                                             Parameters\n",
       "nan_mode                                            Min\n",
       "eval_metric                                     Logloss\n",
       "iterations                                         1000\n",
       "sampling_frequency                              PerTree\n",
       "leaf_estimation_method                           Newton\n",
       "grow_policy                               SymmetricTree\n",
       "penalties_coefficient                                 1\n",
       "boosting_type                                     Plain\n",
       "model_shrink_mode                              Constant\n",
       "feature_border_type                        GreedyLogSum\n",
       "bayesian_matrix_reg                 0.10000000149011612\n",
       "l2_leaf_reg                                           3\n",
       "random_strength                                       1\n",
       "rsm                                                   1\n",
       "boost_from_average                                False\n",
       "model_size_reg                                      0.5\n",
       "pool_metainfo_options                      {'tags': {}}\n",
       "subsample                             0.800000011920929\n",
       "use_best_model                                    False\n",
       "class_names                                      [0, 1]\n",
       "random_seed                                        5187\n",
       "depth                                                 6\n",
       "posterior_sampling                                False\n",
       "border_count                                        254\n",
       "classes_count                                         0\n",
       "auto_class_weights                                 None\n",
       "sparse_features_conflict_fraction                     0\n",
       "leaf_estimation_backtracking             AnyImprovement\n",
       "best_model_min_trees                                  1\n",
       "model_shrink_rate                                     0\n",
       "min_data_in_leaf                                      1\n",
       "loss_function                                   Logloss\n",
       "learning_rate                      0.020360000431537628\n",
       "score_function                                   Cosine\n",
       "task_type                                           CPU\n",
       "leaf_estimation_iterations                           10\n",
       "bootstrap_type                                      MVS\n",
       "max_leaves                                           64"
      ]
     },
     "metadata": {},
     "output_type": "display_data"
    }
   ],
   "source": [
    "evaluate_model(catboost)"
   ]
  },
  {
   "cell_type": "markdown",
   "metadata": {},
   "source": [
    "# Otimizando o modelo"
   ]
  },
  {
   "cell_type": "code",
   "execution_count": 308,
   "metadata": {},
   "outputs": [
    {
     "data": {
      "text/html": [
       "<style  type=\"text/css\" >\n",
       "    #T_d3fd046c_d70e_11eb_8e7a_8cd49ce816f2row10_col0 {\n",
       "            background:  yellow;\n",
       "        }    #T_d3fd046c_d70e_11eb_8e7a_8cd49ce816f2row10_col1 {\n",
       "            background:  yellow;\n",
       "        }    #T_d3fd046c_d70e_11eb_8e7a_8cd49ce816f2row10_col2 {\n",
       "            background:  yellow;\n",
       "        }    #T_d3fd046c_d70e_11eb_8e7a_8cd49ce816f2row10_col3 {\n",
       "            background:  yellow;\n",
       "        }    #T_d3fd046c_d70e_11eb_8e7a_8cd49ce816f2row10_col4 {\n",
       "            background:  yellow;\n",
       "        }    #T_d3fd046c_d70e_11eb_8e7a_8cd49ce816f2row10_col5 {\n",
       "            background:  yellow;\n",
       "        }    #T_d3fd046c_d70e_11eb_8e7a_8cd49ce816f2row10_col6 {\n",
       "            background:  yellow;\n",
       "        }</style><table id=\"T_d3fd046c_d70e_11eb_8e7a_8cd49ce816f2\" ><thead>    <tr>        <th class=\"blank level0\" ></th>        <th class=\"col_heading level0 col0\" >Accuracy</th>        <th class=\"col_heading level0 col1\" >AUC</th>        <th class=\"col_heading level0 col2\" >Recall</th>        <th class=\"col_heading level0 col3\" >Prec.</th>        <th class=\"col_heading level0 col4\" >F1</th>        <th class=\"col_heading level0 col5\" >Kappa</th>        <th class=\"col_heading level0 col6\" >MCC</th>    </tr></thead><tbody>\n",
       "                <tr>\n",
       "                        <th id=\"T_d3fd046c_d70e_11eb_8e7a_8cd49ce816f2level0_row0\" class=\"row_heading level0 row0\" >0</th>\n",
       "                        <td id=\"T_d3fd046c_d70e_11eb_8e7a_8cd49ce816f2row0_col0\" class=\"data row0 col0\" >0.7972</td>\n",
       "                        <td id=\"T_d3fd046c_d70e_11eb_8e7a_8cd49ce816f2row0_col1\" class=\"data row0 col1\" >0.8104</td>\n",
       "                        <td id=\"T_d3fd046c_d70e_11eb_8e7a_8cd49ce816f2row0_col2\" class=\"data row0 col2\" >0.6800</td>\n",
       "                        <td id=\"T_d3fd046c_d70e_11eb_8e7a_8cd49ce816f2row0_col3\" class=\"data row0 col3\" >0.7834</td>\n",
       "                        <td id=\"T_d3fd046c_d70e_11eb_8e7a_8cd49ce816f2row0_col4\" class=\"data row0 col4\" >0.7812</td>\n",
       "                        <td id=\"T_d3fd046c_d70e_11eb_8e7a_8cd49ce816f2row0_col5\" class=\"data row0 col5\" >0.4068</td>\n",
       "                        <td id=\"T_d3fd046c_d70e_11eb_8e7a_8cd49ce816f2row0_col6\" class=\"data row0 col6\" >0.4228</td>\n",
       "            </tr>\n",
       "            <tr>\n",
       "                        <th id=\"T_d3fd046c_d70e_11eb_8e7a_8cd49ce816f2level0_row1\" class=\"row_heading level0 row1\" >1</th>\n",
       "                        <td id=\"T_d3fd046c_d70e_11eb_8e7a_8cd49ce816f2row1_col0\" class=\"data row1 col0\" >0.8012</td>\n",
       "                        <td id=\"T_d3fd046c_d70e_11eb_8e7a_8cd49ce816f2row1_col1\" class=\"data row1 col1\" >0.8120</td>\n",
       "                        <td id=\"T_d3fd046c_d70e_11eb_8e7a_8cd49ce816f2row1_col2\" class=\"data row1 col2\" >0.6927</td>\n",
       "                        <td id=\"T_d3fd046c_d70e_11eb_8e7a_8cd49ce816f2row1_col3\" class=\"data row1 col3\" >0.7886</td>\n",
       "                        <td id=\"T_d3fd046c_d70e_11eb_8e7a_8cd49ce816f2row1_col4\" class=\"data row1 col4\" >0.7882</td>\n",
       "                        <td id=\"T_d3fd046c_d70e_11eb_8e7a_8cd49ce816f2row1_col5\" class=\"data row1 col5\" >0.4283</td>\n",
       "                        <td id=\"T_d3fd046c_d70e_11eb_8e7a_8cd49ce816f2row1_col6\" class=\"data row1 col6\" >0.4405</td>\n",
       "            </tr>\n",
       "            <tr>\n",
       "                        <th id=\"T_d3fd046c_d70e_11eb_8e7a_8cd49ce816f2level0_row2\" class=\"row_heading level0 row2\" >2</th>\n",
       "                        <td id=\"T_d3fd046c_d70e_11eb_8e7a_8cd49ce816f2row2_col0\" class=\"data row2 col0\" >0.8073</td>\n",
       "                        <td id=\"T_d3fd046c_d70e_11eb_8e7a_8cd49ce816f2row2_col1\" class=\"data row2 col1\" >0.8296</td>\n",
       "                        <td id=\"T_d3fd046c_d70e_11eb_8e7a_8cd49ce816f2row2_col2\" class=\"data row2 col2\" >0.6988</td>\n",
       "                        <td id=\"T_d3fd046c_d70e_11eb_8e7a_8cd49ce816f2row2_col3\" class=\"data row2 col3\" >0.7961</td>\n",
       "                        <td id=\"T_d3fd046c_d70e_11eb_8e7a_8cd49ce816f2row2_col4\" class=\"data row2 col4\" >0.7936</td>\n",
       "                        <td id=\"T_d3fd046c_d70e_11eb_8e7a_8cd49ce816f2row2_col5\" class=\"data row2 col5\" >0.4448</td>\n",
       "                        <td id=\"T_d3fd046c_d70e_11eb_8e7a_8cd49ce816f2row2_col6\" class=\"data row2 col6\" >0.4596</td>\n",
       "            </tr>\n",
       "            <tr>\n",
       "                        <th id=\"T_d3fd046c_d70e_11eb_8e7a_8cd49ce816f2level0_row3\" class=\"row_heading level0 row3\" >3</th>\n",
       "                        <td id=\"T_d3fd046c_d70e_11eb_8e7a_8cd49ce816f2row3_col0\" class=\"data row3 col0\" >0.7809</td>\n",
       "                        <td id=\"T_d3fd046c_d70e_11eb_8e7a_8cd49ce816f2row3_col1\" class=\"data row3 col1\" >0.7954</td>\n",
       "                        <td id=\"T_d3fd046c_d70e_11eb_8e7a_8cd49ce816f2row3_col2\" class=\"data row3 col2\" >0.6735</td>\n",
       "                        <td id=\"T_d3fd046c_d70e_11eb_8e7a_8cd49ce816f2row3_col3\" class=\"data row3 col3\" >0.7661</td>\n",
       "                        <td id=\"T_d3fd046c_d70e_11eb_8e7a_8cd49ce816f2row3_col4\" class=\"data row3 col4\" >0.7685</td>\n",
       "                        <td id=\"T_d3fd046c_d70e_11eb_8e7a_8cd49ce816f2row3_col5\" class=\"data row3 col5\" >0.3808</td>\n",
       "                        <td id=\"T_d3fd046c_d70e_11eb_8e7a_8cd49ce816f2row3_col6\" class=\"data row3 col6\" >0.3892</td>\n",
       "            </tr>\n",
       "            <tr>\n",
       "                        <th id=\"T_d3fd046c_d70e_11eb_8e7a_8cd49ce816f2level0_row4\" class=\"row_heading level0 row4\" >4</th>\n",
       "                        <td id=\"T_d3fd046c_d70e_11eb_8e7a_8cd49ce816f2row4_col0\" class=\"data row4 col0\" >0.7931</td>\n",
       "                        <td id=\"T_d3fd046c_d70e_11eb_8e7a_8cd49ce816f2row4_col1\" class=\"data row4 col1\" >0.8445</td>\n",
       "                        <td id=\"T_d3fd046c_d70e_11eb_8e7a_8cd49ce816f2row4_col2\" class=\"data row4 col2\" >0.6966</td>\n",
       "                        <td id=\"T_d3fd046c_d70e_11eb_8e7a_8cd49ce816f2row4_col3\" class=\"data row4 col3\" >0.7814</td>\n",
       "                        <td id=\"T_d3fd046c_d70e_11eb_8e7a_8cd49ce816f2row4_col4\" class=\"data row4 col4\" >0.7837</td>\n",
       "                        <td id=\"T_d3fd046c_d70e_11eb_8e7a_8cd49ce816f2row4_col5\" class=\"data row4 col5\" >0.4246</td>\n",
       "                        <td id=\"T_d3fd046c_d70e_11eb_8e7a_8cd49ce816f2row4_col6\" class=\"data row4 col6\" >0.4308</td>\n",
       "            </tr>\n",
       "            <tr>\n",
       "                        <th id=\"T_d3fd046c_d70e_11eb_8e7a_8cd49ce816f2level0_row5\" class=\"row_heading level0 row5\" >5</th>\n",
       "                        <td id=\"T_d3fd046c_d70e_11eb_8e7a_8cd49ce816f2row5_col0\" class=\"data row5 col0\" >0.7748</td>\n",
       "                        <td id=\"T_d3fd046c_d70e_11eb_8e7a_8cd49ce816f2row5_col1\" class=\"data row5 col1\" >0.7830</td>\n",
       "                        <td id=\"T_d3fd046c_d70e_11eb_8e7a_8cd49ce816f2row5_col2\" class=\"data row5 col2\" >0.6595</td>\n",
       "                        <td id=\"T_d3fd046c_d70e_11eb_8e7a_8cd49ce816f2row5_col3\" class=\"data row5 col3\" >0.7578</td>\n",
       "                        <td id=\"T_d3fd046c_d70e_11eb_8e7a_8cd49ce816f2row5_col4\" class=\"data row5 col4\" >0.7598</td>\n",
       "                        <td id=\"T_d3fd046c_d70e_11eb_8e7a_8cd49ce816f2row5_col5\" class=\"data row5 col5\" >0.3549</td>\n",
       "                        <td id=\"T_d3fd046c_d70e_11eb_8e7a_8cd49ce816f2row5_col6\" class=\"data row5 col6\" >0.3654</td>\n",
       "            </tr>\n",
       "            <tr>\n",
       "                        <th id=\"T_d3fd046c_d70e_11eb_8e7a_8cd49ce816f2level0_row6\" class=\"row_heading level0 row6\" >6</th>\n",
       "                        <td id=\"T_d3fd046c_d70e_11eb_8e7a_8cd49ce816f2row6_col0\" class=\"data row6 col0\" >0.7931</td>\n",
       "                        <td id=\"T_d3fd046c_d70e_11eb_8e7a_8cd49ce816f2row6_col1\" class=\"data row6 col1\" >0.7945</td>\n",
       "                        <td id=\"T_d3fd046c_d70e_11eb_8e7a_8cd49ce816f2row6_col2\" class=\"data row6 col2\" >0.6743</td>\n",
       "                        <td id=\"T_d3fd046c_d70e_11eb_8e7a_8cd49ce816f2row6_col3\" class=\"data row6 col3\" >0.7788</td>\n",
       "                        <td id=\"T_d3fd046c_d70e_11eb_8e7a_8cd49ce816f2row6_col4\" class=\"data row6 col4\" >0.7761</td>\n",
       "                        <td id=\"T_d3fd046c_d70e_11eb_8e7a_8cd49ce816f2row6_col5\" class=\"data row6 col5\" >0.3956</td>\n",
       "                        <td id=\"T_d3fd046c_d70e_11eb_8e7a_8cd49ce816f2row6_col6\" class=\"data row6 col6\" >0.4126</td>\n",
       "            </tr>\n",
       "            <tr>\n",
       "                        <th id=\"T_d3fd046c_d70e_11eb_8e7a_8cd49ce816f2level0_row7\" class=\"row_heading level0 row7\" >7</th>\n",
       "                        <td id=\"T_d3fd046c_d70e_11eb_8e7a_8cd49ce816f2row7_col0\" class=\"data row7 col0\" >0.7992</td>\n",
       "                        <td id=\"T_d3fd046c_d70e_11eb_8e7a_8cd49ce816f2row7_col1\" class=\"data row7 col1\" >0.8282</td>\n",
       "                        <td id=\"T_d3fd046c_d70e_11eb_8e7a_8cd49ce816f2row7_col2\" class=\"data row7 col2\" >0.6834</td>\n",
       "                        <td id=\"T_d3fd046c_d70e_11eb_8e7a_8cd49ce816f2row7_col3\" class=\"data row7 col3\" >0.7863</td>\n",
       "                        <td id=\"T_d3fd046c_d70e_11eb_8e7a_8cd49ce816f2row7_col4\" class=\"data row7 col4\" >0.7831</td>\n",
       "                        <td id=\"T_d3fd046c_d70e_11eb_8e7a_8cd49ce816f2row7_col5\" class=\"data row7 col5\" >0.4150</td>\n",
       "                        <td id=\"T_d3fd046c_d70e_11eb_8e7a_8cd49ce816f2row7_col6\" class=\"data row7 col6\" >0.4320</td>\n",
       "            </tr>\n",
       "            <tr>\n",
       "                        <th id=\"T_d3fd046c_d70e_11eb_8e7a_8cd49ce816f2level0_row8\" class=\"row_heading level0 row8\" >8</th>\n",
       "                        <td id=\"T_d3fd046c_d70e_11eb_8e7a_8cd49ce816f2row8_col0\" class=\"data row8 col0\" >0.8174</td>\n",
       "                        <td id=\"T_d3fd046c_d70e_11eb_8e7a_8cd49ce816f2row8_col1\" class=\"data row8 col1\" >0.8271</td>\n",
       "                        <td id=\"T_d3fd046c_d70e_11eb_8e7a_8cd49ce816f2row8_col2\" class=\"data row8 col2\" >0.7057</td>\n",
       "                        <td id=\"T_d3fd046c_d70e_11eb_8e7a_8cd49ce816f2row8_col3\" class=\"data row8 col3\" >0.8089</td>\n",
       "                        <td id=\"T_d3fd046c_d70e_11eb_8e7a_8cd49ce816f2row8_col4\" class=\"data row8 col4\" >0.8024</td>\n",
       "                        <td id=\"T_d3fd046c_d70e_11eb_8e7a_8cd49ce816f2row8_col5\" class=\"data row8 col5\" >0.4667</td>\n",
       "                        <td id=\"T_d3fd046c_d70e_11eb_8e7a_8cd49ce816f2row8_col6\" class=\"data row8 col6\" >0.4868</td>\n",
       "            </tr>\n",
       "            <tr>\n",
       "                        <th id=\"T_d3fd046c_d70e_11eb_8e7a_8cd49ce816f2level0_row9\" class=\"row_heading level0 row9\" >9</th>\n",
       "                        <td id=\"T_d3fd046c_d70e_11eb_8e7a_8cd49ce816f2row9_col0\" class=\"data row9 col0\" >0.8114</td>\n",
       "                        <td id=\"T_d3fd046c_d70e_11eb_8e7a_8cd49ce816f2row9_col1\" class=\"data row9 col1\" >0.8293</td>\n",
       "                        <td id=\"T_d3fd046c_d70e_11eb_8e7a_8cd49ce816f2row9_col2\" class=\"data row9 col2\" >0.7213</td>\n",
       "                        <td id=\"T_d3fd046c_d70e_11eb_8e7a_8cd49ce816f2row9_col3\" class=\"data row9 col3\" >0.8019</td>\n",
       "                        <td id=\"T_d3fd046c_d70e_11eb_8e7a_8cd49ce816f2row9_col4\" class=\"data row9 col4\" >0.8031</td>\n",
       "                        <td id=\"T_d3fd046c_d70e_11eb_8e7a_8cd49ce816f2row9_col5\" class=\"data row9 col5\" >0.4767</td>\n",
       "                        <td id=\"T_d3fd046c_d70e_11eb_8e7a_8cd49ce816f2row9_col6\" class=\"data row9 col6\" >0.4832</td>\n",
       "            </tr>\n",
       "            <tr>\n",
       "                        <th id=\"T_d3fd046c_d70e_11eb_8e7a_8cd49ce816f2level0_row10\" class=\"row_heading level0 row10\" >Mean</th>\n",
       "                        <td id=\"T_d3fd046c_d70e_11eb_8e7a_8cd49ce816f2row10_col0\" class=\"data row10 col0\" >0.7976</td>\n",
       "                        <td id=\"T_d3fd046c_d70e_11eb_8e7a_8cd49ce816f2row10_col1\" class=\"data row10 col1\" >0.8154</td>\n",
       "                        <td id=\"T_d3fd046c_d70e_11eb_8e7a_8cd49ce816f2row10_col2\" class=\"data row10 col2\" >0.6886</td>\n",
       "                        <td id=\"T_d3fd046c_d70e_11eb_8e7a_8cd49ce816f2row10_col3\" class=\"data row10 col3\" >0.7849</td>\n",
       "                        <td id=\"T_d3fd046c_d70e_11eb_8e7a_8cd49ce816f2row10_col4\" class=\"data row10 col4\" >0.7840</td>\n",
       "                        <td id=\"T_d3fd046c_d70e_11eb_8e7a_8cd49ce816f2row10_col5\" class=\"data row10 col5\" >0.4194</td>\n",
       "                        <td id=\"T_d3fd046c_d70e_11eb_8e7a_8cd49ce816f2row10_col6\" class=\"data row10 col6\" >0.4323</td>\n",
       "            </tr>\n",
       "            <tr>\n",
       "                        <th id=\"T_d3fd046c_d70e_11eb_8e7a_8cd49ce816f2level0_row11\" class=\"row_heading level0 row11\" >SD</th>\n",
       "                        <td id=\"T_d3fd046c_d70e_11eb_8e7a_8cd49ce816f2row11_col0\" class=\"data row11 col0\" >0.0124</td>\n",
       "                        <td id=\"T_d3fd046c_d70e_11eb_8e7a_8cd49ce816f2row11_col1\" class=\"data row11 col1\" >0.0186</td>\n",
       "                        <td id=\"T_d3fd046c_d70e_11eb_8e7a_8cd49ce816f2row11_col2\" class=\"data row11 col2\" >0.0171</td>\n",
       "                        <td id=\"T_d3fd046c_d70e_11eb_8e7a_8cd49ce816f2row11_col3\" class=\"data row11 col3\" >0.0146</td>\n",
       "                        <td id=\"T_d3fd046c_d70e_11eb_8e7a_8cd49ce816f2row11_col4\" class=\"data row11 col4\" >0.0131</td>\n",
       "                        <td id=\"T_d3fd046c_d70e_11eb_8e7a_8cd49ce816f2row11_col5\" class=\"data row11 col5\" >0.0356</td>\n",
       "                        <td id=\"T_d3fd046c_d70e_11eb_8e7a_8cd49ce816f2row11_col6\" class=\"data row11 col6\" >0.0363</td>\n",
       "            </tr>\n",
       "    </tbody></table>"
      ],
      "text/plain": [
       "<pandas.io.formats.style.Styler at 0x1c248aacb80>"
      ]
     },
     "metadata": {},
     "output_type": "display_data"
    }
   ],
   "source": [
    "tuned_cat = tune_model(catboost, fold=10)"
   ]
  },
  {
   "cell_type": "code",
   "execution_count": 312,
   "metadata": {},
   "outputs": [
    {
     "data": {
      "image/png": "[encoded data removed]",
      "text/plain": [
       "<Figure size 1080x576 with 1 Axes>"
      ]
     },
     "metadata": {},
     "output_type": "display_data"
    }
   ],
   "source": [
    "fig=plt.figure(figsize=(15,8))\n",
    "plot_model(tuned_cat)"
   ]
  },
  {
   "cell_type": "markdown",
   "metadata": {},
   "source": [
    "# Visualizando o erro do modelo"
   ]
  },
  {
   "cell_type": "code",
   "execution_count": 316,
   "metadata": {},
   "outputs": [
    {
     "data": {
      "image/png": "[encoded data removed]",
      "text/plain": [
       "<Figure size 1080x576 with 1 Axes>"
      ]
     },
     "metadata": {},
     "output_type": "display_data"
    }
   ],
   "source": [
    "fig=plt.figure(figsize=(15,8))\n",
    "plot_model(tuned_cat, plot = 'error')"
   ]
  },
  {
   "cell_type": "markdown",
   "metadata": {},
   "source": [
    "# Visualizando as features importantes"
   ]
  },
  {
   "cell_type": "code",
   "execution_count": 317,
   "metadata": {},
   "outputs": [
    {
     "data": {
      "image/png": "[encoded data removed]",
      "text/plain": [
       "<Figure size 800x500 with 1 Axes>"
      ]
     },
     "metadata": {},
     "output_type": "display_data"
    }
   ],
   "source": [
    "plot_model(tuned_cat, plot='feature')"
   ]
  },
  {
   "cell_type": "markdown",
   "metadata": {},
   "source": [
    "# Finaliza o modelo"
   ]
  },
  {
   "cell_type": "code",
   "execution_count": 318,
   "metadata": {},
   "outputs": [],
   "source": [
    "final_cat = finalize_model(tuned_cat)"
   ]
  },
  {
   "cell_type": "markdown",
   "metadata": {},
   "source": [
    "# Persistindo o modelo"
   ]
  },
  {
   "cell_type": "code",
   "execution_count": 319,
   "metadata": {},
   "outputs": [
    {
     "name": "stdout",
     "output_type": "stream",
     "text": [
      "Transformation Pipeline and Model Succesfully Saved\n"
     ]
    },
    {
     "data": {
      "text/plain": [
       "(Pipeline(memory=None,\n",
       "          steps=[('dtypes',\n",
       "                  DataTypes_Auto_infer(categorical_features=[],\n",
       "                                       display_types=True, features_todrop=[],\n",
       "                                       id_columns=[],\n",
       "                                       ml_usecase='classification',\n",
       "                                       numerical_features=['MonthlyCharges',\n",
       "                                                           'TotalCharges',\n",
       "                                                           'tenure'],\n",
       "                                       target='Churn', time_features=[])),\n",
       "                 ('imputer',\n",
       "                  Simple_Imputer(categorical_strategy='not_available',\n",
       "                                 fill_value_categorical=None,...\n",
       "                 ('binn', 'passthrough'), ('rem_outliers', 'passthrough'),\n",
       "                 ('cluster_all', 'passthrough'),\n",
       "                 ('dummy', Dummify(target='Churn')),\n",
       "                 ('fix_perfect', Remove_100(target='Churn')),\n",
       "                 ('clean_names', Clean_Colum_Names()),\n",
       "                 ('feature_select', 'passthrough'), ('fix_multi', 'passthrough'),\n",
       "                 ('dfs', 'passthrough'), ('pca', 'passthrough'),\n",
       "                 ['trained_model',\n",
       "                  <catboost.core.CatBoostClassifier object at 0x000001C23A1FC340>]],\n",
       "          verbose=False),\n",
       " 'modelo-final.pkl')"
      ]
     },
     "execution_count": 319,
     "metadata": {},
     "output_type": "execute_result"
    }
   ],
   "source": [
    "save_model(final_cat,'modelo-final')"
   ]
  },
  {
   "cell_type": "code",
   "execution_count": null,
   "metadata": {},
   "outputs": [],
   "source": []
  }
 ],
 "metadata": {
  "kernelspec": {
   "display_name": "Python 3",
   "language": "python",
   "name": "python3"
  },
  "language_info": {
   "codemirror_mode": {
    "name": "ipython",
    "version": 3
   },
   "file_extension": ".py",
   "mimetype": "text/x-python",
   "name": "python",
   "nbconvert_exporter": "python",
   "pygments_lexer": "ipython3",
   "version": "3.8.3"
  }
 },
 "nbformat": 4,
 "nbformat_minor": 4
}
